{
 "cells": [
  {
   "cell_type": "code",
   "execution_count": 1,
   "id": "c00c1647",
   "metadata": {},
   "outputs": [
    {
     "name": "stdout",
     "output_type": "stream",
     "text": [
      "      year  driverId      driver_name  points  place\n",
      "73    1950       642      Nino Farina    30.0      1\n",
      "66    1950       579      Juan Fangio    27.0      2\n",
      "72    1950       786    Luigi Fagioli    24.0      3\n",
      "70    1950       627     Louis Rosier    13.0      4\n",
      "56    1950       647   Alberto Ascari    11.0      5\n",
      "...    ...       ...              ...     ...    ...\n",
      "3133  2022       855      Guanyu Zhou     6.0     18\n",
      "3136  2022       848  Alexander Albon     4.0     19\n",
      "3139  2022       849  Nicholas Latifi     2.0     20\n",
      "3145  2022       856    Nyck de Vries     2.0     20\n",
      "3140  2022       807  Nico Hülkenberg     0.0     22\n",
      "\n",
      "[3146 rows x 5 columns]\n"
     ]
    }
   ],
   "source": [
    "import sqlite3\n",
    "import pandas as pd\n",
    "import nbimporter\n",
    "from final_scores import calculate_final_driver_places \n",
    "\n",
    "conn = sqlite3.connect('formula1.db')\n",
    "\n",
    "drivers_final_positions = calculate_final_driver_places(conn)\n",
    "\n",
    "print(drivers_final_positions)"
   ]
  },
  {
   "cell_type": "code",
   "execution_count": 2,
   "id": "30001dcb",
   "metadata": {},
   "outputs": [],
   "source": [
    "csv_file_path_reshaped = '5.csv'\n",
    "drivers_final_positions.to_csv(csv_file_path_reshaped, index=False)"
   ]
  },
  {
   "cell_type": "code",
   "execution_count": 3,
   "id": "7e6528f6",
   "metadata": {},
   "outputs": [
    {
     "name": "stdout",
     "output_type": "stream",
     "text": [
      "     driverId outlier_years\n",
      "0           1            []\n",
      "1           2            []\n",
      "2           3            []\n",
      "3           4            []\n",
      "4           5            []\n",
      "..        ...           ...\n",
      "843       852            []\n",
      "844       853            []\n",
      "845       854            []\n",
      "846       855            []\n",
      "847       856            []\n",
      "\n",
      "[848 rows x 2 columns]\n"
     ]
    }
   ],
   "source": [
    "import pandas as pd\n",
    "\n",
    "# Assuming you have the 'drivers_final_positions' DataFrame with columns: year, driverId, driver_name, points, place\n",
    "\n",
    "def identify_driver_outlier_years(group):\n",
    "    Q1 = group['points'].quantile(0.25)\n",
    "    Q3 = group['points'].quantile(0.75)\n",
    "    IQR = Q3 - Q1\n",
    "    lower_bound = Q1 - 1.5 * IQR\n",
    "    upper_bound = Q3 + 1.5 * IQR\n",
    "    outliers_mask = (group['points'] < lower_bound) | (group['points'] > upper_bound)\n",
    "    outlier_years = group.loc[outliers_mask, 'year'].tolist()\n",
    "    return outlier_years\n",
    "\n",
    "# Group by driverId and apply the identify_driver_outlier_years function to each driver's points\n",
    "driver_outlier_years = drivers_final_positions.groupby('driverId').apply(identify_driver_outlier_years)\n",
    "\n",
    "# Convert the result to a DataFrame\n",
    "driver_outlier_years_df = pd.DataFrame(driver_outlier_years, columns=['outlier_years']).reset_index()\n",
    "\n",
    "# Print or further analyze the outlier years\n",
    "print(driver_outlier_years_df)\n"
   ]
  },
  {
   "cell_type": "code",
   "execution_count": 5,
   "id": "1792bf5d",
   "metadata": {},
   "outputs": [],
   "source": [
    "csv_file_path_reshaped = '6.csv'\n",
    "driver_outlier_years_df.to_csv(csv_file_path_reshaped, index=False)"
   ]
  },
  {
   "cell_type": "code",
   "execution_count": null,
   "id": "55ffda92",
   "metadata": {},
   "outputs": [],
   "source": []
  }
 ],
 "metadata": {
  "kernelspec": {
   "display_name": "Python 3 (ipykernel)",
   "language": "python",
   "name": "python3"
  },
  "language_info": {
   "codemirror_mode": {
    "name": "ipython",
    "version": 3
   },
   "file_extension": ".py",
   "mimetype": "text/x-python",
   "name": "python",
   "nbconvert_exporter": "python",
   "pygments_lexer": "ipython3",
   "version": "3.11.5"
  }
 },
 "nbformat": 4,
 "nbformat_minor": 5
}
