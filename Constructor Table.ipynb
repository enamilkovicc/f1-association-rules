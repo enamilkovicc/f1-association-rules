{
 "cells": [
  {
   "cell_type": "code",
   "execution_count": 1,
   "id": "f8786ca1",
   "metadata": {
    "scrolled": true
   },
   "outputs": [
    {
     "name": "stdout",
     "output_type": "stream",
     "text": [
      "     constructorId            name nationality\n",
      "0                1         McLaren     British\n",
      "1                2      BMW Sauber      German\n",
      "2                3        Williams     British\n",
      "3                4         Renault      French\n",
      "4                5      Toro Rosso     Italian\n",
      "..             ...             ...         ...\n",
      "206            209  Manor Marussia     British\n",
      "207            210    Haas F1 Team    American\n",
      "208            211    Racing Point     British\n",
      "209            213      AlphaTauri     Italian\n",
      "210            214  Alpine F1 Team      French\n",
      "\n",
      "[211 rows x 3 columns]\n"
     ]
    }
   ],
   "source": [
    "import sqlite3\n",
    "import pandas as pd\n",
    "\n",
    "conn = sqlite3.connect('formula1-originalDB.db')\n",
    "\n",
    "query = '''\n",
    "SELECT\n",
    "    constructorId,\n",
    "    name,\n",
    "    nationality\n",
    "FROM\n",
    "    constructors;\n",
    "'''\n",
    "constructors_df = pd.read_sql_query(query, conn)\n",
    "\n",
    "print(constructors_df)\n"
   ]
  },
  {
   "cell_type": "code",
   "execution_count": 2,
   "id": "cd09b727",
   "metadata": {},
   "outputs": [
    {
     "name": "stdout",
     "output_type": "stream",
     "text": [
      "     year  constructorId constructor_name  points  place\n",
      "0    2022              9         Red Bull   759.0      1\n",
      "1    2022              6          Ferrari   554.0      2\n",
      "2    2022            131         Mercedes   515.0      3\n",
      "3    2022            214   Alpine F1 Team   173.0      4\n",
      "4    2022              1          McLaren   159.0      5\n",
      "..    ...            ...              ...     ...    ...\n",
      "895  1958            105         Maserati     6.0      5\n",
      "896  1958             32       Team Lotus     3.0      6\n",
      "897  1958            125        Connaught     0.0      7\n",
      "898  1958            127             OSCA     0.0      7\n",
      "899  1958             95          Porsche     0.0      7\n",
      "\n",
      "[900 rows x 5 columns]\n"
     ]
    }
   ],
   "source": [
    "import pandas as pd\n",
    "import sqlite3\n",
    "\n",
    "# Assuming 'conn' is your SQLite connection\n",
    "conn = sqlite3.connect('formula1.db')\n",
    "\n",
    "# Your SQL query for constructor standings\n",
    "constructor_points_query = '''\n",
    "    WITH LastRacePerSeason AS (\n",
    "    SELECT\n",
    "        r.year,\n",
    "        MAX(r.date) AS last_race_date\n",
    "    FROM\n",
    "        races r\n",
    "    WHERE\n",
    "        r.year BETWEEN 1950 AND 2022\n",
    "    GROUP BY\n",
    "        r.year\n",
    ")\n",
    "\n",
    "SELECT\n",
    "    lrs.year,\n",
    "    cs.constructorId,\n",
    "    c.name AS constructor_name,\n",
    "    cs.points,\n",
    "    RANK() OVER (PARTITION BY lrs.year ORDER BY cs.points DESC) AS place\n",
    "FROM\n",
    "    LastRacePerSeason lrs\n",
    "JOIN\n",
    "    races r ON lrs.year = r.year AND lrs.last_race_date = r.date\n",
    "JOIN\n",
    "    constructor_standings cs ON r.raceId = cs.raceId\n",
    "JOIN\n",
    "    constructors c ON cs.constructorId = c.constructorId\n",
    "ORDER BY\n",
    "    lrs.year DESC, cs.points DESC;\n",
    "\n",
    "'''\n",
    "\n",
    "# Execute the query and create a DataFrame\n",
    "constructor_points_df = pd.read_sql_query(constructor_points_query, conn)\n",
    "\n",
    "# Display the resulting DataFrame\n",
    "print(constructor_points_df)\n"
   ]
  },
  {
   "cell_type": "code",
   "execution_count": 5,
   "id": "d32ca61d",
   "metadata": {},
   "outputs": [
    {
     "ename": "DatabaseError",
     "evalue": "Execution failed on sql '\nSELECT\n    constructorId,\n    JSON_GROUP_ARRAY(\n        JSON_OBJECT(\n            'year', year,\n            'points', points,\n            'place', place\n        )\n    ) AS years_points_places\nFROM\n    (\n         WITH LastRacePerSeason AS (\n    SELECT\n        r.year,\n        MAX(r.date) AS last_race_date\n    FROM\n        races r\n    WHERE\n        r.year BETWEEN 1950 AND 2022\n    GROUP BY\n        r.year\n)\n\nSELECT\n    lrs.year,\n    cs.constructorId,\n    c.name AS constructor_name,\n    cs.points,\n    RANK() OVER (PARTITION BY lrs.year ORDER BY cs.points DESC) AS place\nFROM\n    LastRacePerSeason lrs\nJOIN\n    races r ON lrs.year = r.year AND lrs.last_race_date = r.date\nJOIN\n    constructor_standings cs ON r.raceId = cs.raceId\nJOIN\n    constructors c ON cs.constructorId = c.constructorId\nORDER BY\n    lrs.year DESC, cs.points DESC;\n\n': near \";\": syntax error",
     "output_type": "error",
     "traceback": [
      "\u001b[1;31m---------------------------------------------------------------------------\u001b[0m",
      "\u001b[1;31mOperationalError\u001b[0m                          Traceback (most recent call last)",
      "File \u001b[1;32m~\\anaconda3\\Lib\\site-packages\\pandas\\io\\sql.py:2202\u001b[0m, in \u001b[0;36mSQLiteDatabase.execute\u001b[1;34m(self, sql, params)\u001b[0m\n\u001b[0;32m   2201\u001b[0m \u001b[38;5;28;01mtry\u001b[39;00m:\n\u001b[1;32m-> 2202\u001b[0m     cur\u001b[38;5;241m.\u001b[39mexecute(sql, \u001b[38;5;241m*\u001b[39margs)\n\u001b[0;32m   2203\u001b[0m     \u001b[38;5;28;01mreturn\u001b[39;00m cur\n",
      "\u001b[1;31mOperationalError\u001b[0m: near \";\": syntax error",
      "\nThe above exception was the direct cause of the following exception:\n",
      "\u001b[1;31mDatabaseError\u001b[0m                             Traceback (most recent call last)",
      "Cell \u001b[1;32mIn[5], line 44\u001b[0m\n\u001b[0;32m      1\u001b[0m reshaped_query \u001b[38;5;241m=\u001b[39m \u001b[38;5;124m'''\u001b[39m\n\u001b[0;32m      2\u001b[0m \u001b[38;5;124mSELECT\u001b[39m\n\u001b[0;32m      3\u001b[0m \u001b[38;5;124m    constructorId,\u001b[39m\n\u001b[1;32m   (...)\u001b[0m\n\u001b[0;32m     41\u001b[0m \n\u001b[0;32m     42\u001b[0m \u001b[38;5;124m'''\u001b[39m\n\u001b[1;32m---> 44\u001b[0m reshaped_df \u001b[38;5;241m=\u001b[39m pd\u001b[38;5;241m.\u001b[39mread_sql_query(reshaped_query, conn)\n\u001b[0;32m     46\u001b[0m \u001b[38;5;28mprint\u001b[39m(reshaped_df)\n",
      "File \u001b[1;32m~\\anaconda3\\Lib\\site-packages\\pandas\\io\\sql.py:469\u001b[0m, in \u001b[0;36mread_sql_query\u001b[1;34m(sql, con, index_col, coerce_float, params, parse_dates, chunksize, dtype, dtype_backend)\u001b[0m\n\u001b[0;32m    466\u001b[0m     dtype_backend \u001b[38;5;241m=\u001b[39m \u001b[38;5;124m\"\u001b[39m\u001b[38;5;124mnumpy\u001b[39m\u001b[38;5;124m\"\u001b[39m  \u001b[38;5;66;03m# type: ignore[assignment]\u001b[39;00m\n\u001b[0;32m    468\u001b[0m \u001b[38;5;28;01mwith\u001b[39;00m pandasSQL_builder(con) \u001b[38;5;28;01mas\u001b[39;00m pandas_sql:\n\u001b[1;32m--> 469\u001b[0m     \u001b[38;5;28;01mreturn\u001b[39;00m pandas_sql\u001b[38;5;241m.\u001b[39mread_query(\n\u001b[0;32m    470\u001b[0m         sql,\n\u001b[0;32m    471\u001b[0m         index_col\u001b[38;5;241m=\u001b[39mindex_col,\n\u001b[0;32m    472\u001b[0m         params\u001b[38;5;241m=\u001b[39mparams,\n\u001b[0;32m    473\u001b[0m         coerce_float\u001b[38;5;241m=\u001b[39mcoerce_float,\n\u001b[0;32m    474\u001b[0m         parse_dates\u001b[38;5;241m=\u001b[39mparse_dates,\n\u001b[0;32m    475\u001b[0m         chunksize\u001b[38;5;241m=\u001b[39mchunksize,\n\u001b[0;32m    476\u001b[0m         dtype\u001b[38;5;241m=\u001b[39mdtype,\n\u001b[0;32m    477\u001b[0m         dtype_backend\u001b[38;5;241m=\u001b[39mdtype_backend,\n\u001b[0;32m    478\u001b[0m     )\n",
      "File \u001b[1;32m~\\anaconda3\\Lib\\site-packages\\pandas\\io\\sql.py:2266\u001b[0m, in \u001b[0;36mSQLiteDatabase.read_query\u001b[1;34m(self, sql, index_col, coerce_float, parse_dates, params, chunksize, dtype, dtype_backend)\u001b[0m\n\u001b[0;32m   2255\u001b[0m \u001b[38;5;28;01mdef\u001b[39;00m \u001b[38;5;21mread_query\u001b[39m(\n\u001b[0;32m   2256\u001b[0m     \u001b[38;5;28mself\u001b[39m,\n\u001b[0;32m   2257\u001b[0m     sql,\n\u001b[1;32m   (...)\u001b[0m\n\u001b[0;32m   2264\u001b[0m     dtype_backend: DtypeBackend \u001b[38;5;241m|\u001b[39m Literal[\u001b[38;5;124m\"\u001b[39m\u001b[38;5;124mnumpy\u001b[39m\u001b[38;5;124m\"\u001b[39m] \u001b[38;5;241m=\u001b[39m \u001b[38;5;124m\"\u001b[39m\u001b[38;5;124mnumpy\u001b[39m\u001b[38;5;124m\"\u001b[39m,\n\u001b[0;32m   2265\u001b[0m ) \u001b[38;5;241m-\u001b[39m\u001b[38;5;241m>\u001b[39m DataFrame \u001b[38;5;241m|\u001b[39m Iterator[DataFrame]:\n\u001b[1;32m-> 2266\u001b[0m     cursor \u001b[38;5;241m=\u001b[39m \u001b[38;5;28mself\u001b[39m\u001b[38;5;241m.\u001b[39mexecute(sql, params)\n\u001b[0;32m   2267\u001b[0m     columns \u001b[38;5;241m=\u001b[39m [col_desc[\u001b[38;5;241m0\u001b[39m] \u001b[38;5;28;01mfor\u001b[39;00m col_desc \u001b[38;5;129;01min\u001b[39;00m cursor\u001b[38;5;241m.\u001b[39mdescription]\n\u001b[0;32m   2269\u001b[0m     \u001b[38;5;28;01mif\u001b[39;00m chunksize \u001b[38;5;129;01mis\u001b[39;00m \u001b[38;5;129;01mnot\u001b[39;00m \u001b[38;5;28;01mNone\u001b[39;00m:\n",
      "File \u001b[1;32m~\\anaconda3\\Lib\\site-packages\\pandas\\io\\sql.py:2214\u001b[0m, in \u001b[0;36mSQLiteDatabase.execute\u001b[1;34m(self, sql, params)\u001b[0m\n\u001b[0;32m   2211\u001b[0m     \u001b[38;5;28;01mraise\u001b[39;00m ex \u001b[38;5;28;01mfrom\u001b[39;00m \u001b[38;5;21;01minner_exc\u001b[39;00m\n\u001b[0;32m   2213\u001b[0m ex \u001b[38;5;241m=\u001b[39m DatabaseError(\u001b[38;5;124mf\u001b[39m\u001b[38;5;124m\"\u001b[39m\u001b[38;5;124mExecution failed on sql \u001b[39m\u001b[38;5;124m'\u001b[39m\u001b[38;5;132;01m{\u001b[39;00msql\u001b[38;5;132;01m}\u001b[39;00m\u001b[38;5;124m'\u001b[39m\u001b[38;5;124m: \u001b[39m\u001b[38;5;132;01m{\u001b[39;00mexc\u001b[38;5;132;01m}\u001b[39;00m\u001b[38;5;124m\"\u001b[39m)\n\u001b[1;32m-> 2214\u001b[0m \u001b[38;5;28;01mraise\u001b[39;00m ex \u001b[38;5;28;01mfrom\u001b[39;00m \u001b[38;5;21;01mexc\u001b[39;00m\n",
      "\u001b[1;31mDatabaseError\u001b[0m: Execution failed on sql '\nSELECT\n    constructorId,\n    JSON_GROUP_ARRAY(\n        JSON_OBJECT(\n            'year', year,\n            'points', points,\n            'place', place\n        )\n    ) AS years_points_places\nFROM\n    (\n         WITH LastRacePerSeason AS (\n    SELECT\n        r.year,\n        MAX(r.date) AS last_race_date\n    FROM\n        races r\n    WHERE\n        r.year BETWEEN 1950 AND 2022\n    GROUP BY\n        r.year\n)\n\nSELECT\n    lrs.year,\n    cs.constructorId,\n    c.name AS constructor_name,\n    cs.points,\n    RANK() OVER (PARTITION BY lrs.year ORDER BY cs.points DESC) AS place\nFROM\n    LastRacePerSeason lrs\nJOIN\n    races r ON lrs.year = r.year AND lrs.last_race_date = r.date\nJOIN\n    constructor_standings cs ON r.raceId = cs.raceId\nJOIN\n    constructors c ON cs.constructorId = c.constructorId\nORDER BY\n    lrs.year DESC, cs.points DESC;\n\n': near \";\": syntax error"
     ]
    }
   ],
   "source": [
    "reshaped_query = '''\n",
    "SELECT\n",
    "    constructorId,\n",
    "    JSON_GROUP_ARRAY(\n",
    "        JSON_OBJECT(\n",
    "            'year', year,\n",
    "            'points', points,\n",
    "            'place', place\n",
    "        )\n",
    "    ) AS years_points_places\n",
    "FROM\n",
    "    (\n",
    "         WITH LastRacePerSeason AS (\n",
    "    SELECT\n",
    "        r.year,\n",
    "        MAX(r.date) AS last_race_date\n",
    "    FROM\n",
    "        races r\n",
    "    WHERE\n",
    "        r.year BETWEEN 1950 AND 2022\n",
    "    GROUP BY\n",
    "        r.year\n",
    ")\n",
    "\n",
    "SELECT\n",
    "    lrs.year,\n",
    "    cs.constructorId,\n",
    "    c.name AS constructor_name,\n",
    "    cs.points,\n",
    "    RANK() OVER (PARTITION BY lrs.year ORDER BY cs.points DESC) AS place\n",
    "FROM\n",
    "    LastRacePerSeason lrs\n",
    "JOIN\n",
    "    races r ON lrs.year = r.year AND lrs.last_race_date = r.date\n",
    "JOIN\n",
    "    constructor_standings cs ON r.raceId = cs.raceId\n",
    "JOIN\n",
    "    constructors c ON cs.constructorId = c.constructorId\n",
    "ORDER BY\n",
    "    lrs.year DESC, cs.points DESC;\n",
    "\n",
    "'''\n",
    "\n",
    "reshaped_df = pd.read_sql_query(reshaped_query, conn)\n",
    "\n",
    "print(reshaped_df)\n"
   ]
  },
  {
   "cell_type": "code",
   "execution_count": null,
   "id": "a9892bba",
   "metadata": {},
   "outputs": [],
   "source": []
  }
 ],
 "metadata": {
  "kernelspec": {
   "display_name": "Python 3 (ipykernel)",
   "language": "python",
   "name": "python3"
  },
  "language_info": {
   "codemirror_mode": {
    "name": "ipython",
    "version": 3
   },
   "file_extension": ".py",
   "mimetype": "text/x-python",
   "name": "python",
   "nbconvert_exporter": "python",
   "pygments_lexer": "ipython3",
   "version": "3.11.5"
  }
 },
 "nbformat": 4,
 "nbformat_minor": 5
}
