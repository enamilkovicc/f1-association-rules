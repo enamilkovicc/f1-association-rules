{
 "cells": [
  {
   "cell_type": "code",
   "execution_count": 1,
   "id": "f8786ca1",
   "metadata": {
    "scrolled": true
   },
   "outputs": [
    {
     "name": "stdout",
     "output_type": "stream",
     "text": [
      "     constructorId            name nationality\n",
      "0                1         McLaren     British\n",
      "1                2      BMW Sauber      German\n",
      "2                3        Williams     British\n",
      "3                4         Renault      French\n",
      "4                5      Toro Rosso     Italian\n",
      "..             ...             ...         ...\n",
      "206            209  Manor Marussia     British\n",
      "207            210    Haas F1 Team    American\n",
      "208            211    Racing Point     British\n",
      "209            213      AlphaTauri     Italian\n",
      "210            214  Alpine F1 Team      French\n",
      "\n",
      "[211 rows x 3 columns]\n"
     ]
    }
   ],
   "source": [
    "import sqlite3\n",
    "import pandas as pd\n",
    "\n",
    "conn = sqlite3.connect('formula1-originalDB.db')\n",
    "\n",
    "query = '''\n",
    "SELECT\n",
    "    constructorId,\n",
    "    name,\n",
    "    nationality\n",
    "FROM\n",
    "    constructors;\n",
    "'''\n",
    "constructors_df = pd.read_sql_query(query, conn)\n",
    "\n",
    "print(constructors_df)\n"
   ]
  },
  {
   "cell_type": "code",
   "execution_count": 15,
   "id": "e9727c42",
   "metadata": {},
   "outputs": [
    {
     "name": "stdout",
     "output_type": "stream",
     "text": [
      "     constructorId  year  total_points constructor_name\n",
      "0                1  1968           0.0          McLaren\n",
      "1                1  1971          10.0          McLaren\n",
      "2                1  1972          53.0          McLaren\n",
      "3                1  1973          58.0          McLaren\n",
      "4                1  1974          75.0          McLaren\n",
      "..             ...   ...           ...              ...\n",
      "934            213  2022          35.0       AlphaTauri\n",
      "935            213  2023           3.0       AlphaTauri\n",
      "936            214  2021         155.0   Alpine F1 Team\n",
      "937            214  2022         173.0   Alpine F1 Team\n",
      "938            214  2023          57.0   Alpine F1 Team\n",
      "\n",
      "[939 rows x 4 columns]\n"
     ]
    }
   ],
   "source": [
    "import sqlite3\n",
    "import pandas as pd\n",
    "\n",
    "# Connect to the SQLite database\n",
    "conn = sqlite3.connect('formula1-originalDB.db')\n",
    "\n",
    "# Your SQL query to calculate points for each constructor for each year\n",
    "query = '''\n",
    "WITH ConstructorPoints AS (\n",
    "    SELECT\n",
    "        cr.constructorId,\n",
    "        r.year,\n",
    "        SUM(cr.points) AS total_points\n",
    "    FROM\n",
    "        constructor_results cr\n",
    "    JOIN\n",
    "        races r ON cr.raceId = r.raceId\n",
    "    GROUP BY\n",
    "        cr.constructorId, r.year\n",
    ")\n",
    "SELECT\n",
    "    cp.constructorId,\n",
    "    cp.year,\n",
    "    cp.total_points,\n",
    "    c.name AS constructor_name\n",
    "FROM\n",
    "    ConstructorPoints cp\n",
    "JOIN\n",
    "    constructors c ON cp.constructorId = c.constructorId;\n",
    "'''\n",
    "\n",
    "# Execute the SQL query and read the result into a DataFrame\n",
    "constructor_points_df = pd.read_sql_query(query, conn)\n",
    "\n",
    "# Print the DataFrame\n",
    "print(constructor_points_df)\n"
   ]
  },
  {
   "cell_type": "code",
   "execution_count": null,
   "id": "cd09b727",
   "metadata": {},
   "outputs": [],
   "source": []
  }
 ],
 "metadata": {
  "kernelspec": {
   "display_name": "Python 3 (ipykernel)",
   "language": "python",
   "name": "python3"
  },
  "language_info": {
   "codemirror_mode": {
    "name": "ipython",
    "version": 3
   },
   "file_extension": ".py",
   "mimetype": "text/x-python",
   "name": "python",
   "nbconvert_exporter": "python",
   "pygments_lexer": "ipython3",
   "version": "3.11.5"
  }
 },
 "nbformat": 4,
 "nbformat_minor": 5
}
