{
 "cells": [
  {
   "cell_type": "code",
   "execution_count": 1,
   "id": "68dec00e",
   "metadata": {},
   "outputs": [],
   "source": [
    "import pandas as pd\n",
    "import sqlite3"
   ]
  },
  {
   "cell_type": "code",
   "execution_count": 2,
   "id": "192cb441",
   "metadata": {},
   "outputs": [],
   "source": [
    "def get_best_performing_circuits(conn):\n",
    "    sql_query = '''\n",
    "    WITH DriverRacePoints AS (\n",
    "        SELECT\n",
    "            r.driverId,\n",
    "            ra.year,\n",
    "            r.raceId,\n",
    "            SUM(points) AS total_points\n",
    "        FROM\n",
    "            results r\n",
    "        JOIN\n",
    "            races ra ON r.raceId = ra.raceId\n",
    "        WHERE\n",
    "            ra.year <> 2023\n",
    "        GROUP BY\n",
    "            r.driverId,\n",
    "            ra.year,\n",
    "            r.raceId\n",
    "    ),\n",
    "    MaxPointsPerDriverYear AS (\n",
    "        SELECT\n",
    "            driverId,\n",
    "            year,\n",
    "            MAX(total_points) AS max_points\n",
    "        FROM\n",
    "            DriverRacePoints\n",
    "        GROUP BY\n",
    "            driverId,\n",
    "            year\n",
    "    )\n",
    "    SELECT\n",
    "        drp.driverId,\n",
    "        drp.year,\n",
    "        ci.name as best_performing_circuit_name\n",
    "    FROM\n",
    "        DriverRacePoints drp\n",
    "    JOIN\n",
    "        MaxPointsPerDriverYear mppdy ON drp.driverId = mppdy.driverId\n",
    "        AND drp.year = mppdy.year\n",
    "    JOIN\n",
    "        races ra ON drp.raceId = ra.raceId\n",
    "    JOIN\n",
    "        circuits ci ON ra.circuitId = ci.circuitId\n",
    "        AND drp.total_points = mppdy.max_points\n",
    "    GROUP BY\n",
    "        drp.driverId,\n",
    "        drp.year;\n",
    "    '''\n",
    "\n",
    "    df = pd.read_sql_query(sql_query, conn)\n",
    "\n",
    "    return df\n"
   ]
  }
 ],
 "metadata": {
  "kernelspec": {
   "display_name": "Python 3 (ipykernel)",
   "language": "python",
   "name": "python3"
  },
  "language_info": {
   "codemirror_mode": {
    "name": "ipython",
    "version": 3
   },
   "file_extension": ".py",
   "mimetype": "text/x-python",
   "name": "python",
   "nbconvert_exporter": "python",
   "pygments_lexer": "ipython3",
   "version": "3.11.5"
  }
 },
 "nbformat": 4,
 "nbformat_minor": 5
}
