{
 "cells": [
  {
   "cell_type": "code",
   "execution_count": 1,
   "id": "b328575d",
   "metadata": {},
   "outputs": [],
   "source": [
    "import pandas as pd"
   ]
  },
  {
   "cell_type": "code",
   "execution_count": 2,
   "id": "a93b89f5",
   "metadata": {},
   "outputs": [],
   "source": [
    "def calculate_final_driver_places(conn: str) -> pd.DataFrame:\n",
    "    \"\"\"\n",
    "    Calculate the final positions of drivers based on their points in the last race of each year.\n",
    "\n",
    "    :param conn: The database connection.\n",
    "    :return: DataFrame containing year, driverId, driver_nationality, driver_points, and driver_end_position columns.\n",
    "    \"\"\"\n",
    "\n",
    "    points_query = '''\n",
    "        SELECT r.year, ds.driverId, d.nationality AS driver_nationality, ds.points AS driver_points\n",
    "        FROM driver_standings ds\n",
    "        INNER JOIN (\n",
    "            SELECT r1.year, MAX(r1.date) AS last_race_date\n",
    "            FROM races r1\n",
    "            GROUP BY r1.year\n",
    "        ) last_race ON ds.raceId = (\n",
    "            SELECT r2.raceId\n",
    "            FROM races r2\n",
    "            WHERE r2.year = last_race.year AND r2.date = last_race.last_race_date\n",
    "            LIMIT 1\n",
    "        )\n",
    "        INNER JOIN races r ON ds.raceId = r.raceId AND r.date = last_race.last_race_date\n",
    "        INNER JOIN drivers d ON ds.driverId = d.driverId;\n",
    "    '''\n",
    "\n",
    "    points_df = pd.read_sql_query(points_query, conn)\n",
    "\n",
    "    points_df = points_df.sort_values(by=['year', 'driver_points'], ascending=[True, False])\n",
    "\n",
    "    points_df['driver_end_position'] = points_df.groupby('year')['driver_points'].rank(ascending=False, method='min').astype(int)\n",
    "\n",
    "    return points_df\n"
   ]
  }
 ],
 "metadata": {
  "kernelspec": {
   "display_name": "Python 3 (ipykernel)",
   "language": "python",
   "name": "python3"
  },
  "language_info": {
   "codemirror_mode": {
    "name": "ipython",
    "version": 3
   },
   "file_extension": ".py",
   "mimetype": "text/x-python",
   "name": "python",
   "nbconvert_exporter": "python",
   "pygments_lexer": "ipython3",
   "version": "3.11.5"
  }
 },
 "nbformat": 4,
 "nbformat_minor": 5
}
