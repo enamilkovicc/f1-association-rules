{
 "cells": [
  {
   "cell_type": "code",
   "execution_count": 1,
   "id": "d9ea8c32",
   "metadata": {},
   "outputs": [],
   "source": [
    "import sqlite3\n",
    "import pandas as pd\n",
    "import nbimporter"
   ]
  },
  {
   "cell_type": "code",
   "execution_count": 2,
   "id": "0b656e97",
   "metadata": {},
   "outputs": [],
   "source": [
    "from final_scores import calculate_final_driver_places \n",
    "from lap_times_functions import get_lap_times_stats\n",
    "from lap_times_functions import get_median_lap_position\n",
    "from lap_times_functions import get_total_laps_count\n",
    "from pit_stop_functions import get_pit_stop_stats_in_miliseconds\n",
    "from pit_stop_functions import get_most_common_pit_stop_lap\n",
    "from constructor_table import get_drivers_with_constructor_relationship\n",
    "from constructor_table import get_constructor_points\n",
    "from drivers_functions import get_age_at_first_race\n",
    "from drivers_functions import get_age_at_each_race\n",
    "from circuits_functions import get_best_performing_circuits\n",
    "from results_functions import get_most_common_positions"
   ]
  },
  {
   "cell_type": "code",
   "execution_count": 3,
   "id": "9791551f",
   "metadata": {},
   "outputs": [],
   "source": [
    "conn = sqlite3.connect('formula1.db')"
   ]
  },
  {
   "cell_type": "markdown",
   "id": "99e80c50",
   "metadata": {},
   "source": [
    "# Drivers and their positions at the end of each year"
   ]
  },
  {
   "cell_type": "code",
   "execution_count": 4,
   "id": "18afc1b8",
   "metadata": {
    "scrolled": false
   },
   "outputs": [
    {
     "name": "stdout",
     "output_type": "stream",
     "text": [
      "      year  driverId driver_nationality  driver_points  driver_end_position\n",
      "73    1950       642            Italian           30.0                    1\n",
      "66    1950       579          Argentine           27.0                    2\n",
      "72    1950       786            Italian           24.0                    3\n",
      "70    1950       627             French           13.0                    4\n",
      "56    1950       647            Italian           11.0                    5\n",
      "...    ...       ...                ...            ...                  ...\n",
      "3133  2022       855            Chinese            6.0                   18\n",
      "3136  2022       848               Thai            4.0                   19\n",
      "3139  2022       849           Canadian            2.0                   20\n",
      "3145  2022       856              Dutch            2.0                   20\n",
      "3140  2022       807             German            0.0                   22\n",
      "\n",
      "[3146 rows x 5 columns]\n"
     ]
    }
   ],
   "source": [
    "drivers_final_positions = calculate_final_driver_places(conn)\n",
    "print(drivers_final_positions)"
   ]
  },
  {
   "cell_type": "code",
   "execution_count": 5,
   "id": "e8d17060",
   "metadata": {},
   "outputs": [
    {
     "data": {
      "text/html": [
       "<div>\n",
       "<style scoped>\n",
       "    .dataframe tbody tr th:only-of-type {\n",
       "        vertical-align: middle;\n",
       "    }\n",
       "\n",
       "    .dataframe tbody tr th {\n",
       "        vertical-align: top;\n",
       "    }\n",
       "\n",
       "    .dataframe thead th {\n",
       "        text-align: right;\n",
       "    }\n",
       "</style>\n",
       "<table border=\"1\" class=\"dataframe\">\n",
       "  <thead>\n",
       "    <tr style=\"text-align: right;\">\n",
       "      <th></th>\n",
       "      <th>year</th>\n",
       "      <th>driverId</th>\n",
       "      <th>driver_nationality</th>\n",
       "      <th>driver_points</th>\n",
       "      <th>driver_end_position</th>\n",
       "    </tr>\n",
       "  </thead>\n",
       "  <tbody>\n",
       "    <tr>\n",
       "      <th>73</th>\n",
       "      <td>1950</td>\n",
       "      <td>642</td>\n",
       "      <td>Italian</td>\n",
       "      <td>30.0</td>\n",
       "      <td>1</td>\n",
       "    </tr>\n",
       "    <tr>\n",
       "      <th>66</th>\n",
       "      <td>1950</td>\n",
       "      <td>579</td>\n",
       "      <td>Argentine</td>\n",
       "      <td>27.0</td>\n",
       "      <td>2</td>\n",
       "    </tr>\n",
       "    <tr>\n",
       "      <th>72</th>\n",
       "      <td>1950</td>\n",
       "      <td>786</td>\n",
       "      <td>Italian</td>\n",
       "      <td>24.0</td>\n",
       "      <td>3</td>\n",
       "    </tr>\n",
       "    <tr>\n",
       "      <th>70</th>\n",
       "      <td>1950</td>\n",
       "      <td>627</td>\n",
       "      <td>French</td>\n",
       "      <td>13.0</td>\n",
       "      <td>4</td>\n",
       "    </tr>\n",
       "    <tr>\n",
       "      <th>56</th>\n",
       "      <td>1950</td>\n",
       "      <td>647</td>\n",
       "      <td>Italian</td>\n",
       "      <td>11.0</td>\n",
       "      <td>5</td>\n",
       "    </tr>\n",
       "    <tr>\n",
       "      <th>...</th>\n",
       "      <td>...</td>\n",
       "      <td>...</td>\n",
       "      <td>...</td>\n",
       "      <td>...</td>\n",
       "      <td>...</td>\n",
       "    </tr>\n",
       "    <tr>\n",
       "      <th>3133</th>\n",
       "      <td>2022</td>\n",
       "      <td>855</td>\n",
       "      <td>Chinese</td>\n",
       "      <td>6.0</td>\n",
       "      <td>18</td>\n",
       "    </tr>\n",
       "    <tr>\n",
       "      <th>3136</th>\n",
       "      <td>2022</td>\n",
       "      <td>848</td>\n",
       "      <td>Thai</td>\n",
       "      <td>4.0</td>\n",
       "      <td>19</td>\n",
       "    </tr>\n",
       "    <tr>\n",
       "      <th>3139</th>\n",
       "      <td>2022</td>\n",
       "      <td>849</td>\n",
       "      <td>Canadian</td>\n",
       "      <td>2.0</td>\n",
       "      <td>20</td>\n",
       "    </tr>\n",
       "    <tr>\n",
       "      <th>3145</th>\n",
       "      <td>2022</td>\n",
       "      <td>856</td>\n",
       "      <td>Dutch</td>\n",
       "      <td>2.0</td>\n",
       "      <td>20</td>\n",
       "    </tr>\n",
       "    <tr>\n",
       "      <th>3140</th>\n",
       "      <td>2022</td>\n",
       "      <td>807</td>\n",
       "      <td>German</td>\n",
       "      <td>0.0</td>\n",
       "      <td>22</td>\n",
       "    </tr>\n",
       "  </tbody>\n",
       "</table>\n",
       "<p>3146 rows × 5 columns</p>\n",
       "</div>"
      ],
      "text/plain": [
       "      year  driverId driver_nationality  driver_points  driver_end_position\n",
       "73    1950       642            Italian           30.0                    1\n",
       "66    1950       579          Argentine           27.0                    2\n",
       "72    1950       786            Italian           24.0                    3\n",
       "70    1950       627             French           13.0                    4\n",
       "56    1950       647            Italian           11.0                    5\n",
       "...    ...       ...                ...            ...                  ...\n",
       "3133  2022       855            Chinese            6.0                   18\n",
       "3136  2022       848               Thai            4.0                   19\n",
       "3139  2022       849           Canadian            2.0                   20\n",
       "3145  2022       856              Dutch            2.0                   20\n",
       "3140  2022       807             German            0.0                   22\n",
       "\n",
       "[3146 rows x 5 columns]"
      ]
     },
     "execution_count": 5,
     "metadata": {},
     "output_type": "execute_result"
    }
   ],
   "source": [
    "drivers_final_positions"
   ]
  },
  {
   "cell_type": "code",
   "execution_count": 6,
   "id": "1d884ec5",
   "metadata": {},
   "outputs": [
    {
     "name": "stderr",
     "output_type": "stream",
     "text": [
      "\n",
      "KeyboardInterrupt\n",
      "\n"
     ]
    }
   ],
   "source": [
    "drivers_final_positions = drivers_final_positions.sort_values(by=['year', 'driverId'])\n",
    "\n",
    "for index, row in drivers_final_positions.iterrows():\n",
    "    temp_df = drivers_final_positions[(drivers_final_positions['driverId'] == row['driverId']) & (drivers_final_positions['year'] <= row['year'])]\n",
    "    \n",
    "    first_place_count = temp_df[temp_df['driver_end_position'] == 1].shape[0]\n",
    "    second_place_count = temp_df[temp_df['driver_end_position'] == 2].shape[0]\n",
    "    third_place_count = temp_df[temp_df['driver_end_position'] == 3].shape[0]\n",
    "    top_5_count = temp_df[temp_df['driver_end_position'] <= 5].shape[0]\n",
    "\n",
    "    drivers_final_positions.at[index, 'first_place_count'] = first_place_count\n",
    "    drivers_final_positions.at[index, 'second_place_count'] = second_place_count\n",
    "    drivers_final_positions.at[index, 'third_place_count'] = third_place_count\n",
    "    drivers_final_positions.at[index, 'top_5_count'] = top_5_count\n",
    "\n",
    "print(drivers_final_positions)\n"
   ]
  },
  {
   "cell_type": "code",
   "execution_count": null,
   "id": "2979f3a7",
   "metadata": {},
   "outputs": [],
   "source": [
    "drivers_final_positions['first_place_count'] = drivers_final_positions['first_place_count'].astype(int)\n",
    "drivers_final_positions['second_place_count'] = drivers_final_positions['second_place_count'].astype(int)\n",
    "drivers_final_positions['third_place_count'] = drivers_final_positions['third_place_count'].astype(int)\n",
    "drivers_final_positions['top_5_count'] = drivers_final_positions['top_5_count'].astype(int)\n",
    "drivers_final_positions['driver_points'] = drivers_final_positions['driver_points'].astype(int)\n",
    "drivers_final_positions['driver_end_position'] = drivers_final_positions['driver_end_position'].astype(int)"
   ]
  },
  {
   "cell_type": "code",
   "execution_count": null,
   "id": "8f825990",
   "metadata": {},
   "outputs": [],
   "source": [
    "drivers_final_positions = drivers_final_positions.sort_values(by='top_5_count', ascending=False)"
   ]
  },
  {
   "cell_type": "code",
   "execution_count": null,
   "id": "a0676d8e",
   "metadata": {},
   "outputs": [],
   "source": [
    "drivers_final_positions"
   ]
  },
  {
   "cell_type": "code",
   "execution_count": null,
   "id": "8cf28f42",
   "metadata": {},
   "outputs": [],
   "source": [
    "driver_starting_year = get_age_at_first_race(conn)\n",
    "drivers_final_positions = pd.merge(drivers_final_positions, driver_starting_year, on=['driverId'], how='left')"
   ]
  },
  {
   "cell_type": "code",
   "execution_count": null,
   "id": "4c74c843",
   "metadata": {},
   "outputs": [],
   "source": [
    "drivers_final_positions"
   ]
  },
  {
   "cell_type": "code",
   "execution_count": null,
   "id": "cc4dcf73",
   "metadata": {},
   "outputs": [],
   "source": [
    "drivers_final_positions['age_at_first_race'] = drivers_final_positions['age_at_first_race'].astype(int)"
   ]
  },
  {
   "cell_type": "code",
   "execution_count": null,
   "id": "672b2868",
   "metadata": {},
   "outputs": [],
   "source": [
    "drivers_final_positions"
   ]
  },
  {
   "cell_type": "code",
   "execution_count": null,
   "id": "f7011a38",
   "metadata": {},
   "outputs": [],
   "source": [
    "driver_years = get_age_at_each_race(conn)\n",
    "drivers_final_positions = pd.merge(drivers_final_positions, driver_years, on=['driverId','year'], how='left')"
   ]
  },
  {
   "cell_type": "code",
   "execution_count": null,
   "id": "fc13d9b5",
   "metadata": {},
   "outputs": [],
   "source": [
    "drivers_final_positions"
   ]
  },
  {
   "cell_type": "code",
   "execution_count": null,
   "id": "3bbb6647",
   "metadata": {},
   "outputs": [],
   "source": [
    "drivers_final_positions['age_at_race'] = drivers_final_positions['age_at_race'].astype(int)"
   ]
  },
  {
   "cell_type": "code",
   "execution_count": null,
   "id": "3a094749",
   "metadata": {
    "scrolled": true
   },
   "outputs": [],
   "source": [
    "drivers_final_positions"
   ]
  },
  {
   "cell_type": "markdown",
   "id": "da097869",
   "metadata": {},
   "source": [
    "# Lap times "
   ]
  },
  {
   "cell_type": "code",
   "execution_count": null,
   "id": "bf08155c",
   "metadata": {},
   "outputs": [],
   "source": [
    "lap_times_stats = get_lap_times_stats(conn)\n",
    "print(lap_times_stats)"
   ]
  },
  {
   "cell_type": "code",
   "execution_count": null,
   "id": "36f2ee3c",
   "metadata": {},
   "outputs": [],
   "source": [
    "columns_to_discretize = ['min_lap_time_diff', 'avg_lap_time_diff', 'max_lap_time_diff']\n",
    "labels = ['0-25%', '25-50%', '50% and more']\n",
    "\n",
    "for col in columns_to_discretize:\n",
    "    if col == 'min_lap_time_diff':\n",
    "        custom_bin_edges = [lap_times_stats[col].min(), 0.1, lap_times_stats[col].quantile(0.5), lap_times_stats[col].max()]\n",
    "        lap_times_stats[col] = pd.cut(lap_times_stats[col], bins=custom_bin_edges, include_lowest=True, duplicates='drop', labels=labels)\n",
    "    else:\n",
    "        bin_edges = [lap_times_stats[col].min(), lap_times_stats[col].quantile(0.25), lap_times_stats[col].quantile(0.5), lap_times_stats[col].max()]\n",
    "        lap_times_stats[col] = pd.cut(lap_times_stats[col], bins=bin_edges, include_lowest=True, duplicates='drop', labels=labels)\n",
    "\n",
    "print(lap_times_stats)\n"
   ]
  },
  {
   "cell_type": "code",
   "execution_count": null,
   "id": "ab65da15",
   "metadata": {},
   "outputs": [],
   "source": [
    "lap_positions = get_median_lap_position(conn)\n",
    "lap_times_stats = pd.merge(lap_times_stats, lap_positions, on=['driverId', 'year'], how='left')\n",
    "lap_times_stats['median_lap_position'] = lap_times_stats['median_lap_position'].astype(int)\n",
    "print(lap_times_stats)"
   ]
  },
  {
   "cell_type": "code",
   "execution_count": null,
   "id": "f80469e6",
   "metadata": {},
   "outputs": [],
   "source": [
    "lap_count = get_total_laps_count(conn)\n",
    "lap_times_stats = pd.merge(lap_times_stats, lap_count, on=['driverId', 'year'], how='left')\n",
    "lap_times_stats['total_laps'] = lap_times_stats['total_laps'].astype(int)\n",
    "print(lap_times_stats)"
   ]
  },
  {
   "cell_type": "markdown",
   "id": "ddc24972",
   "metadata": {},
   "source": [
    "# Pit Stops"
   ]
  },
  {
   "cell_type": "code",
   "execution_count": null,
   "id": "2e405b51",
   "metadata": {},
   "outputs": [],
   "source": [
    "pit_stop_stats = get_pit_stop_stats_in_miliseconds(conn)\n",
    "print(pit_stop_stats)"
   ]
  },
  {
   "cell_type": "code",
   "execution_count": null,
   "id": "05d5b360",
   "metadata": {},
   "outputs": [],
   "source": [
    "columns_to_discretize = ['min_pit_stop_time', 'avg_pit_time', 'max_pit_stop_time']\n",
    "labels = ['0-25%', '25-50%', '50% and more']\n",
    "\n",
    "for col in columns_to_discretize:\n",
    "    if col in pit_stop_stats.columns:\n",
    "        bin_edges = [pit_stop_stats[col].min(), pit_stop_stats[col].quantile(0.25), pit_stop_stats[col].quantile(0.5), pit_stop_stats[col].max()]\n",
    "        pit_stop_stats[col] = pd.cut(pit_stop_stats[col], bins=bin_edges, include_lowest=True, duplicates='drop', labels=labels)\n",
    "\n",
    "print(pit_stop_stats)\n"
   ]
  },
  {
   "cell_type": "code",
   "execution_count": null,
   "id": "f0f577e5",
   "metadata": {},
   "outputs": [],
   "source": [
    "most_common_pit_stop_lap = get_most_common_pit_stop_lap(conn)\n",
    "pit_stop_stats = pd.merge(pit_stop_stats, most_common_pit_stop_lap, on=['driverId', 'year'], how='left')\n",
    "print(pit_stop_stats)"
   ]
  },
  {
   "cell_type": "code",
   "execution_count": null,
   "id": "dd2b821b",
   "metadata": {},
   "outputs": [],
   "source": [
    "pit_stop_stats['most_common_pitstop_lap'] = pit_stop_stats['most_common_pitstop_lap'].astype(int)"
   ]
  },
  {
   "cell_type": "code",
   "execution_count": null,
   "id": "cbab7a08",
   "metadata": {},
   "outputs": [],
   "source": [
    "pit_stop_stats"
   ]
  },
  {
   "cell_type": "markdown",
   "id": "f75c4e2e",
   "metadata": {},
   "source": [
    "# Constructor"
   ]
  },
  {
   "cell_type": "code",
   "execution_count": null,
   "id": "ff9f9bc9",
   "metadata": {},
   "outputs": [],
   "source": [
    "constructor_driver_connection = get_drivers_with_constructor_relationship(conn)"
   ]
  },
  {
   "cell_type": "code",
   "execution_count": null,
   "id": "0a36d12c",
   "metadata": {},
   "outputs": [],
   "source": [
    "constructor_driver_connection"
   ]
  },
  {
   "cell_type": "markdown",
   "id": "cbba9735",
   "metadata": {},
   "source": [
    "# Drivers with Races"
   ]
  },
  {
   "cell_type": "code",
   "execution_count": null,
   "id": "331280d7",
   "metadata": {},
   "outputs": [],
   "source": [
    "drivers_final_positions"
   ]
  },
  {
   "cell_type": "code",
   "execution_count": null,
   "id": "6dad056b",
   "metadata": {},
   "outputs": [],
   "source": [
    "constructor_driver_connection"
   ]
  },
  {
   "cell_type": "code",
   "execution_count": null,
   "id": "833baffd",
   "metadata": {},
   "outputs": [],
   "source": [
    "drivers_final_positions = drivers_final_positions.drop_duplicates(['driverId', 'year'])\n",
    "constructor_driver_connection = constructor_driver_connection.drop_duplicates(['driverId', 'year'])"
   ]
  },
  {
   "cell_type": "code",
   "execution_count": null,
   "id": "0425968e",
   "metadata": {},
   "outputs": [],
   "source": [
    "drivers_final_positions"
   ]
  },
  {
   "cell_type": "code",
   "execution_count": null,
   "id": "1ff73b9d",
   "metadata": {},
   "outputs": [],
   "source": [
    "constructor_driver_connection"
   ]
  },
  {
   "cell_type": "code",
   "execution_count": null,
   "id": "bf8ccc72",
   "metadata": {},
   "outputs": [],
   "source": [
    "drivers_with_constructors = pd.merge(drivers_final_positions, constructor_driver_connection, on=['driverId', 'year'], how='left')\n",
    "print(drivers_with_constructors)"
   ]
  },
  {
   "cell_type": "code",
   "execution_count": null,
   "id": "d55a2721",
   "metadata": {},
   "outputs": [],
   "source": [
    "connstructor_points = get_constructor_points(conn)\n",
    "print(connstructor_points)"
   ]
  },
  {
   "cell_type": "code",
   "execution_count": null,
   "id": "03c6b94f",
   "metadata": {},
   "outputs": [],
   "source": [
    "connstructor_points['constructor_points'] = connstructor_points['constructor_points'].astype(int)\n",
    "connstructor_points['constructor_place'] = connstructor_points['constructor_place'].astype(int)"
   ]
  },
  {
   "cell_type": "code",
   "execution_count": null,
   "id": "0b300478",
   "metadata": {},
   "outputs": [],
   "source": [
    "connstructor_points"
   ]
  },
  {
   "cell_type": "code",
   "execution_count": null,
   "id": "7d9135c8",
   "metadata": {},
   "outputs": [],
   "source": [
    "connstructor_points = connstructor_points.sort_values(by=['year', 'constructorId'])\n",
    "\n",
    "for index, row in connstructor_points.iterrows():\n",
    "    temp_df = connstructor_points[(connstructor_points['constructorId'] == row['constructorId']) & (connstructor_points['year'] <= row['year'])]\n",
    "    \n",
    "    temp_first_place_count = temp_df[temp_df['constructor_place'] == 1].shape[0]\n",
    "    temp_second_place_count = temp_df[temp_df['constructor_place'] == 2].shape[0]\n",
    "    temp_third_place_count = temp_df[temp_df['constructor_place'] == 3].shape[0]\n",
    "    temp_top_5_count = temp_df[temp_df['constructor_place'] <= 5].shape[0]\n",
    "    \n",
    "    connstructor_points.at[index, 'constructor_first_place_count'] = temp_first_place_count\n",
    "    connstructor_points.at[index, 'constructor_second_place_count'] = temp_second_place_count\n",
    "    connstructor_points.at[index, 'constructor_third_place_count'] = temp_third_place_count\n",
    "    connstructor_points.at[index, 'constructor_top_5_count'] = temp_top_5_count\n",
    "\n",
    "print(connstructor_points)\n"
   ]
  },
  {
   "cell_type": "code",
   "execution_count": null,
   "id": "216bc6a6",
   "metadata": {},
   "outputs": [],
   "source": [
    "connstructor_points['constructor_first_place_count'] = connstructor_points['constructor_first_place_count'].astype(int)\n",
    "connstructor_points['constructor_second_place_count'] = connstructor_points['constructor_second_place_count'].astype(int)\n",
    "connstructor_points['constructor_third_place_count'] = connstructor_points['constructor_third_place_count'].astype(int)\n",
    "connstructor_points['constructor_top_5_count'] = connstructor_points['constructor_top_5_count'].astype(int)"
   ]
  },
  {
   "cell_type": "code",
   "execution_count": null,
   "id": "43e03792",
   "metadata": {},
   "outputs": [],
   "source": [
    "connstructor_points"
   ]
  },
  {
   "cell_type": "code",
   "execution_count": null,
   "id": "5a3ca085",
   "metadata": {},
   "outputs": [],
   "source": [
    "drivers_with_constructors = pd.merge(drivers_with_constructors, connstructor_points, on=['constructorId', 'year'], how='left')\n",
    "print(drivers_with_constructors)"
   ]
  },
  {
   "cell_type": "code",
   "execution_count": null,
   "id": "a9514278",
   "metadata": {},
   "outputs": [],
   "source": [
    "drivers_with_constructors.fillna(0)"
   ]
  },
  {
   "cell_type": "code",
   "execution_count": null,
   "id": "ae48f100",
   "metadata": {},
   "outputs": [],
   "source": [
    "best_performing_circuits = get_best_performing_circuits(conn)\n",
    "drivers_with_constructors = pd.merge(drivers_with_constructors, best_performing_circuits, on=['year','driverId' ], how='left')\n",
    "print(drivers_with_constructors)"
   ]
  },
  {
   "cell_type": "code",
   "execution_count": null,
   "id": "4bdb0512",
   "metadata": {},
   "outputs": [],
   "source": [
    "drivers_with_constructors.fillna(0, inplace=True)"
   ]
  },
  {
   "cell_type": "code",
   "execution_count": null,
   "id": "6ecac5df",
   "metadata": {},
   "outputs": [],
   "source": [
    "drivers_with_constructors['constructor_first_place_count'] = drivers_with_constructors['constructor_first_place_count'].astype(int)\n",
    "drivers_with_constructors['constructor_second_place_count'] = drivers_with_constructors['constructor_second_place_count'].astype(int)\n",
    "drivers_with_constructors['constructor_third_place_count'] = drivers_with_constructors['constructor_third_place_count'].astype(int)\n",
    "drivers_with_constructors['constructor_top_5_count'] = drivers_with_constructors['constructor_top_5_count'].astype(int)\n",
    "drivers_with_constructors['constructor_points'] = drivers_with_constructors['constructor_points'].astype(int)\n",
    "drivers_with_constructors['constructor_place'] = drivers_with_constructors['constructor_place'].astype(int)"
   ]
  },
  {
   "cell_type": "code",
   "execution_count": null,
   "id": "fd7ef9bf",
   "metadata": {},
   "outputs": [],
   "source": [
    "drivers_with_constructors"
   ]
  },
  {
   "cell_type": "markdown",
   "id": "7cdcf379",
   "metadata": {},
   "source": [
    "# Connecting Laps with Pitstops"
   ]
  },
  {
   "cell_type": "code",
   "execution_count": null,
   "id": "8a219d0a",
   "metadata": {},
   "outputs": [],
   "source": [
    "lap_pit_df = pd.merge(lap_times_stats, pit_stop_stats, on=['driverId', 'year'], how='left', suffixes=('_lap', '_pit'))\n",
    "\n",
    "print(lap_pit_df)"
   ]
  },
  {
   "cell_type": "code",
   "execution_count": null,
   "id": "1fe1367b",
   "metadata": {},
   "outputs": [],
   "source": [
    "def categorize_total_laps(laps):\n",
    "    if laps <= 1000:\n",
    "        return '0-1000 Laps'\n",
    "    elif laps <= 3000:\n",
    "        return '1001-3000 Laps'\n",
    "    elif laps <= 6000:\n",
    "        return '3001-6000 Laps'\n",
    "    elif laps <= 9000:\n",
    "        return '6001-9000 Laps'\n",
    "    elif laps <= 12000:\n",
    "        return '9001-12000 Laps'\n",
    "    else:\n",
    "        return 'More than 12000 Laps'\n",
    "\n",
    "lap_pit_df['total_laps'] = lap_pit_df['total_laps'].apply(categorize_total_laps)\n"
   ]
  },
  {
   "cell_type": "code",
   "execution_count": null,
   "id": "a37b483a",
   "metadata": {},
   "outputs": [],
   "source": [
    "lap_pit_df"
   ]
  },
  {
   "cell_type": "code",
   "execution_count": null,
   "id": "064b6853",
   "metadata": {},
   "outputs": [],
   "source": [
    "categorical_columns = ['min_pit_stop_time', 'avg_pit_time', 'max_pit_stop_time', 'most_common_pitstop_lap']\n",
    "\n",
    "for col in categorical_columns:\n",
    "    lap_pit_df[col] = lap_pit_df[col].astype('category').cat.add_categories('Unknown')\n",
    "    lap_pit_df[col].fillna('Unknown', inplace=True)\n",
    "\n",
    "print(lap_pit_df)\n"
   ]
  },
  {
   "cell_type": "code",
   "execution_count": null,
   "id": "37426bc7",
   "metadata": {},
   "outputs": [],
   "source": [
    "final_df = pd.merge(drivers_with_constructors, lap_pit_df, on=['driverId', 'year'], how='left')"
   ]
  },
  {
   "cell_type": "code",
   "execution_count": null,
   "id": "6c740c98",
   "metadata": {},
   "outputs": [],
   "source": [
    "final_df"
   ]
  },
  {
   "cell_type": "code",
   "execution_count": null,
   "id": "5bd6f7af",
   "metadata": {},
   "outputs": [],
   "source": [
    "columns_to_check = ['min_lap_time_diff', 'avg_lap_time_diff', 'max_lap_time_diff']\n",
    "\n",
    "final_df.dropna(subset=columns_to_check, inplace=True)\n",
    "\n",
    "print(final_df)\n"
   ]
  },
  {
   "cell_type": "code",
   "execution_count": null,
   "id": "c5b99a09",
   "metadata": {},
   "outputs": [],
   "source": [
    "positions = get_most_common_positions(conn)"
   ]
  },
  {
   "cell_type": "code",
   "execution_count": null,
   "id": "5b811af6",
   "metadata": {},
   "outputs": [],
   "source": [
    "positions['most_common_ending_position'] = positions['most_common_ending_position'].replace({'\\\\N': 'Did Not Finish'})"
   ]
  },
  {
   "cell_type": "code",
   "execution_count": null,
   "id": "734e3130",
   "metadata": {},
   "outputs": [],
   "source": [
    "positions['most_common_starting_position'] = positions['most_common_starting_position'].replace(0, 'Unknown')"
   ]
  },
  {
   "cell_type": "code",
   "execution_count": null,
   "id": "649d9be8",
   "metadata": {},
   "outputs": [],
   "source": [
    "def categorize_pitstop_lap(lap):\n",
    "    if isinstance(lap, str):\n",
    "        return 'Unknown'\n",
    "    if lap <= 10:\n",
    "        return 'Early Pitstop'\n",
    "    elif lap <= 35:\n",
    "        return 'Mid-race Pitstop'\n",
    "    else:\n",
    "        return 'Late Pitstop'\n",
    "\n",
    "final_df['most_common_pitstop_lap'] = final_df['most_common_pitstop_lap'].apply(categorize_pitstop_lap)\n",
    "\n",
    "positions['most_common_starting_position'] = pd.to_numeric(positions['most_common_starting_position'], errors='coerce')\n",
    "positions['most_common_ending_position'] = pd.to_numeric(positions['most_common_ending_position'], errors='coerce')\n",
    "\n",
    "def categorize_position(position):\n",
    "    if isinstance(position, str):\n",
    "        return 'Unknown'\n",
    "    if position <= 5:\n",
    "        return 'Top 5'\n",
    "    elif position <= 10:\n",
    "        return 'Top 10'\n",
    "    else:\n",
    "        return 'Beyond Top 10'\n",
    "\n",
    "positions['most_common_starting_position'] = positions['most_common_starting_position'].apply(categorize_position)\n",
    "positions['most_common_ending_position'] = positions['most_common_ending_position'].apply(categorize_position)\n",
    "\n",
    "\n",
    "print(final_df)\n",
    "\n",
    "print(positions)"
   ]
  },
  {
   "cell_type": "code",
   "execution_count": null,
   "id": "62dd56d3",
   "metadata": {},
   "outputs": [],
   "source": [
    "final_df = pd.merge(final_df, positions, on=['driverId', 'year'], how='left')"
   ]
  },
  {
   "cell_type": "code",
   "execution_count": null,
   "id": "52ca8b8f",
   "metadata": {},
   "outputs": [],
   "source": [
    "final_df"
   ]
  },
  {
   "cell_type": "code",
   "execution_count": null,
   "id": "30f70da2",
   "metadata": {},
   "outputs": [],
   "source": [
    "final_df['median_lap_position'] = final_df['median_lap_position'].astype(int)"
   ]
  },
  {
   "cell_type": "code",
   "execution_count": null,
   "id": "77f0a11e",
   "metadata": {},
   "outputs": [],
   "source": [
    "final_df"
   ]
  },
  {
   "cell_type": "code",
   "execution_count": null,
   "id": "3cd467f3",
   "metadata": {},
   "outputs": [],
   "source": [
    "drivers_per_year = final_df.copy()"
   ]
  },
  {
   "cell_type": "code",
   "execution_count": null,
   "id": "eb6a5240",
   "metadata": {},
   "outputs": [],
   "source": [
    "drivers_per_year"
   ]
  },
  {
   "cell_type": "code",
   "execution_count": null,
   "id": "17a7ca49",
   "metadata": {},
   "outputs": [],
   "source": [
    "drivers_per_year = drivers_per_year.drop('driverId', axis=1)\n",
    "drivers_per_year = drivers_per_year.drop('year', axis=1)\n",
    "drivers_per_year = drivers_per_year.drop('constructorId', axis=1)"
   ]
  },
  {
   "cell_type": "code",
   "execution_count": null,
   "id": "49c5d290",
   "metadata": {},
   "outputs": [],
   "source": [
    "drivers_per_year"
   ]
  },
  {
   "cell_type": "code",
   "execution_count": null,
   "id": "f73c0b69",
   "metadata": {},
   "outputs": [],
   "source": [
    "drivers_per_year.to_csv(\"drivers_per_year.csv\", index=False, encoding='utf-8')"
   ]
  },
  {
   "cell_type": "code",
   "execution_count": null,
   "id": "71ae4d17",
   "metadata": {},
   "outputs": [],
   "source": [
    "df = final_df.sort_values(by='year', ascending=False)\n",
    "df = df.astype(str)\n",
    "\n",
    "numeric_columns = ['year','driver_points', 'driver_end_position', 'constructor_points', 'constructor_place','median_lap_position', 'total_laps']\n",
    "df[numeric_columns] = df[numeric_columns].apply(pd.to_numeric, errors='coerce')\n",
    "\n",
    "aggregation_functions = {\n",
    "    'year': 'max',\n",
    "    'driver_nationality': 'first',\n",
    "    'age_at_first_race': 'first',\n",
    "    'first_place_count': 'first',\n",
    "    'second_place_count': 'first',\n",
    "    'third_place_count': 'first',\n",
    "    'top_5_count': 'first',\n",
    "    'constructorName': 'first',\n",
    "    'constructor_nationality': 'first',\n",
    "    'constructor_first_place_count': 'first',\n",
    "    'constructor_second_place_count': 'first',\n",
    "    'constructor_third_place_count': 'first',\n",
    "    'constructor_top_5_count': 'first',\n",
    "    'best_performing_circuit_name': lambda x: x.mode().iloc[0], \n",
    "    'min_lap_time_diff': lambda x: x.mode().iloc[0],\n",
    "    'avg_lap_time_diff': lambda x: x.mode().iloc[0],\n",
    "    'max_lap_time_diff': lambda x: x.mode().iloc[0],\n",
    "    'median_lap_position':lambda x: round(x.mean()) if x.notna().any() else 'Unknown',\n",
    "    'min_pit_stop_time': lambda x: x.mode().iloc[0],\n",
    "    'avg_pit_time': lambda x: x.mode().iloc[0],\n",
    "    'max_pit_stop_time': lambda x: x.mode().iloc[0],\n",
    "    'most_common_pitstop_lap': lambda x: x.mode().iloc[0],\n",
    "    'most_common_starting_position': lambda x: x.mode().iloc[0] if x.notna().any() else 'Unknown',\n",
    "    'most_common_ending_position': lambda x: x.mode().iloc[0] \n",
    "}\n",
    "\n",
    "aggregated_df = df.groupby('driverId').agg(aggregation_functions)\n",
    "\n",
    "aggregated_df = aggregated_df.reset_index()"
   ]
  },
  {
   "cell_type": "code",
   "execution_count": null,
   "id": "4e873dd2",
   "metadata": {},
   "outputs": [],
   "source": [
    "aggregated_df"
   ]
  },
  {
   "cell_type": "code",
   "execution_count": null,
   "id": "358264d8",
   "metadata": {},
   "outputs": [],
   "source": [
    "aggregated_df = aggregated_df.drop(['year', 'driverId'], axis=1)"
   ]
  },
  {
   "cell_type": "code",
   "execution_count": null,
   "id": "1683064a",
   "metadata": {},
   "outputs": [],
   "source": [
    "aggregated_df"
   ]
  },
  {
   "cell_type": "code",
   "execution_count": null,
   "id": "fb0e0401",
   "metadata": {},
   "outputs": [],
   "source": [
    "aggregated_df['top_5_count'] = aggregated_df['top_5_count'].astype(int)"
   ]
  },
  {
   "cell_type": "code",
   "execution_count": null,
   "id": "f91b6a7c",
   "metadata": {},
   "outputs": [],
   "source": [
    "drivers_lost = aggregated_df[aggregated_df['top_5_count'] == 0]\n",
    "drivers_won = aggregated_df[aggregated_df['top_5_count'] != 0]"
   ]
  },
  {
   "cell_type": "code",
   "execution_count": null,
   "id": "12fcaf33",
   "metadata": {},
   "outputs": [],
   "source": [
    "drivers_lost"
   ]
  },
  {
   "cell_type": "code",
   "execution_count": null,
   "id": "a7f097d8",
   "metadata": {},
   "outputs": [],
   "source": [
    "drivers_won"
   ]
  },
  {
   "cell_type": "code",
   "execution_count": null,
   "id": "28669264",
   "metadata": {},
   "outputs": [],
   "source": [
    "import inflect\n",
    "\n",
    "def number_to_words(number):\n",
    "    p = inflect.engine()\n",
    "    return p.number_to_words(number)\n",
    "\n",
    "columns_to_convert = ['first_place_count','second_place_count','third_place_count','top_5_count','age_at_first_race','constructor_first_place_count','constructor_second_place_count','constructor_third_place_count','constructor_top_5_count', 'median_lap_position']\n",
    "drivers_won[columns_to_convert] = drivers_won[columns_to_convert].fillna(0).astype(int)\n",
    "\n",
    "drivers_won[columns_to_convert] = drivers_won[columns_to_convert].apply(pd.to_numeric, errors='coerce')\n",
    "\n",
    "drivers_won[columns_to_convert] = drivers_won[columns_to_convert].applymap(number_to_words)\n",
    "\n",
    "print(drivers_won)\n",
    "\n"
   ]
  },
  {
   "cell_type": "code",
   "execution_count": null,
   "id": "68e1972c",
   "metadata": {},
   "outputs": [],
   "source": [
    "import inflect\n",
    "\n",
    "def number_to_words(number):\n",
    "    p = inflect.engine()\n",
    "    return p.number_to_words(number)\n",
    "\n",
    "columns_to_convert = ['first_place_count','second_place_count','third_place_count','top_5_count','age_at_first_race','constructor_first_place_count','constructor_second_place_count','constructor_third_place_count','constructor_top_5_count', 'median_lap_position']\n",
    "drivers_lost[columns_to_convert] = drivers_lost[columns_to_convert].fillna(0).astype(int)\n",
    "\n",
    "drivers_lost[columns_to_convert] = drivers_lost[columns_to_convert].apply(pd.to_numeric, errors='coerce')\n",
    "\n",
    "drivers_lost[columns_to_convert] = drivers_lost[columns_to_convert].applymap(number_to_words)\n",
    "\n",
    "print(drivers_lost)\n",
    "\n"
   ]
  },
  {
   "cell_type": "code",
   "execution_count": null,
   "id": "063156ad",
   "metadata": {},
   "outputs": [],
   "source": [
    "import inflect\n",
    "\n",
    "def number_to_words(number):\n",
    "    p = inflect.engine()\n",
    "    return p.number_to_words(number)\n",
    "\n",
    "columns_to_convert = ['first_place_count','second_place_count','third_place_count','top_5_count','age_at_first_race','constructor_first_place_count','constructor_second_place_count','constructor_third_place_count','constructor_top_5_count', 'median_lap_position']\n",
    "aggregated_df[columns_to_convert] = aggregated_df[columns_to_convert].fillna(0).astype(int)\n",
    "\n",
    "aggregated_df[columns_to_convert] = aggregated_df[columns_to_convert].apply(pd.to_numeric, errors='coerce')\n",
    "\n",
    "aggregated_df[columns_to_convert] = aggregated_df[columns_to_convert].applymap(number_to_words)\n",
    "\n",
    "print(aggregated_df)\n"
   ]
  },
  {
   "cell_type": "code",
   "execution_count": null,
   "id": "22cdff9d",
   "metadata": {},
   "outputs": [],
   "source": [
    "aggregated_df.to_csv(\"all_drivers.csv\", index=False, encoding='utf-8')"
   ]
  },
  {
   "cell_type": "code",
   "execution_count": null,
   "id": "a96e6076",
   "metadata": {},
   "outputs": [],
   "source": [
    "aggregated_df = aggregated_df[aggregated_df.ne('Unknown').all(axis=1)]"
   ]
  },
  {
   "cell_type": "code",
   "execution_count": null,
   "id": "f754dd48",
   "metadata": {},
   "outputs": [],
   "source": [
    "aggregated_df.to_csv(\"all_drivers_withiut_unknown.csv\", index=False, encoding='utf-8')"
   ]
  },
  {
   "cell_type": "code",
   "execution_count": null,
   "id": "92a544a3",
   "metadata": {},
   "outputs": [],
   "source": [
    "drivers_won.to_csv(\"winning_drivers.csv\", index=False, encoding='utf-8')"
   ]
  },
  {
   "cell_type": "code",
   "execution_count": null,
   "id": "6a35d04f",
   "metadata": {},
   "outputs": [],
   "source": [
    "drivers_won = drivers_won[drivers_won.ne('Unknown').all(axis=1)]"
   ]
  },
  {
   "cell_type": "code",
   "execution_count": null,
   "id": "7b5cb264",
   "metadata": {},
   "outputs": [],
   "source": [
    "drivers_won.to_csv(\"winning_drivers_without_unknown.csv\", index=False, encoding='utf-8')"
   ]
  },
  {
   "cell_type": "code",
   "execution_count": null,
   "id": "941acee6",
   "metadata": {},
   "outputs": [],
   "source": [
    "drivers_lost.to_csv(\"losing_drivers.csv\", index=False, encoding='utf-8')"
   ]
  },
  {
   "cell_type": "code",
   "execution_count": null,
   "id": "10af6838",
   "metadata": {},
   "outputs": [],
   "source": [
    "drivers_lost = drivers_lost[drivers_lost.ne('Unknown').all(axis=1)]"
   ]
  },
  {
   "cell_type": "code",
   "execution_count": null,
   "id": "f5c373b2",
   "metadata": {},
   "outputs": [],
   "source": [
    "drivers_lost.to_csv(\"losing_drivers_without_unknown.csv\", index=False, encoding='utf-8')"
   ]
  },
  {
   "cell_type": "code",
   "execution_count": null,
   "id": "94e7d423",
   "metadata": {},
   "outputs": [],
   "source": []
  }
 ],
 "metadata": {
  "kernelspec": {
   "display_name": "Python 3 (ipykernel)",
   "language": "python",
   "name": "python3"
  },
  "language_info": {
   "codemirror_mode": {
    "name": "ipython",
    "version": 3
   },
   "file_extension": ".py",
   "mimetype": "text/x-python",
   "name": "python",
   "nbconvert_exporter": "python",
   "pygments_lexer": "ipython3",
   "version": "3.11.5"
  }
 },
 "nbformat": 4,
 "nbformat_minor": 5
}
