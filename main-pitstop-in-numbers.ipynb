{
 "cells": [
  {
   "cell_type": "code",
   "execution_count": 1,
   "id": "d9ea8c32",
   "metadata": {},
   "outputs": [],
   "source": [
    "import sqlite3\n",
    "import pandas as pd\n",
    "import nbimporter"
   ]
  },
  {
   "cell_type": "code",
   "execution_count": 2,
   "id": "0b656e97",
   "metadata": {},
   "outputs": [],
   "source": [
    "from final_scores import calculate_final_driver_places \n",
    "from lap_times_functions import get_lap_times_stats\n",
    "from lap_times_functions import get_median_lap_position\n",
    "from lap_times_functions import get_total_laps_count\n",
    "from pit_stop_functions import get_pit_stop_stats_in_miliseconds\n",
    "from pit_stop_functions import get_most_common_pit_stop_lap\n",
    "from constructor_table import get_drivers_with_constructor_relationship\n",
    "from constructor_table import get_constructor_points"
   ]
  },
  {
   "cell_type": "code",
   "execution_count": 3,
   "id": "9791551f",
   "metadata": {},
   "outputs": [],
   "source": [
    "conn = sqlite3.connect('formula1.db')"
   ]
  },
  {
   "cell_type": "code",
   "execution_count": 4,
   "id": "18afc1b8",
   "metadata": {
    "scrolled": true
   },
   "outputs": [
    {
     "name": "stdout",
     "output_type": "stream",
     "text": [
      "      year  driverId driver_nationality  driver_points  driver_end_position\n",
      "73    1950       642            Italian           30.0                    1\n",
      "66    1950       579          Argentine           27.0                    2\n",
      "72    1950       786            Italian           24.0                    3\n",
      "70    1950       627             French           13.0                    4\n",
      "56    1950       647            Italian           11.0                    5\n",
      "...    ...       ...                ...            ...                  ...\n",
      "3133  2022       855            Chinese            6.0                   18\n",
      "3136  2022       848               Thai            4.0                   19\n",
      "3139  2022       849           Canadian            2.0                   20\n",
      "3145  2022       856              Dutch            2.0                   20\n",
      "3140  2022       807             German            0.0                   22\n",
      "\n",
      "[3146 rows x 5 columns]\n"
     ]
    }
   ],
   "source": [
    "drivers_final_positions = calculate_final_driver_places(conn)\n",
    "print(drivers_final_positions)"
   ]
  },
  {
   "cell_type": "code",
   "execution_count": 5,
   "id": "1d884ec5",
   "metadata": {},
   "outputs": [
    {
     "name": "stdout",
     "output_type": "stream",
     "text": [
      "      year  driverId driver_nationality  driver_points  driver_end_position  \\\n",
      "51    1950       427             French            0.0                   23   \n",
      "53    1950       498          Argentine            0.0                   23   \n",
      "49    1950       501           American            0.0                   23   \n",
      "25    1950       509           American            0.0                   23   \n",
      "37    1950       518           American            0.0                   23   \n",
      "...    ...       ...                ...            ...                  ...   \n",
      "3139  2022       849           Canadian            2.0                   20   \n",
      "3131  2022       852           Japanese           12.0                   16   \n",
      "3134  2022       854             German           12.0                   16   \n",
      "3133  2022       855            Chinese            6.0                   18   \n",
      "3145  2022       856              Dutch            2.0                   20   \n",
      "\n",
      "      first_place_count  second_place_count  third_place_count  top_5_count  \n",
      "51                  0.0                 0.0                0.0          0.0  \n",
      "53                  0.0                 0.0                0.0          0.0  \n",
      "49                  0.0                 0.0                0.0          0.0  \n",
      "25                  0.0                 0.0                0.0          0.0  \n",
      "37                  0.0                 0.0                0.0          0.0  \n",
      "...                 ...                 ...                ...          ...  \n",
      "3139                0.0                 0.0                0.0          0.0  \n",
      "3131                0.0                 0.0                0.0          0.0  \n",
      "3134                0.0                 0.0                0.0          0.0  \n",
      "3133                0.0                 0.0                0.0          0.0  \n",
      "3145                0.0                 0.0                0.0          0.0  \n",
      "\n",
      "[3146 rows x 9 columns]\n"
     ]
    }
   ],
   "source": [
    "drivers_final_positions = drivers_final_positions.sort_values(by=['year', 'driverId'])\n",
    "\n",
    "for index, row in drivers_final_positions.iterrows():\n",
    "    temp_df = drivers_final_positions[(drivers_final_positions['driverId'] == row['driverId']) & (drivers_final_positions['year'] <= row['year'])]\n",
    "    \n",
    "    first_place_count = temp_df[temp_df['driver_end_position'] == 1].shape[0]\n",
    "    second_place_count = temp_df[temp_df['driver_end_position'] == 2].shape[0]\n",
    "    third_place_count = temp_df[temp_df['driver_end_position'] == 3].shape[0]\n",
    "    top_5_count = temp_df[temp_df['driver_end_position'] <= 5].shape[0]\n",
    "\n",
    "    drivers_final_positions.at[index, 'first_place_count'] = first_place_count\n",
    "    drivers_final_positions.at[index, 'second_place_count'] = second_place_count\n",
    "    drivers_final_positions.at[index, 'third_place_count'] = third_place_count\n",
    "    drivers_final_positions.at[index, 'top_5_count'] = top_5_count\n",
    "\n",
    "print(drivers_final_positions)\n"
   ]
  },
  {
   "cell_type": "code",
   "execution_count": 6,
   "id": "bf08155c",
   "metadata": {},
   "outputs": [
    {
     "name": "stdout",
     "output_type": "stream",
     "text": [
      "     year  driverId  min_lap_time_diff  avg_lap_time_diff  max_lap_time_diff\n",
      "0    2007         1           0.000000           7.852700        1465.791089\n",
      "1    2008         1           0.000000           7.666610         101.287948\n",
      "2    2009         1           0.074346           6.171578          79.374498\n",
      "3    2010         1           0.000000          10.709896        2567.450593\n",
      "4    2011         1           0.000000           8.270089        1600.104940\n",
      "..    ...       ...                ...                ...                ...\n",
      "642  2021       853           2.817997          21.635194        2443.049302\n",
      "643  2021       854           2.234354          18.256438        2428.528386\n",
      "644  2022       854           0.704944          14.242761        3432.659375\n",
      "645  2022       855           0.000000          12.770114        1625.453523\n",
      "646  2022       856           3.086993           8.555862          46.221588\n",
      "\n",
      "[647 rows x 5 columns]\n"
     ]
    }
   ],
   "source": [
    "lap_times_stats = get_lap_times_stats(conn)\n",
    "print(lap_times_stats)"
   ]
  },
  {
   "cell_type": "code",
   "execution_count": 7,
   "id": "ab65da15",
   "metadata": {},
   "outputs": [
    {
     "name": "stdout",
     "output_type": "stream",
     "text": [
      "     year  driverId  min_lap_time_diff  avg_lap_time_diff  max_lap_time_diff  \\\n",
      "0    2007         1           0.000000           7.852700        1465.791089   \n",
      "1    2008         1           0.000000           7.666610         101.287948   \n",
      "2    2009         1           0.074346           6.171578          79.374498   \n",
      "3    2010         1           0.000000          10.709896        2567.450593   \n",
      "4    2011         1           0.000000           8.270089        1600.104940   \n",
      "..    ...       ...                ...                ...                ...   \n",
      "642  2021       853           2.817997          21.635194        2443.049302   \n",
      "643  2021       854           2.234354          18.256438        2428.528386   \n",
      "644  2022       854           0.704944          14.242761        3432.659375   \n",
      "645  2022       855           0.000000          12.770114        1625.453523   \n",
      "646  2022       856           3.086993           8.555862          46.221588   \n",
      "\n",
      "     median_lap_position  \n",
      "0                      2  \n",
      "1                      3  \n",
      "2                      7  \n",
      "3                      4  \n",
      "4                      4  \n",
      "..                   ...  \n",
      "642                   18  \n",
      "643                   18  \n",
      "644                   14  \n",
      "645                   14  \n",
      "646                    9  \n",
      "\n",
      "[647 rows x 6 columns]\n"
     ]
    }
   ],
   "source": [
    "lap_positions = get_median_lap_position(conn)\n",
    "lap_times_stats = pd.merge(lap_times_stats, lap_positions, on=['driverId', 'year'], how='left')\n",
    "print(lap_times_stats)"
   ]
  },
  {
   "cell_type": "code",
   "execution_count": 8,
   "id": "f80469e6",
   "metadata": {},
   "outputs": [
    {
     "name": "stdout",
     "output_type": "stream",
     "text": [
      "     year  driverId  min_lap_time_diff  avg_lap_time_diff  max_lap_time_diff  \\\n",
      "0    2007         1           0.000000           7.852700        1465.791089   \n",
      "1    2008         1           0.000000           7.666610         101.287948   \n",
      "2    2009         1           0.074346           6.171578          79.374498   \n",
      "3    2010         1           0.000000          10.709896        2567.450593   \n",
      "4    2011         1           0.000000           8.270089        1600.104940   \n",
      "..    ...       ...                ...                ...                ...   \n",
      "642  2021       853           2.817997          21.635194        2443.049302   \n",
      "643  2021       854           2.234354          18.256438        2428.528386   \n",
      "644  2022       854           0.704944          14.242761        3432.659375   \n",
      "645  2022       855           0.000000          12.770114        1625.453523   \n",
      "646  2022       856           3.086993           8.555862          46.221588   \n",
      "\n",
      "     median_lap_position  total_laps  \n",
      "0                      2        1037  \n",
      "1                      3        1065  \n",
      "2                      7         904  \n",
      "3                      4        1001  \n",
      "4                      4        1013  \n",
      "..                   ...         ...  \n",
      "642                   18        1008  \n",
      "643                   18        1135  \n",
      "644                   14        1142  \n",
      "645                   14        1060  \n",
      "646                    9          53  \n",
      "\n",
      "[647 rows x 7 columns]\n"
     ]
    }
   ],
   "source": [
    "lap_count = get_total_laps_count(conn)\n",
    "lap_times_stats = pd.merge(lap_times_stats, lap_count, on=['driverId', 'year'], how='left')\n",
    "print(lap_times_stats)"
   ]
  },
  {
   "cell_type": "code",
   "execution_count": 9,
   "id": "2e405b51",
   "metadata": {},
   "outputs": [
    {
     "name": "stdout",
     "output_type": "stream",
     "text": [
      "     driverId  year  min_pit_stop_time   avg_pit_time  max_pit_stop_time\n",
      "0           1  2011              13173   22666.446429              35688\n",
      "1           1  2012              17598   22671.861111              31081\n",
      "2           1  2013              17385   22399.111111              30085\n",
      "3           1  2014              19710   53061.974359            1137295\n",
      "4           1  2015              16579   23666.000000              30216\n",
      "..        ...   ...                ...            ...                ...\n",
      "270       853  2021              15054  211286.047619            2076977\n",
      "271       854  2021              15058  201851.200000            2075728\n",
      "272       854  2022              14144  111302.675000            3065174\n",
      "273       855  2022              14128   67903.444444            1174235\n",
      "274       856  2022              24628   24628.000000              24628\n",
      "\n",
      "[275 rows x 5 columns]\n"
     ]
    }
   ],
   "source": [
    "pit_stop_stats = get_pit_stop_stats_in_miliseconds(conn)\n",
    "print(pit_stop_stats)"
   ]
  },
  {
   "cell_type": "code",
   "execution_count": 10,
   "id": "f0f577e5",
   "metadata": {},
   "outputs": [
    {
     "name": "stdout",
     "output_type": "stream",
     "text": [
      "     driverId  year  min_pit_stop_time   avg_pit_time  max_pit_stop_time  \\\n",
      "0           1  2011              13173   22666.446429              35688   \n",
      "1           1  2012              17598   22671.861111              31081   \n",
      "2           1  2013              17385   22399.111111              30085   \n",
      "3           1  2014              19710   53061.974359            1137295   \n",
      "4           1  2015              16579   23666.000000              30216   \n",
      "..        ...   ...                ...            ...                ...   \n",
      "270       853  2021              15054  211286.047619            2076977   \n",
      "271       854  2021              15058  201851.200000            2075728   \n",
      "272       854  2022              14144  111302.675000            3065174   \n",
      "273       855  2022              14128   67903.444444            1174235   \n",
      "274       856  2022              24628   24628.000000              24628   \n",
      "\n",
      "     most_common_pitstop_lap  \n",
      "0                         16  \n",
      "1                         36  \n",
      "2                         31  \n",
      "3                         26  \n",
      "4                         13  \n",
      "..                       ...  \n",
      "270                       31  \n",
      "271                       34  \n",
      "272                       14  \n",
      "273                        9  \n",
      "274                       19  \n",
      "\n",
      "[275 rows x 6 columns]\n"
     ]
    }
   ],
   "source": [
    "most_common_pit_stop_lap = get_most_common_pit_stop_lap(conn)\n",
    "pit_stop_stats = pd.merge(pit_stop_stats, most_common_pit_stop_lap, on=['driverId', 'year'], how='left')\n",
    "print(pit_stop_stats)"
   ]
  },
  {
   "cell_type": "code",
   "execution_count": 11,
   "id": "ff9f9bc9",
   "metadata": {},
   "outputs": [],
   "source": [
    "constructor_driver_connection = get_drivers_with_constructor_relationship(conn)"
   ]
  },
  {
   "cell_type": "code",
   "execution_count": 12,
   "id": "bf8ccc72",
   "metadata": {},
   "outputs": [
    {
     "name": "stdout",
     "output_type": "stream",
     "text": [
      "      year  driverId driver_nationality  driver_points  driver_end_position  \\\n",
      "0     1950       427             French            0.0                   23   \n",
      "1     1950       498          Argentine            0.0                   23   \n",
      "2     1950       501           American            0.0                   23   \n",
      "3     1950       501           American            0.0                   23   \n",
      "4     1950       509           American            0.0                   23   \n",
      "...    ...       ...                ...            ...                  ...   \n",
      "3482  2022       849           Canadian            2.0                   20   \n",
      "3483  2022       852           Japanese           12.0                   16   \n",
      "3484  2022       854             German           12.0                   16   \n",
      "3485  2022       855            Chinese            6.0                   18   \n",
      "3486  2022       856              Dutch            2.0                   20   \n",
      "\n",
      "      first_place_count  second_place_count  third_place_count  top_5_count  \\\n",
      "0                   0.0                 0.0                0.0          0.0   \n",
      "1                   0.0                 0.0                0.0          0.0   \n",
      "2                   0.0                 0.0                0.0          0.0   \n",
      "3                   0.0                 0.0                0.0          0.0   \n",
      "4                   0.0                 0.0                0.0          0.0   \n",
      "...                 ...                 ...                ...          ...   \n",
      "3482                0.0                 0.0                0.0          0.0   \n",
      "3483                0.0                 0.0                0.0          0.0   \n",
      "3484                0.0                 0.0                0.0          0.0   \n",
      "3485                0.0                 0.0                0.0          0.0   \n",
      "3486                0.0                 0.0                0.0          0.0   \n",
      "\n",
      "      constructorId  \n",
      "0               141  \n",
      "1               105  \n",
      "2                87  \n",
      "3               154  \n",
      "4               160  \n",
      "...             ...  \n",
      "3482              3  \n",
      "3483            213  \n",
      "3484            210  \n",
      "3485             51  \n",
      "3486              3  \n",
      "\n",
      "[3487 rows x 10 columns]\n"
     ]
    }
   ],
   "source": [
    "drivers_with_constructors = pd.merge(drivers_final_positions, constructor_driver_connection, on=['driverId', 'year'], how='left')\n",
    "print(drivers_with_constructors)"
   ]
  },
  {
   "cell_type": "code",
   "execution_count": 13,
   "id": "d55a2721",
   "metadata": {},
   "outputs": [
    {
     "name": "stdout",
     "output_type": "stream",
     "text": [
      "     year  constructorId constructor_nationality  constructor_points  \\\n",
      "0    2022              9                Austrian               759.0   \n",
      "1    2022              6                 Italian               554.0   \n",
      "2    2022            131                  German               515.0   \n",
      "3    2022            214                  French               173.0   \n",
      "4    2022              1                 British               159.0   \n",
      "..    ...            ...                     ...                 ...   \n",
      "895  1958            105                 Italian                 6.0   \n",
      "896  1958             32                 British                 3.0   \n",
      "897  1958            125                 British                 0.0   \n",
      "898  1958            127                 Italian                 0.0   \n",
      "899  1958             95                  German                 0.0   \n",
      "\n",
      "     constructor_place  \n",
      "0                    1  \n",
      "1                    2  \n",
      "2                    3  \n",
      "3                    4  \n",
      "4                    5  \n",
      "..                 ...  \n",
      "895                  5  \n",
      "896                  6  \n",
      "897                  7  \n",
      "898                  7  \n",
      "899                  7  \n",
      "\n",
      "[900 rows x 5 columns]\n"
     ]
    }
   ],
   "source": [
    "connstructor_points = get_constructor_points(conn)\n",
    "print(connstructor_points)"
   ]
  },
  {
   "cell_type": "code",
   "execution_count": 14,
   "id": "7d9135c8",
   "metadata": {},
   "outputs": [
    {
     "name": "stdout",
     "output_type": "stream",
     "text": [
      "     year  constructorId constructor_nationality  constructor_points  \\\n",
      "892  1958              6                 Italian                40.0   \n",
      "896  1958             32                 British                 3.0   \n",
      "894  1958             66                 British                18.0   \n",
      "893  1958             87                 British                31.0   \n",
      "899  1958             95                  German                 0.0   \n",
      "..    ...            ...                     ...                 ...   \n",
      "6    2022            117                 British                55.0   \n",
      "2    2022            131                  German               515.0   \n",
      "7    2022            210                American                37.0   \n",
      "8    2022            213                 Italian                35.0   \n",
      "3    2022            214                  French               173.0   \n",
      "\n",
      "     constructor_place  constructor_first_place_count  \\\n",
      "892                  2                            0.0   \n",
      "896                  6                            0.0   \n",
      "894                  4                            0.0   \n",
      "893                  3                            0.0   \n",
      "899                  7                            0.0   \n",
      "..                 ...                            ...   \n",
      "6                    6                            0.0   \n",
      "2                    3                            8.0   \n",
      "7                    8                            0.0   \n",
      "8                    9                            0.0   \n",
      "3                    4                            0.0   \n",
      "\n",
      "     constructor_second_place_count  constructor_third_place_count  \\\n",
      "892                             1.0                            0.0   \n",
      "896                             0.0                            0.0   \n",
      "894                             0.0                            0.0   \n",
      "893                             0.0                            1.0   \n",
      "899                             0.0                            0.0   \n",
      "..                              ...                            ...   \n",
      "6                               0.0                            0.0   \n",
      "2                               1.0                            1.0   \n",
      "7                               0.0                            0.0   \n",
      "8                               0.0                            0.0   \n",
      "3                               0.0                            0.0   \n",
      "\n",
      "     constructor_top_5_count  \n",
      "892                      1.0  \n",
      "896                      0.0  \n",
      "894                      1.0  \n",
      "893                      1.0  \n",
      "899                      0.0  \n",
      "..                       ...  \n",
      "6                        1.0  \n",
      "2                       13.0  \n",
      "7                        1.0  \n",
      "8                        0.0  \n",
      "3                        2.0  \n",
      "\n",
      "[900 rows x 9 columns]\n"
     ]
    }
   ],
   "source": [
    "connstructor_points = connstructor_points.sort_values(by=['year', 'constructorId'])\n",
    "\n",
    "for index, row in connstructor_points.iterrows():\n",
    "    temp_df = connstructor_points[(connstructor_points['constructorId'] == row['constructorId']) & (connstructor_points['year'] <= row['year'])]\n",
    "    \n",
    "    temp_first_place_count = temp_df[temp_df['constructor_place'] == 1].shape[0]\n",
    "    temp_second_place_count = temp_df[temp_df['constructor_place'] == 2].shape[0]\n",
    "    temp_third_place_count = temp_df[temp_df['constructor_place'] == 3].shape[0]\n",
    "    temp_top_5_count = temp_df[temp_df['constructor_place'] <= 5].shape[0]\n",
    "    \n",
    "    connstructor_points.at[index, 'constructor_first_place_count'] = temp_first_place_count\n",
    "    connstructor_points.at[index, 'constructor_second_place_count'] = temp_second_place_count\n",
    "    connstructor_points.at[index, 'constructor_third_place_count'] = temp_third_place_count\n",
    "    connstructor_points.at[index, 'constructor_top_5_count'] = temp_top_5_count\n",
    "\n",
    "print(connstructor_points)\n"
   ]
  },
  {
   "cell_type": "code",
   "execution_count": 15,
   "id": "5a3ca085",
   "metadata": {},
   "outputs": [
    {
     "name": "stdout",
     "output_type": "stream",
     "text": [
      "      year  driverId driver_nationality  driver_points  driver_end_position  \\\n",
      "0     1950       427             French            0.0                   23   \n",
      "1     1950       498          Argentine            0.0                   23   \n",
      "2     1950       501           American            0.0                   23   \n",
      "3     1950       501           American            0.0                   23   \n",
      "4     1950       509           American            0.0                   23   \n",
      "...    ...       ...                ...            ...                  ...   \n",
      "3482  2022       849           Canadian            2.0                   20   \n",
      "3483  2022       852           Japanese           12.0                   16   \n",
      "3484  2022       854             German           12.0                   16   \n",
      "3485  2022       855            Chinese            6.0                   18   \n",
      "3486  2022       856              Dutch            2.0                   20   \n",
      "\n",
      "      first_place_count  second_place_count  third_place_count  top_5_count  \\\n",
      "0                   0.0                 0.0                0.0          0.0   \n",
      "1                   0.0                 0.0                0.0          0.0   \n",
      "2                   0.0                 0.0                0.0          0.0   \n",
      "3                   0.0                 0.0                0.0          0.0   \n",
      "4                   0.0                 0.0                0.0          0.0   \n",
      "...                 ...                 ...                ...          ...   \n",
      "3482                0.0                 0.0                0.0          0.0   \n",
      "3483                0.0                 0.0                0.0          0.0   \n",
      "3484                0.0                 0.0                0.0          0.0   \n",
      "3485                0.0                 0.0                0.0          0.0   \n",
      "3486                0.0                 0.0                0.0          0.0   \n",
      "\n",
      "      constructorId constructor_nationality  constructor_points  \\\n",
      "0               141                     NaN                 NaN   \n",
      "1               105                     NaN                 NaN   \n",
      "2                87                     NaN                 NaN   \n",
      "3               154                     NaN                 NaN   \n",
      "4               160                     NaN                 NaN   \n",
      "...             ...                     ...                 ...   \n",
      "3482              3                 British                 8.0   \n",
      "3483            213                 Italian                35.0   \n",
      "3484            210                American                37.0   \n",
      "3485             51                   Swiss                55.0   \n",
      "3486              3                 British                 8.0   \n",
      "\n",
      "      constructor_place  constructor_first_place_count  \\\n",
      "0                   NaN                            NaN   \n",
      "1                   NaN                            NaN   \n",
      "2                   NaN                            NaN   \n",
      "3                   NaN                            NaN   \n",
      "4                   NaN                            NaN   \n",
      "...                 ...                            ...   \n",
      "3482               10.0                            9.0   \n",
      "3483                9.0                            0.0   \n",
      "3484                8.0                            0.0   \n",
      "3485                6.0                            0.0   \n",
      "3486               10.0                            9.0   \n",
      "\n",
      "      constructor_second_place_count  constructor_third_place_count  \\\n",
      "0                                NaN                            NaN   \n",
      "1                                NaN                            NaN   \n",
      "2                                NaN                            NaN   \n",
      "3                                NaN                            NaN   \n",
      "4                                NaN                            NaN   \n",
      "...                              ...                            ...   \n",
      "3482                             6.0                            6.0   \n",
      "3483                             0.0                            0.0   \n",
      "3484                             0.0                            0.0   \n",
      "3485                             0.0                            0.0   \n",
      "3486                             6.0                            6.0   \n",
      "\n",
      "      constructor_top_5_count  \n",
      "0                         NaN  \n",
      "1                         NaN  \n",
      "2                         NaN  \n",
      "3                         NaN  \n",
      "4                         NaN  \n",
      "...                       ...  \n",
      "3482                     30.0  \n",
      "3483                      0.0  \n",
      "3484                      1.0  \n",
      "3485                      0.0  \n",
      "3486                     30.0  \n",
      "\n",
      "[3487 rows x 17 columns]\n"
     ]
    }
   ],
   "source": [
    "drivers_with_constructors = pd.merge(drivers_with_constructors, connstructor_points, on=['constructorId', 'year'], how='left')\n",
    "print(drivers_with_constructors)"
   ]
  },
  {
   "cell_type": "code",
   "execution_count": 16,
   "id": "8a219d0a",
   "metadata": {},
   "outputs": [
    {
     "name": "stdout",
     "output_type": "stream",
     "text": [
      "     year  driverId  min_lap_time_diff  avg_lap_time_diff  max_lap_time_diff  \\\n",
      "0    2007         1           0.000000           7.852700        1465.791089   \n",
      "1    2008         1           0.000000           7.666610         101.287948   \n",
      "2    2009         1           0.074346           6.171578          79.374498   \n",
      "3    2010         1           0.000000          10.709896        2567.450593   \n",
      "4    2011         1           0.000000           8.270089        1600.104940   \n",
      "..    ...       ...                ...                ...                ...   \n",
      "642  2021       853           2.817997          21.635194        2443.049302   \n",
      "643  2021       854           2.234354          18.256438        2428.528386   \n",
      "644  2022       854           0.704944          14.242761        3432.659375   \n",
      "645  2022       855           0.000000          12.770114        1625.453523   \n",
      "646  2022       856           3.086993           8.555862          46.221588   \n",
      "\n",
      "     median_lap_position  total_laps min_pit_stop_time   avg_pit_time  \\\n",
      "0                      2        1037           unknown        unknown   \n",
      "1                      3        1065           unknown        unknown   \n",
      "2                      7         904           unknown        unknown   \n",
      "3                      4        1001           unknown        unknown   \n",
      "4                      4        1013           13173.0   22666.446429   \n",
      "..                   ...         ...               ...            ...   \n",
      "642                   18        1008           15054.0  211286.047619   \n",
      "643                   18        1135           15058.0       201851.2   \n",
      "644                   14        1142           14144.0     111302.675   \n",
      "645                   14        1060           14128.0   67903.444444   \n",
      "646                    9          53           24628.0        24628.0   \n",
      "\n",
      "    max_pit_stop_time most_common_pitstop_lap  \n",
      "0             unknown                 unknown  \n",
      "1             unknown                 unknown  \n",
      "2             unknown                 unknown  \n",
      "3             unknown                 unknown  \n",
      "4             35688.0                    16.0  \n",
      "..                ...                     ...  \n",
      "642         2076977.0                    31.0  \n",
      "643         2075728.0                    34.0  \n",
      "644         3065174.0                    14.0  \n",
      "645         1174235.0                     9.0  \n",
      "646           24628.0                    19.0  \n",
      "\n",
      "[647 rows x 11 columns]\n"
     ]
    }
   ],
   "source": [
    "lap_pit_df = pd.merge(lap_times_stats, pit_stop_stats, on=['driverId', 'year'], how='outer', suffixes=('_lap', '_pit'))\n",
    "\n",
    "lap_pit_df = lap_pit_df.fillna('unknown')\n",
    "\n",
    "print(lap_pit_df)"
   ]
  },
  {
   "cell_type": "code",
   "execution_count": 17,
   "id": "37426bc7",
   "metadata": {},
   "outputs": [
    {
     "name": "stdout",
     "output_type": "stream",
     "text": [
      "      year  driverId driver_nationality driver_points driver_end_position  \\\n",
      "0     1950       427             French           0.0                23.0   \n",
      "1     1950       498          Argentine           0.0                23.0   \n",
      "2     1950       501           American           0.0                23.0   \n",
      "3     1950       501           American           0.0                23.0   \n",
      "4     1950       509           American           0.0                23.0   \n",
      "...    ...       ...                ...           ...                 ...   \n",
      "3486  2022       856              Dutch           2.0                20.0   \n",
      "3487  2002        19            unknown       unknown             unknown   \n",
      "3488  2007        28            unknown       unknown             unknown   \n",
      "3489  1996        58            unknown       unknown             unknown   \n",
      "3490  1999        72            unknown       unknown             unknown   \n",
      "\n",
      "     first_place_count second_place_count third_place_count top_5_count  \\\n",
      "0                  0.0                0.0               0.0         0.0   \n",
      "1                  0.0                0.0               0.0         0.0   \n",
      "2                  0.0                0.0               0.0         0.0   \n",
      "3                  0.0                0.0               0.0         0.0   \n",
      "4                  0.0                0.0               0.0         0.0   \n",
      "...                ...                ...               ...         ...   \n",
      "3486               0.0                0.0               0.0         0.0   \n",
      "3487           unknown            unknown           unknown     unknown   \n",
      "3488           unknown            unknown           unknown     unknown   \n",
      "3489           unknown            unknown           unknown     unknown   \n",
      "3490           unknown            unknown           unknown     unknown   \n",
      "\n",
      "     constructorId  ... constructor_top_5_count min_lap_time_diff  \\\n",
      "0            141.0  ...                 unknown           unknown   \n",
      "1            105.0  ...                 unknown           unknown   \n",
      "2             87.0  ...                 unknown           unknown   \n",
      "3            154.0  ...                 unknown           unknown   \n",
      "4            160.0  ...                 unknown           unknown   \n",
      "...            ...  ...                     ...               ...   \n",
      "3486           3.0  ...                    30.0          3.086993   \n",
      "3487       unknown  ...                 unknown          4.120356   \n",
      "3488       unknown  ...                 unknown         10.694323   \n",
      "3489       unknown  ...                 unknown           3.92784   \n",
      "3490       unknown  ...                 unknown          3.539925   \n",
      "\n",
      "     avg_lap_time_diff max_lap_time_diff median_lap_position total_laps  \\\n",
      "0              unknown           unknown             unknown    unknown   \n",
      "1              unknown           unknown             unknown    unknown   \n",
      "2              unknown           unknown             unknown    unknown   \n",
      "3              unknown           unknown             unknown    unknown   \n",
      "4              unknown           unknown             unknown    unknown   \n",
      "...                ...               ...                 ...        ...   \n",
      "3486          8.555862         46.221588                 9.0       53.0   \n",
      "3487          8.499973         39.237865                18.0       75.0   \n",
      "3488        154.153008       1448.359234                 8.0       13.0   \n",
      "3489         13.236229        115.997674                16.0       33.0   \n",
      "3490          5.685171         21.511065                14.0       31.0   \n",
      "\n",
      "     min_pit_stop_time avg_pit_time max_pit_stop_time most_common_pitstop_lap  \n",
      "0              unknown      unknown           unknown                 unknown  \n",
      "1              unknown      unknown           unknown                 unknown  \n",
      "2              unknown      unknown           unknown                 unknown  \n",
      "3              unknown      unknown           unknown                 unknown  \n",
      "4              unknown      unknown           unknown                 unknown  \n",
      "...                ...          ...               ...                     ...  \n",
      "3486           24628.0      24628.0           24628.0                    19.0  \n",
      "3487           unknown      unknown           unknown                 unknown  \n",
      "3488           unknown      unknown           unknown                 unknown  \n",
      "3489           unknown      unknown           unknown                 unknown  \n",
      "3490           unknown      unknown           unknown                 unknown  \n",
      "\n",
      "[3491 rows x 26 columns]\n"
     ]
    }
   ],
   "source": [
    "final_df = pd.merge(drivers_with_constructors, lap_pit_df, on=['driverId', 'year'], how='outer')\n",
    "\n",
    "final_df = final_df.fillna('unknown')\n",
    "\n",
    "print(final_df)\n",
    "\n",
    "final_df.to_csv('final-with-pistop-miliseconds.csv', index=False)"
   ]
  }
 ],
 "metadata": {
  "kernelspec": {
   "display_name": "Python 3 (ipykernel)",
   "language": "python",
   "name": "python3"
  },
  "language_info": {
   "codemirror_mode": {
    "name": "ipython",
    "version": 3
   },
   "file_extension": ".py",
   "mimetype": "text/x-python",
   "name": "python",
   "nbconvert_exporter": "python",
   "pygments_lexer": "ipython3",
   "version": "3.11.5"
  }
 },
 "nbformat": 4,
 "nbformat_minor": 5
}
