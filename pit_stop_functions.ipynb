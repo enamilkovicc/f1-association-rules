{
 "cells": [
  {
   "cell_type": "code",
   "execution_count": 1,
   "id": "e88632a3",
   "metadata": {},
   "outputs": [],
   "source": [
    "import pandas as pd\n",
    "import sqlite3"
   ]
  },
  {
   "cell_type": "code",
   "execution_count": 2,
   "id": "5bad9240",
   "metadata": {},
   "outputs": [],
   "source": [
    "def get_most_common_pit_stop_lap(conn: str) -> pd.DataFrame:\n",
    "    query = '''\n",
    "    WITH MostCommonPitStopLap AS (\n",
    "        SELECT\n",
    "            races.year,\n",
    "            drivers.driverId,\n",
    "            pit_stops.lap AS most_common_pitstop_lap,\n",
    "            ROW_NUMBER() OVER (PARTITION BY drivers.driverId, races.year ORDER BY COUNT(pit_stops.lap) DESC) AS lap_rank\n",
    "        FROM\n",
    "            drivers\n",
    "        JOIN\n",
    "            pit_stops ON drivers.driverId = pit_stops.driverId\n",
    "        JOIN\n",
    "            races ON pit_stops.raceId = races.raceId\n",
    "        WHERE\n",
    "            races.year != '2023'\n",
    "        GROUP BY\n",
    "            drivers.driverId, races.year, pit_stops.lap\n",
    "    )\n",
    "    SELECT\n",
    "        driverId,\n",
    "        year,\n",
    "        most_common_pitstop_lap\n",
    "    FROM\n",
    "        MostCommonPitStopLap\n",
    "    WHERE\n",
    "        lap_rank = 1;\n",
    "    '''\n",
    "    \n",
    "    pit_stop_lap = pd.read_sql_query(query, conn)\n",
    "\n",
    "    return pit_stop_lap\n"
   ]
  },
  {
   "cell_type": "code",
   "execution_count": 3,
   "id": "b057ff6f",
   "metadata": {},
   "outputs": [],
   "source": [
    "def get_pit_stop_stats_in_miliseconds(conn: str) -> pd.DataFrame:\n",
    "    \"\"\"\n",
    "    Retrieve pit stop statistics (average, minimum, and maximum pit stop times) for each driver and year.\n",
    "    \n",
    "    :param conn: The database connection.\n",
    "    :return: DataFrame containing driverId, year, avg_pit_time, min_pit_stop_time, and max_pit_stop_time.\n",
    "    \"\"\"\n",
    "    query = '''\n",
    "    SELECT\n",
    "        drivers.driverId,\n",
    "        races.year,\n",
    "        MIN(pit_stops.milliseconds) AS min_pit_stop_time,\n",
    "         AVG(pit_stops.milliseconds) AS avg_pit_time,\n",
    "        MAX(pit_stops.milliseconds) AS max_pit_stop_time\n",
    "    FROM\n",
    "        drivers \n",
    "    JOIN\n",
    "        pit_stops ON drivers.driverId = pit_stops.driverId\n",
    "    JOIN\n",
    "        races ON pit_stops.raceId = races.raceId\n",
    "    WHERE\n",
    "        races.year != '2023'\n",
    "    GROUP BY\n",
    "        drivers.driverId, races.year;\n",
    "    '''\n",
    "\n",
    "    df = pd.read_sql_query(query, conn)\n",
    "\n",
    "    return df\n"
   ]
  }
 ],
 "metadata": {
  "kernelspec": {
   "display_name": "Python 3 (ipykernel)",
   "language": "python",
   "name": "python3"
  },
  "language_info": {
   "codemirror_mode": {
    "name": "ipython",
    "version": 3
   },
   "file_extension": ".py",
   "mimetype": "text/x-python",
   "name": "python",
   "nbconvert_exporter": "python",
   "pygments_lexer": "ipython3",
   "version": "3.11.5"
  }
 },
 "nbformat": 4,
 "nbformat_minor": 5
}
