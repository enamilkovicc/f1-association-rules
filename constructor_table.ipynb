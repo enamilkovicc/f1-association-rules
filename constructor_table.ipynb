{
 "cells": [
  {
   "cell_type": "code",
   "execution_count": 1,
   "id": "f8786ca1",
   "metadata": {
    "scrolled": true
   },
   "outputs": [],
   "source": [
    "import sqlite3\n",
    "import pandas as pd"
   ]
  },
  {
   "cell_type": "code",
   "execution_count": 2,
   "id": "a6635c49",
   "metadata": {},
   "outputs": [],
   "source": [
    "def get_drivers_with_constructor_relationship(conn: str) -> pd.DataFrame:\n",
    "    \"\"\"\n",
    "    Get drivers per year with their constructor for that year.\n",
    "\n",
    "    :param conn: The database connection.\n",
    "    :return: DataFrame with year, driverId, constructorId, and constructorName.\n",
    "    \"\"\"\n",
    "    query = \"\"\"\n",
    "        SELECT races.year, r.driverId, r.constructorId, c.name AS constructorName, c.nationality AS constructor_nationality\n",
    "        FROM results r\n",
    "        JOIN races ON r.raceId = races.raceId\n",
    "        JOIN constructors c ON r.constructorId = c.constructorId\n",
    "        WHERE races.year <> 2023\n",
    "        GROUP BY r.driverId, races.year, r.constructorId, constructorName;\n",
    "    \"\"\"\n",
    "    df = pd.read_sql_query(query, conn)\n",
    "\n",
    "    return df\n"
   ]
  },
  {
   "cell_type": "code",
   "execution_count": 3,
   "id": "1809f681",
   "metadata": {},
   "outputs": [],
   "source": [
    "def get_constructor_points(conn: str) -> pd.DataFrame:\n",
    "    \"\"\"\n",
    "    Calculate constructor points, including rank and number of times in the first place.\n",
    "\n",
    "    :param conn: The database connection.\n",
    "    :return: DataFrame year, driverId and constructorId.\n",
    "    - DataFrame containing constructor points with additional information.\n",
    "    \"\"\"\n",
    "    constructor_points_query = '''\n",
    "        WITH LastRacePerSeason AS (\n",
    "            SELECT\n",
    "                r.year,\n",
    "                MAX(r.date) AS last_race_date\n",
    "            FROM\n",
    "                races r\n",
    "            WHERE\n",
    "                r.year BETWEEN 1950 AND 2022\n",
    "            GROUP BY\n",
    "                r.year\n",
    "        ),\n",
    "        ConstructorStandingsWithRank AS (\n",
    "            SELECT\n",
    "                lrs.year,\n",
    "                cs.constructorId,\n",
    "                cs.points AS constructor_points,\n",
    "                RANK() OVER (PARTITION BY lrs.year ORDER BY cs.points DESC) AS constructor_place\n",
    "            FROM\n",
    "                LastRacePerSeason lrs\n",
    "            JOIN\n",
    "                races r ON lrs.year = r.year AND lrs.last_race_date = r.date\n",
    "            JOIN\n",
    "                constructor_standings cs ON r.raceId = cs.raceId\n",
    "            JOIN\n",
    "                constructors c ON cs.constructorId = c.constructorId\n",
    "        )\n",
    "\n",
    "        SELECT\n",
    "            *\n",
    "        FROM\n",
    "            ConstructorStandingsWithRank\n",
    "        ORDER BY\n",
    "            year DESC, constructor_points DESC;\n",
    "    '''\n",
    "\n",
    "    df = pd.read_sql_query(constructor_points_query, conn)\n",
    "\n",
    "    return df"
   ]
  }
 ],
 "metadata": {
  "kernelspec": {
   "display_name": "Python 3 (ipykernel)",
   "language": "python",
   "name": "python3"
  },
  "language_info": {
   "codemirror_mode": {
    "name": "ipython",
    "version": 3
   },
   "file_extension": ".py",
   "mimetype": "text/x-python",
   "name": "python",
   "nbconvert_exporter": "python",
   "pygments_lexer": "ipython3",
   "version": "3.11.5"
  }
 },
 "nbformat": 4,
 "nbformat_minor": 5
}
