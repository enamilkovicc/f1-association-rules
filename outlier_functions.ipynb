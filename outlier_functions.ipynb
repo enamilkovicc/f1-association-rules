{
 "cells": [
  {
   "cell_type": "code",
   "execution_count": 1,
   "id": "7fb930ba",
   "metadata": {},
   "outputs": [],
   "source": [
    "import pandas as pd"
   ]
  },
  {
   "cell_type": "code",
   "execution_count": 2,
   "id": "d61a19b7",
   "metadata": {},
   "outputs": [],
   "source": [
    "def percentile_outliers(df):\n",
    "    outliers_df = pd.DataFrame(columns=['driverId', 'year', 'place'])\n",
    "\n",
    "    percentile_place_low = 0\n",
    "    percentile_place_high = 80 \n",
    "\n",
    "    for driver_id in df['driverId'].unique():\n",
    "        driver_data = df[df['driverId'] == driver_id]\n",
    "        \n",
    "        if driver_data['year'].nunique() < 3:\n",
    "            continue\n",
    "\n",
    "        place_percentile_low = driver_data['place'].quantile(percentile_place_low / 100)\n",
    "        place_percentile_high = driver_data['place'].quantile(percentile_place_high / 100)\n",
    "\n",
    "        driver_outliers_low = driver_data[driver_data['place'] < place_percentile_low]\n",
    "        driver_outliers_high = driver_data[driver_data['place'] > place_percentile_high]\n",
    "\n",
    "        driver_outliers_low.loc[:, 'driverId'] = driver_id\n",
    "        driver_outliers_high.loc[:, 'driverId'] = driver_id\n",
    "\n",
    "        outliers_df = pd.concat([outliers_df, driver_outliers_low, driver_outliers_high], ignore_index=True)\n",
    "\n",
    "    return outliers_df\n"
   ]
  },
  {
   "cell_type": "code",
   "execution_count": 3,
   "id": "45761261",
   "metadata": {},
   "outputs": [],
   "source": [
    "from scipy.stats import zscore\n",
    "\n",
    "def zscore_outliers(df, weight_points=0.3, weight_place=0.7, zscore_threshold=2):\n",
    "    outliers_df = pd.DataFrame(columns=['driverId', 'year', 'composite_metric', 'z_score'])\n",
    "\n",
    "    for driver_id in df['driverId'].unique():\n",
    "        driver_data = df[df['driverId'] == driver_id].copy()\n",
    "        \n",
    "        if len(driver_data) > 2:\n",
    "            driver_data['composite_metric'] = driver_data['points'] * weight_points + driver_data['place'] * weight_place\n",
    "\n",
    "            if driver_data['composite_metric'].std() != 0:\n",
    "                z_scores = zscore(driver_data['composite_metric'])\n",
    "                \n",
    "                driver_outliers = driver_data[abs(z_scores) > zscore_threshold]\n",
    "\n",
    "                driver_outliers['driverId'] = driver_id\n",
    "\n",
    "                outliers_df = pd.concat([outliers_df, driver_outliers], ignore_index=True)\n",
    "\n",
    "    return outliers_df\n"
   ]
  },
  {
   "cell_type": "code",
   "execution_count": 4,
   "id": "89f74586",
   "metadata": {},
   "outputs": [],
   "source": [
    "def iqr_outliers(df, weight_points=0.3, weight_place=0.7, iqr_multiplier=2.5):\n",
    "    outliers_df = pd.DataFrame(columns=['driverId', 'year', 'composite_metric'])\n",
    "\n",
    "    for driver_id in df['driverId'].unique():\n",
    "        driver_data = df[df['driverId'] == driver_id].copy()\n",
    "\n",
    "        if len(driver_data) > 1:\n",
    "            driver_data['composite_metric'] = driver_data['points'] * weight_points + driver_data['place'] * weight_place\n",
    "\n",
    "            Q1 = driver_data['composite_metric'].quantile(0.25)\n",
    "            Q3 = driver_data['composite_metric'].quantile(0.75)\n",
    "            IQR = Q3 - Q1\n",
    "\n",
    "            driver_outliers = driver_data[(driver_data['composite_metric'] < Q1 - iqr_multiplier * IQR) | (driver_data['composite_metric'] > Q3 + iqr_multiplier * IQR)]\n",
    "\n",
    "            driver_outliers['driverId'] = driver_id\n",
    "\n",
    "            outliers_df = pd.concat([outliers_df, driver_outliers], ignore_index=True)\n",
    "\n",
    "    return outliers_df\n"
   ]
  },
  {
   "cell_type": "code",
   "execution_count": 5,
   "id": "f7d39298",
   "metadata": {},
   "outputs": [],
   "source": [
    "def remove_outliers(main_df, outliers_df, key_columns=None):\n",
    "    # If key_columns is not provided, use default key columns\n",
    "    if key_columns is None:\n",
    "        key_columns = ['driverId', 'year']\n",
    "\n",
    "    # Check if key columns exist in both DataFrames\n",
    "    for key in key_columns:\n",
    "        if key not in main_df.columns:\n",
    "            raise KeyError(f\"Key column '{key}' not found in main_df\")\n",
    "        if key not in outliers_df.columns:\n",
    "            raise KeyError(f\"Key column '{key}' not found in outliers_df\")\n",
    "\n",
    "    # Identify rows to be removed in main_df\n",
    "    rows_to_remove = main_df.merge(outliers_df[key_columns], on=key_columns, how='inner').index\n",
    "\n",
    "    # Remove identified rows\n",
    "    cleaned_df = main_df.drop(index=rows_to_remove)\n",
    "\n",
    "    return cleaned_df"
   ]
  }
 ],
 "metadata": {
  "kernelspec": {
   "display_name": "Python 3 (ipykernel)",
   "language": "python",
   "name": "python3"
  },
  "language_info": {
   "codemirror_mode": {
    "name": "ipython",
    "version": 3
   },
   "file_extension": ".py",
   "mimetype": "text/x-python",
   "name": "python",
   "nbconvert_exporter": "python",
   "pygments_lexer": "ipython3",
   "version": "3.11.5"
  }
 },
 "nbformat": 4,
 "nbformat_minor": 5
}
