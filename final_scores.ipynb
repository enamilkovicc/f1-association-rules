{
 "cells": [
  {
   "cell_type": "code",
   "execution_count": 1,
   "id": "b328575d",
   "metadata": {},
   "outputs": [],
   "source": [
    "import pandas as pd"
   ]
  },
  {
   "cell_type": "code",
   "execution_count": 2,
   "id": "a93b89f5",
   "metadata": {},
   "outputs": [],
   "source": [
    "def calculate_final_driver_places(conn):\n",
    "\n",
    "    points_query = '''\n",
    "        SELECT r.year, ds.driverId, d.forename || ' ' || d.surname AS driver_name, ds.points\n",
    "        FROM driver_standings ds\n",
    "        INNER JOIN (\n",
    "            SELECT r1.year, MAX(r1.date) AS last_race_date\n",
    "            FROM races r1\n",
    "            GROUP BY r1.year\n",
    "        ) last_race ON ds.raceId = (\n",
    "            SELECT r2.raceId\n",
    "            FROM races r2\n",
    "            WHERE r2.year = last_race.year AND r2.date = last_race.last_race_date\n",
    "            LIMIT 1\n",
    "        )\n",
    "        INNER JOIN races r ON ds.raceId = r.raceId AND r.date = last_race.last_race_date\n",
    "        INNER JOIN drivers d ON ds.driverId = d.driverId;\n",
    "    '''\n",
    "\n",
    "    points_df = pd.read_sql_query(points_query, conn)\n",
    "\n",
    "    points_df = points_df.sort_values(by=['year', 'points'], ascending=[True, False])\n",
    "\n",
    "    points_df['place'] = points_df.groupby('year')['points'].rank(ascending=False, method='min').astype(int)\n",
    "\n",
    "    return points_df\n"
   ]
  },
  {
   "cell_type": "code",
   "execution_count": 3,
   "id": "b3bae955",
   "metadata": {},
   "outputs": [],
   "source": [
    "def calculate_final_constructor_places(conn):\n",
    "    \n",
    "    constructor_points_query = '''\n",
    "        WITH LastRacePerSeason AS (\n",
    "        SELECT\n",
    "            r.year,\n",
    "            MAX(r.date) AS last_race_date\n",
    "        FROM\n",
    "            races r\n",
    "        WHERE\n",
    "            r.year BETWEEN 1950 AND 2022\n",
    "        GROUP BY\n",
    "            r.year\n",
    "        )\n",
    "\n",
    "        SELECT\n",
    "            lrs.year,\n",
    "            cs.constructorId,\n",
    "            c.name AS constructor_name,\n",
    "            cs.points,\n",
    "            RANK() OVER (PARTITION BY lrs.year ORDER BY cs.points DESC) AS place\n",
    "        FROM\n",
    "            LastRacePerSeason lrs\n",
    "        JOIN\n",
    "            races r ON lrs.year = r.year AND lrs.last_race_date = r.date\n",
    "        JOIN\n",
    "            constructor_standings cs ON r.raceId = cs.raceId\n",
    "        JOIN\n",
    "            constructors c ON cs.constructorId = c.constructorId\n",
    "        ORDER BY\n",
    "            lrs.year DESC, cs.points DESC;\n",
    "    '''\n",
    "\n",
    "    constructor_points_df = pd.read_sql_query(constructor_points_query, conn)\n",
    "\n",
    "    return constructor_points_df"
   ]
  },
  {
   "cell_type": "code",
   "execution_count": 4,
   "id": "c569c5c6",
   "metadata": {},
   "outputs": [],
   "source": [
    "def get_max_min_points_for_season(df):\n",
    "    max_min_points_df = df.groupby('year').agg(\n",
    "        max_points=('points', 'max'),\n",
    "        min_points=('points', 'min')\n",
    "    ).reset_index()\n",
    "\n",
    "    return max_min_points_df"
   ]
  },
  {
   "cell_type": "code",
   "execution_count": 5,
   "id": "f29e1750",
   "metadata": {},
   "outputs": [],
   "source": [
    "def get_number_of_drivers_for_season(df):\n",
    "    num_drivers_df = df.groupby('year')['driverId'].nunique().reset_index(name='num_drivers')\n",
    "    return num_drivers_df"
   ]
  }
 ],
 "metadata": {
  "kernelspec": {
   "display_name": "Python 3 (ipykernel)",
   "language": "python",
   "name": "python3"
  },
  "language_info": {
   "codemirror_mode": {
    "name": "ipython",
    "version": 3
   },
   "file_extension": ".py",
   "mimetype": "text/x-python",
   "name": "python",
   "nbconvert_exporter": "python",
   "pygments_lexer": "ipython3",
   "version": "3.11.5"
  }
 },
 "nbformat": 4,
 "nbformat_minor": 5
}
