{
 "cells": [
  {
   "cell_type": "code",
   "execution_count": 1,
   "id": "2695bec8",
   "metadata": {},
   "outputs": [
    {
     "name": "stdout",
     "output_type": "stream",
     "text": [
      "      driverId  year  total_points            driver_name\n",
      "0          427  1950           0.0    Maurice Trintignant\n",
      "1          498  1950           0.0  José Froilán González\n",
      "2          501  1950           0.0           Harry Schell\n",
      "3          509  1950           0.0           Jim Rathmann\n",
      "4          518  1950           0.0           Duane Carter\n",
      "...        ...   ...           ...                    ...\n",
      "3181       852  2023           3.0           Yuki Tsunoda\n",
      "3182       855  2023           4.0            Guanyu Zhou\n",
      "3183       856  2023           0.0          Nyck de Vries\n",
      "3184       857  2023          27.0          Oscar Piastri\n",
      "3185       858  2023           0.0         Logan Sargeant\n",
      "\n",
      "[3186 rows x 4 columns]\n"
     ]
    }
   ],
   "source": [
    "import sqlite3\n",
    "import pandas as pd\n",
    "\n",
    "# Connect to the SQLite database\n",
    "conn = sqlite3.connect('formula1-originalDB.db')\n",
    "\n",
    "# Your SQL query to calculate points for each driver for each year\n",
    "query = '''\n",
    "WITH DriverPoints AS (\n",
    "    SELECT\n",
    "        races.year,\n",
    "        results.driverId,\n",
    "        SUM(results.points) AS total_points\n",
    "    FROM\n",
    "        results\n",
    "    JOIN\n",
    "        races ON results.raceId = races.raceId\n",
    "    JOIN\n",
    "        drivers ON results.driverId = drivers.driverId\n",
    "    GROUP BY\n",
    "        races.year, results.driverId\n",
    ")\n",
    "SELECT\n",
    "    DriverPoints.driverId,\n",
    "    DriverPoints.year,\n",
    "    DriverPoints.total_points,\n",
    "    drivers.forename || ' ' || drivers.surname AS driver_name\n",
    "FROM\n",
    "    DriverPoints\n",
    "JOIN\n",
    "    drivers ON DriverPoints.driverId = drivers.driverId;\n",
    "'''\n",
    "\n",
    "# Execute the SQL query and read the result into a DataFrame\n",
    "driver_df = pd.read_sql_query(query, conn)\n",
    "\n",
    "# Print the DataFrame\n",
    "print(driver_df)\n"
   ]
  },
  {
   "cell_type": "code",
   "execution_count": null,
   "id": "2a99c518",
   "metadata": {},
   "outputs": [],
   "source": []
  }
 ],
 "metadata": {
  "kernelspec": {
   "display_name": "Python 3 (ipykernel)",
   "language": "python",
   "name": "python3"
  },
  "language_info": {
   "codemirror_mode": {
    "name": "ipython",
    "version": 3
   },
   "file_extension": ".py",
   "mimetype": "text/x-python",
   "name": "python",
   "nbconvert_exporter": "python",
   "pygments_lexer": "ipython3",
   "version": "3.11.5"
  }
 },
 "nbformat": 4,
 "nbformat_minor": 5
}
