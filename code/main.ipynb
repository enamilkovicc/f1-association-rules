{
 "cells": [
  {
   "cell_type": "code",
   "execution_count": 1,
   "id": "d9ea8c32",
   "metadata": {},
   "outputs": [],
   "source": [
    "import sqlite3\n",
    "import pandas as pd\n",
    "import nbimporter"
   ]
  },
  {
   "cell_type": "markdown",
   "id": "7734eb93",
   "metadata": {},
   "source": [
    "Importing custom functions from other files"
   ]
  },
  {
   "cell_type": "code",
   "execution_count": 2,
   "id": "0b656e97",
   "metadata": {},
   "outputs": [],
   "source": [
    "from final_scores import calculate_final_driver_places \n",
    "from lap_times_functions import get_lap_times_stats\n",
    "from lap_times_functions import get_median_lap_position\n",
    "from lap_times_functions import get_total_laps_count\n",
    "from lap_times_functions import categorize_total_laps\n",
    "from pit_stop_functions import get_pit_stop_stats_in_miliseconds\n",
    "from pit_stop_functions import get_most_common_pit_stop_lap\n",
    "from pit_stop_functions import categorize_pitstop_lap\n",
    "from constructor_table import get_drivers_with_constructor_relationship\n",
    "from constructor_table import get_constructor_points\n",
    "from drivers_functions import get_age_at_first_race\n",
    "from drivers_functions import get_age_at_each_race\n",
    "from circuits_functions import get_best_performing_circuits\n",
    "from results_functions import get_most_common_positions\n",
    "from utils import number_to_words\n",
    "from utils import categorize_position"
   ]
  },
  {
   "cell_type": "markdown",
   "id": "4d167bc9",
   "metadata": {},
   "source": [
    "Connecting to the database"
   ]
  },
  {
   "cell_type": "code",
   "execution_count": 5,
   "id": "9791551f",
   "metadata": {},
   "outputs": [],
   "source": [
    "conn = sqlite3.connect('formula1.db')"
   ]
  },
  {
   "cell_type": "markdown",
   "id": "900da8b5",
   "metadata": {},
   "source": [
    "# Data Agreggation : races -> driver per year\n",
    "Calculating final driver positions per year"
   ]
  },
  {
   "cell_type": "code",
   "execution_count": 6,
   "id": "18afc1b8",
   "metadata": {
    "scrolled": false
   },
   "outputs": [
    {
     "ename": "DatabaseError",
     "evalue": "Execution failed on sql '\n        SELECT r.year, ds.driverId, d.nationality AS driver_nationality, ds.points AS driver_points\n        FROM driver_standings ds\n        INNER JOIN (\n            SELECT r1.year, MAX(r1.date) AS last_race_date\n            FROM races r1\n            GROUP BY r1.year\n        ) last_race ON ds.raceId = (\n            SELECT r2.raceId\n            FROM races r2\n            WHERE r2.year = last_race.year AND r2.date = last_race.last_race_date\n            LIMIT 1\n        )\n        INNER JOIN races r ON ds.raceId = r.raceId AND r.date = last_race.last_race_date\n        INNER JOIN drivers d ON ds.driverId = d.driverId;\n    ': no such table: driver_standings",
     "output_type": "error",
     "traceback": [
      "\u001b[1;31m---------------------------------------------------------------------------\u001b[0m",
      "\u001b[1;31mOperationalError\u001b[0m                          Traceback (most recent call last)",
      "File \u001b[1;32m~\\anaconda3\\Lib\\site-packages\\pandas\\io\\sql.py:2202\u001b[0m, in \u001b[0;36mSQLiteDatabase.execute\u001b[1;34m(self, sql, params)\u001b[0m\n\u001b[0;32m   2201\u001b[0m \u001b[38;5;28;01mtry\u001b[39;00m:\n\u001b[1;32m-> 2202\u001b[0m     cur\u001b[38;5;241m.\u001b[39mexecute(sql, \u001b[38;5;241m*\u001b[39margs)\n\u001b[0;32m   2203\u001b[0m     \u001b[38;5;28;01mreturn\u001b[39;00m cur\n",
      "\u001b[1;31mOperationalError\u001b[0m: no such table: driver_standings",
      "\nThe above exception was the direct cause of the following exception:\n",
      "\u001b[1;31mDatabaseError\u001b[0m                             Traceback (most recent call last)",
      "Cell \u001b[1;32mIn[6], line 1\u001b[0m\n\u001b[1;32m----> 1\u001b[0m drivers_final_positions \u001b[38;5;241m=\u001b[39m calculate_final_driver_places(conn)\n",
      "File \u001b[1;32m~\\Documents\\Github\\F1_champion_prediction\\code\\final_scores.ipynb:26\u001b[0m, in \u001b[0;36mcalculate_final_driver_places\u001b[1;34m(conn)\u001b[0m\n\u001b[0;32m      1\u001b[0m {\n\u001b[0;32m      2\u001b[0m  \u001b[38;5;124m\"\u001b[39m\u001b[38;5;124mcells\u001b[39m\u001b[38;5;124m\"\u001b[39m: [\n\u001b[0;32m      3\u001b[0m   {\n\u001b[0;32m      4\u001b[0m    \u001b[38;5;124m\"\u001b[39m\u001b[38;5;124mcell_type\u001b[39m\u001b[38;5;124m\"\u001b[39m: \u001b[38;5;124m\"\u001b[39m\u001b[38;5;124mcode\u001b[39m\u001b[38;5;124m\"\u001b[39m,\n\u001b[0;32m      5\u001b[0m    \u001b[38;5;124m\"\u001b[39m\u001b[38;5;124mexecution_count\u001b[39m\u001b[38;5;124m\"\u001b[39m: \u001b[38;5;241m1\u001b[39m,\n\u001b[0;32m      6\u001b[0m    \u001b[38;5;124m\"\u001b[39m\u001b[38;5;124mid\u001b[39m\u001b[38;5;124m\"\u001b[39m: \u001b[38;5;124m\"\u001b[39m\u001b[38;5;124mb328575d\u001b[39m\u001b[38;5;124m\"\u001b[39m,\n\u001b[0;32m      7\u001b[0m    \u001b[38;5;124m\"\u001b[39m\u001b[38;5;124mmetadata\u001b[39m\u001b[38;5;124m\"\u001b[39m: {},\n\u001b[0;32m      8\u001b[0m    \u001b[38;5;124m\"\u001b[39m\u001b[38;5;124moutputs\u001b[39m\u001b[38;5;124m\"\u001b[39m: [],\n\u001b[0;32m      9\u001b[0m    \u001b[38;5;124m\"\u001b[39m\u001b[38;5;124msource\u001b[39m\u001b[38;5;124m\"\u001b[39m: [\n\u001b[0;32m     10\u001b[0m     \u001b[38;5;124m\"\u001b[39m\u001b[38;5;124mimport pandas as pd\u001b[39m\u001b[38;5;124m\"\u001b[39m\n\u001b[0;32m     11\u001b[0m    ]\n\u001b[0;32m     12\u001b[0m   },\n\u001b[0;32m     13\u001b[0m   {\n\u001b[0;32m     14\u001b[0m    \u001b[38;5;124m\"\u001b[39m\u001b[38;5;124mcell_type\u001b[39m\u001b[38;5;124m\"\u001b[39m: \u001b[38;5;124m\"\u001b[39m\u001b[38;5;124mcode\u001b[39m\u001b[38;5;124m\"\u001b[39m,\n\u001b[0;32m     15\u001b[0m    \u001b[38;5;124m\"\u001b[39m\u001b[38;5;124mexecution_count\u001b[39m\u001b[38;5;124m\"\u001b[39m: \u001b[38;5;241m2\u001b[39m,\n\u001b[0;32m     16\u001b[0m    \u001b[38;5;124m\"\u001b[39m\u001b[38;5;124mid\u001b[39m\u001b[38;5;124m\"\u001b[39m: \u001b[38;5;124m\"\u001b[39m\u001b[38;5;124ma93b89f5\u001b[39m\u001b[38;5;124m\"\u001b[39m,\n\u001b[0;32m     17\u001b[0m    \u001b[38;5;124m\"\u001b[39m\u001b[38;5;124mmetadata\u001b[39m\u001b[38;5;124m\"\u001b[39m: {},\n\u001b[0;32m     18\u001b[0m    \u001b[38;5;124m\"\u001b[39m\u001b[38;5;124moutputs\u001b[39m\u001b[38;5;124m\"\u001b[39m: [],\n\u001b[0;32m     19\u001b[0m    \u001b[38;5;124m\"\u001b[39m\u001b[38;5;124msource\u001b[39m\u001b[38;5;124m\"\u001b[39m: [\n\u001b[0;32m     20\u001b[0m     \u001b[38;5;124m\"\u001b[39m\u001b[38;5;124mdef calculate_final_driver_places(conn: str) -> pd.DataFrame:\u001b[39m\u001b[38;5;130;01m\\n\u001b[39;00m\u001b[38;5;124m\"\u001b[39m,\n\u001b[0;32m     21\u001b[0m     \u001b[38;5;124m\"\u001b[39m\u001b[38;5;124m    \u001b[39m\u001b[38;5;130;01m\\\"\u001b[39;00m\u001b[38;5;130;01m\\\"\u001b[39;00m\u001b[38;5;130;01m\\\"\u001b[39;00m\u001b[38;5;130;01m\\n\u001b[39;00m\u001b[38;5;124m\"\u001b[39m,\n\u001b[0;32m     22\u001b[0m     \u001b[38;5;124m\"\u001b[39m\u001b[38;5;124m    Calculate the final positions of drivers based on their points in the last race of each year.\u001b[39m\u001b[38;5;130;01m\\n\u001b[39;00m\u001b[38;5;124m\"\u001b[39m,\n\u001b[0;32m     23\u001b[0m     \u001b[38;5;124m\"\u001b[39m\u001b[38;5;130;01m\\n\u001b[39;00m\u001b[38;5;124m\"\u001b[39m,\n\u001b[0;32m     24\u001b[0m     \u001b[38;5;124m\"\u001b[39m\u001b[38;5;124m    :param conn: The database connection.\u001b[39m\u001b[38;5;130;01m\\n\u001b[39;00m\u001b[38;5;124m\"\u001b[39m,\n\u001b[0;32m     25\u001b[0m     \u001b[38;5;124m\"\u001b[39m\u001b[38;5;124m    :return: DataFrame containing year, driverId, driver_nationality, driver_points, and driver_end_position columns.\u001b[39m\u001b[38;5;130;01m\\n\u001b[39;00m\u001b[38;5;124m\"\u001b[39m,\n\u001b[1;32m---> 26\u001b[0m     \u001b[38;5;124m\"\u001b[39m\u001b[38;5;124m    \u001b[39m\u001b[38;5;130;01m\\\"\u001b[39;00m\u001b[38;5;130;01m\\\"\u001b[39;00m\u001b[38;5;130;01m\\\"\u001b[39;00m\u001b[38;5;130;01m\\n\u001b[39;00m\u001b[38;5;124m\"\u001b[39m,\n\u001b[0;32m     27\u001b[0m     \u001b[38;5;124m\"\u001b[39m\u001b[38;5;130;01m\\n\u001b[39;00m\u001b[38;5;124m\"\u001b[39m,\n\u001b[0;32m     28\u001b[0m     \u001b[38;5;124m\"\u001b[39m\u001b[38;5;124m    points_query = \u001b[39m\u001b[38;5;124m'\u001b[39m\u001b[38;5;124m'\u001b[39m\u001b[38;5;124m'\u001b[39m\u001b[38;5;130;01m\\n\u001b[39;00m\u001b[38;5;124m\"\u001b[39m,\n\u001b[0;32m     29\u001b[0m     \u001b[38;5;124m\"\u001b[39m\u001b[38;5;124m        SELECT r.year, ds.driverId, d.nationality AS driver_nationality, ds.points AS driver_points\u001b[39m\u001b[38;5;130;01m\\n\u001b[39;00m\u001b[38;5;124m\"\u001b[39m,\n\u001b[0;32m     30\u001b[0m     \u001b[38;5;124m\"\u001b[39m\u001b[38;5;124m        FROM driver_standings ds\u001b[39m\u001b[38;5;130;01m\\n\u001b[39;00m\u001b[38;5;124m\"\u001b[39m,\n\u001b[0;32m     31\u001b[0m     \u001b[38;5;124m\"\u001b[39m\u001b[38;5;124m        INNER JOIN (\u001b[39m\u001b[38;5;130;01m\\n\u001b[39;00m\u001b[38;5;124m\"\u001b[39m,\n\u001b[0;32m     32\u001b[0m     \u001b[38;5;124m\"\u001b[39m\u001b[38;5;124m            SELECT r1.year, MAX(r1.date) AS last_race_date\u001b[39m\u001b[38;5;130;01m\\n\u001b[39;00m\u001b[38;5;124m\"\u001b[39m,\n\u001b[0;32m     33\u001b[0m     \u001b[38;5;124m\"\u001b[39m\u001b[38;5;124m            FROM races r1\u001b[39m\u001b[38;5;130;01m\\n\u001b[39;00m\u001b[38;5;124m\"\u001b[39m,\n\u001b[0;32m     34\u001b[0m     \u001b[38;5;124m\"\u001b[39m\u001b[38;5;124m            GROUP BY r1.year\u001b[39m\u001b[38;5;130;01m\\n\u001b[39;00m\u001b[38;5;124m\"\u001b[39m,\n\u001b[0;32m     35\u001b[0m     \u001b[38;5;124m\"\u001b[39m\u001b[38;5;124m        ) last_race ON ds.raceId = (\u001b[39m\u001b[38;5;130;01m\\n\u001b[39;00m\u001b[38;5;124m\"\u001b[39m,\n\u001b[0;32m     36\u001b[0m     \u001b[38;5;124m\"\u001b[39m\u001b[38;5;124m            SELECT r2.raceId\u001b[39m\u001b[38;5;130;01m\\n\u001b[39;00m\u001b[38;5;124m\"\u001b[39m,\n\u001b[0;32m     37\u001b[0m     \u001b[38;5;124m\"\u001b[39m\u001b[38;5;124m            FROM races r2\u001b[39m\u001b[38;5;130;01m\\n\u001b[39;00m\u001b[38;5;124m\"\u001b[39m,\n\u001b[0;32m     38\u001b[0m     \u001b[38;5;124m\"\u001b[39m\u001b[38;5;124m            WHERE r2.year = last_race.year AND r2.date = last_race.last_race_date\u001b[39m\u001b[38;5;130;01m\\n\u001b[39;00m\u001b[38;5;124m\"\u001b[39m,\n\u001b[0;32m     39\u001b[0m     \u001b[38;5;124m\"\u001b[39m\u001b[38;5;124m            LIMIT 1\u001b[39m\u001b[38;5;130;01m\\n\u001b[39;00m\u001b[38;5;124m\"\u001b[39m,\n\u001b[0;32m     40\u001b[0m     \u001b[38;5;124m\"\u001b[39m\u001b[38;5;124m        )\u001b[39m\u001b[38;5;130;01m\\n\u001b[39;00m\u001b[38;5;124m\"\u001b[39m,\n\u001b[0;32m     41\u001b[0m     \u001b[38;5;124m\"\u001b[39m\u001b[38;5;124m        INNER JOIN races r ON ds.raceId = r.raceId AND r.date = last_race.last_race_date\u001b[39m\u001b[38;5;130;01m\\n\u001b[39;00m\u001b[38;5;124m\"\u001b[39m,\n\u001b[0;32m     42\u001b[0m     \u001b[38;5;124m\"\u001b[39m\u001b[38;5;124m        INNER JOIN drivers d ON ds.driverId = d.driverId;\u001b[39m\u001b[38;5;130;01m\\n\u001b[39;00m\u001b[38;5;124m\"\u001b[39m,\n\u001b[0;32m     43\u001b[0m     \u001b[38;5;124m\"\u001b[39m\u001b[38;5;124m    \u001b[39m\u001b[38;5;124m'\u001b[39m\u001b[38;5;124m'\u001b[39m\u001b[38;5;124m'\u001b[39m\u001b[38;5;130;01m\\n\u001b[39;00m\u001b[38;5;124m\"\u001b[39m,\n\u001b[0;32m     44\u001b[0m     \u001b[38;5;124m\"\u001b[39m\u001b[38;5;130;01m\\n\u001b[39;00m\u001b[38;5;124m\"\u001b[39m,\n\u001b[0;32m     45\u001b[0m     \u001b[38;5;124m\"\u001b[39m\u001b[38;5;124m    points_df = pd.read_sql_query(points_query, conn)\u001b[39m\u001b[38;5;130;01m\\n\u001b[39;00m\u001b[38;5;124m\"\u001b[39m,\n\u001b[0;32m     46\u001b[0m     \u001b[38;5;124m\"\u001b[39m\u001b[38;5;130;01m\\n\u001b[39;00m\u001b[38;5;124m\"\u001b[39m,\n\u001b[0;32m     47\u001b[0m     \u001b[38;5;124m\"\u001b[39m\u001b[38;5;124m    points_df = points_df.sort_values(by=[\u001b[39m\u001b[38;5;124m'\u001b[39m\u001b[38;5;124myear\u001b[39m\u001b[38;5;124m'\u001b[39m\u001b[38;5;124m, \u001b[39m\u001b[38;5;124m'\u001b[39m\u001b[38;5;124mdriver_points\u001b[39m\u001b[38;5;124m'\u001b[39m\u001b[38;5;124m], ascending=[True, False])\u001b[39m\u001b[38;5;130;01m\\n\u001b[39;00m\u001b[38;5;124m\"\u001b[39m,\n\u001b[0;32m     48\u001b[0m     \u001b[38;5;124m\"\u001b[39m\u001b[38;5;130;01m\\n\u001b[39;00m\u001b[38;5;124m\"\u001b[39m,\n\u001b[0;32m     49\u001b[0m     \u001b[38;5;124m\"\u001b[39m\u001b[38;5;124m    points_df[\u001b[39m\u001b[38;5;124m'\u001b[39m\u001b[38;5;124mdriver_end_position\u001b[39m\u001b[38;5;124m'\u001b[39m\u001b[38;5;124m] = points_df.groupby(\u001b[39m\u001b[38;5;124m'\u001b[39m\u001b[38;5;124myear\u001b[39m\u001b[38;5;124m'\u001b[39m\u001b[38;5;124m)[\u001b[39m\u001b[38;5;124m'\u001b[39m\u001b[38;5;124mdriver_points\u001b[39m\u001b[38;5;124m'\u001b[39m\u001b[38;5;124m].rank(ascending=False, method=\u001b[39m\u001b[38;5;124m'\u001b[39m\u001b[38;5;124mmin\u001b[39m\u001b[38;5;124m'\u001b[39m\u001b[38;5;124m).astype(int)\u001b[39m\u001b[38;5;130;01m\\n\u001b[39;00m\u001b[38;5;124m\"\u001b[39m,\n\u001b[0;32m     50\u001b[0m     \u001b[38;5;124m\"\u001b[39m\u001b[38;5;130;01m\\n\u001b[39;00m\u001b[38;5;124m\"\u001b[39m,\n\u001b[0;32m     51\u001b[0m     \u001b[38;5;124m\"\u001b[39m\u001b[38;5;124m    return points_df\u001b[39m\u001b[38;5;130;01m\\n\u001b[39;00m\u001b[38;5;124m\"\u001b[39m\n\u001b[0;32m     52\u001b[0m    ]\n\u001b[0;32m     53\u001b[0m   }\n\u001b[0;32m     54\u001b[0m  ],\n\u001b[0;32m     55\u001b[0m  \u001b[38;5;124m\"\u001b[39m\u001b[38;5;124mmetadata\u001b[39m\u001b[38;5;124m\"\u001b[39m: {\n\u001b[0;32m     56\u001b[0m   \u001b[38;5;124m\"\u001b[39m\u001b[38;5;124mkernelspec\u001b[39m\u001b[38;5;124m\"\u001b[39m: {\n\u001b[0;32m     57\u001b[0m    \u001b[38;5;124m\"\u001b[39m\u001b[38;5;124mdisplay_name\u001b[39m\u001b[38;5;124m\"\u001b[39m: \u001b[38;5;124m\"\u001b[39m\u001b[38;5;124mPython 3 (ipykernel)\u001b[39m\u001b[38;5;124m\"\u001b[39m,\n\u001b[0;32m     58\u001b[0m    \u001b[38;5;124m\"\u001b[39m\u001b[38;5;124mlanguage\u001b[39m\u001b[38;5;124m\"\u001b[39m: \u001b[38;5;124m\"\u001b[39m\u001b[38;5;124mpython\u001b[39m\u001b[38;5;124m\"\u001b[39m,\n\u001b[0;32m     59\u001b[0m    \u001b[38;5;124m\"\u001b[39m\u001b[38;5;124mname\u001b[39m\u001b[38;5;124m\"\u001b[39m: \u001b[38;5;124m\"\u001b[39m\u001b[38;5;124mpython3\u001b[39m\u001b[38;5;124m\"\u001b[39m\n\u001b[0;32m     60\u001b[0m   },\n\u001b[0;32m     61\u001b[0m   \u001b[38;5;124m\"\u001b[39m\u001b[38;5;124mlanguage_info\u001b[39m\u001b[38;5;124m\"\u001b[39m: {\n\u001b[0;32m     62\u001b[0m    \u001b[38;5;124m\"\u001b[39m\u001b[38;5;124mcodemirror_mode\u001b[39m\u001b[38;5;124m\"\u001b[39m: {\n\u001b[0;32m     63\u001b[0m     \u001b[38;5;124m\"\u001b[39m\u001b[38;5;124mname\u001b[39m\u001b[38;5;124m\"\u001b[39m: \u001b[38;5;124m\"\u001b[39m\u001b[38;5;124mipython\u001b[39m\u001b[38;5;124m\"\u001b[39m,\n\u001b[0;32m     64\u001b[0m     \u001b[38;5;124m\"\u001b[39m\u001b[38;5;124mversion\u001b[39m\u001b[38;5;124m\"\u001b[39m: \u001b[38;5;241m3\u001b[39m\n\u001b[0;32m     65\u001b[0m    },\n\u001b[0;32m     66\u001b[0m    \u001b[38;5;124m\"\u001b[39m\u001b[38;5;124mfile_extension\u001b[39m\u001b[38;5;124m\"\u001b[39m: \u001b[38;5;124m\"\u001b[39m\u001b[38;5;124m.py\u001b[39m\u001b[38;5;124m\"\u001b[39m,\n\u001b[0;32m     67\u001b[0m    \u001b[38;5;124m\"\u001b[39m\u001b[38;5;124mmimetype\u001b[39m\u001b[38;5;124m\"\u001b[39m: \u001b[38;5;124m\"\u001b[39m\u001b[38;5;124mtext/x-python\u001b[39m\u001b[38;5;124m\"\u001b[39m,\n\u001b[0;32m     68\u001b[0m    \u001b[38;5;124m\"\u001b[39m\u001b[38;5;124mname\u001b[39m\u001b[38;5;124m\"\u001b[39m: \u001b[38;5;124m\"\u001b[39m\u001b[38;5;124mpython\u001b[39m\u001b[38;5;124m\"\u001b[39m,\n\u001b[0;32m     69\u001b[0m    \u001b[38;5;124m\"\u001b[39m\u001b[38;5;124mnbconvert_exporter\u001b[39m\u001b[38;5;124m\"\u001b[39m: \u001b[38;5;124m\"\u001b[39m\u001b[38;5;124mpython\u001b[39m\u001b[38;5;124m\"\u001b[39m,\n\u001b[0;32m     70\u001b[0m    \u001b[38;5;124m\"\u001b[39m\u001b[38;5;124mpygments_lexer\u001b[39m\u001b[38;5;124m\"\u001b[39m: \u001b[38;5;124m\"\u001b[39m\u001b[38;5;124mipython3\u001b[39m\u001b[38;5;124m\"\u001b[39m,\n\u001b[0;32m     71\u001b[0m    \u001b[38;5;124m\"\u001b[39m\u001b[38;5;124mversion\u001b[39m\u001b[38;5;124m\"\u001b[39m: \u001b[38;5;124m\"\u001b[39m\u001b[38;5;124m3.11.5\u001b[39m\u001b[38;5;124m\"\u001b[39m\n\u001b[0;32m     72\u001b[0m   }\n\u001b[0;32m     73\u001b[0m  },\n\u001b[0;32m     74\u001b[0m  \u001b[38;5;124m\"\u001b[39m\u001b[38;5;124mnbformat\u001b[39m\u001b[38;5;124m\"\u001b[39m: \u001b[38;5;241m4\u001b[39m,\n\u001b[0;32m     75\u001b[0m  \u001b[38;5;124m\"\u001b[39m\u001b[38;5;124mnbformat_minor\u001b[39m\u001b[38;5;124m\"\u001b[39m: \u001b[38;5;241m5\u001b[39m\n\u001b[0;32m     76\u001b[0m }\n",
      "File \u001b[1;32m~\\anaconda3\\Lib\\site-packages\\pandas\\io\\sql.py:469\u001b[0m, in \u001b[0;36mread_sql_query\u001b[1;34m(sql, con, index_col, coerce_float, params, parse_dates, chunksize, dtype, dtype_backend)\u001b[0m\n\u001b[0;32m    466\u001b[0m     dtype_backend \u001b[38;5;241m=\u001b[39m \u001b[38;5;124m\"\u001b[39m\u001b[38;5;124mnumpy\u001b[39m\u001b[38;5;124m\"\u001b[39m  \u001b[38;5;66;03m# type: ignore[assignment]\u001b[39;00m\n\u001b[0;32m    468\u001b[0m \u001b[38;5;28;01mwith\u001b[39;00m pandasSQL_builder(con) \u001b[38;5;28;01mas\u001b[39;00m pandas_sql:\n\u001b[1;32m--> 469\u001b[0m     \u001b[38;5;28;01mreturn\u001b[39;00m pandas_sql\u001b[38;5;241m.\u001b[39mread_query(\n\u001b[0;32m    470\u001b[0m         sql,\n\u001b[0;32m    471\u001b[0m         index_col\u001b[38;5;241m=\u001b[39mindex_col,\n\u001b[0;32m    472\u001b[0m         params\u001b[38;5;241m=\u001b[39mparams,\n\u001b[0;32m    473\u001b[0m         coerce_float\u001b[38;5;241m=\u001b[39mcoerce_float,\n\u001b[0;32m    474\u001b[0m         parse_dates\u001b[38;5;241m=\u001b[39mparse_dates,\n\u001b[0;32m    475\u001b[0m         chunksize\u001b[38;5;241m=\u001b[39mchunksize,\n\u001b[0;32m    476\u001b[0m         dtype\u001b[38;5;241m=\u001b[39mdtype,\n\u001b[0;32m    477\u001b[0m         dtype_backend\u001b[38;5;241m=\u001b[39mdtype_backend,\n\u001b[0;32m    478\u001b[0m     )\n",
      "File \u001b[1;32m~\\anaconda3\\Lib\\site-packages\\pandas\\io\\sql.py:2266\u001b[0m, in \u001b[0;36mSQLiteDatabase.read_query\u001b[1;34m(self, sql, index_col, coerce_float, parse_dates, params, chunksize, dtype, dtype_backend)\u001b[0m\n\u001b[0;32m   2255\u001b[0m \u001b[38;5;28;01mdef\u001b[39;00m \u001b[38;5;21mread_query\u001b[39m(\n\u001b[0;32m   2256\u001b[0m     \u001b[38;5;28mself\u001b[39m,\n\u001b[0;32m   2257\u001b[0m     sql,\n\u001b[1;32m   (...)\u001b[0m\n\u001b[0;32m   2264\u001b[0m     dtype_backend: DtypeBackend \u001b[38;5;241m|\u001b[39m Literal[\u001b[38;5;124m\"\u001b[39m\u001b[38;5;124mnumpy\u001b[39m\u001b[38;5;124m\"\u001b[39m] \u001b[38;5;241m=\u001b[39m \u001b[38;5;124m\"\u001b[39m\u001b[38;5;124mnumpy\u001b[39m\u001b[38;5;124m\"\u001b[39m,\n\u001b[0;32m   2265\u001b[0m ) \u001b[38;5;241m-\u001b[39m\u001b[38;5;241m>\u001b[39m DataFrame \u001b[38;5;241m|\u001b[39m Iterator[DataFrame]:\n\u001b[1;32m-> 2266\u001b[0m     cursor \u001b[38;5;241m=\u001b[39m \u001b[38;5;28mself\u001b[39m\u001b[38;5;241m.\u001b[39mexecute(sql, params)\n\u001b[0;32m   2267\u001b[0m     columns \u001b[38;5;241m=\u001b[39m [col_desc[\u001b[38;5;241m0\u001b[39m] \u001b[38;5;28;01mfor\u001b[39;00m col_desc \u001b[38;5;129;01min\u001b[39;00m cursor\u001b[38;5;241m.\u001b[39mdescription]\n\u001b[0;32m   2269\u001b[0m     \u001b[38;5;28;01mif\u001b[39;00m chunksize \u001b[38;5;129;01mis\u001b[39;00m \u001b[38;5;129;01mnot\u001b[39;00m \u001b[38;5;28;01mNone\u001b[39;00m:\n",
      "File \u001b[1;32m~\\anaconda3\\Lib\\site-packages\\pandas\\io\\sql.py:2214\u001b[0m, in \u001b[0;36mSQLiteDatabase.execute\u001b[1;34m(self, sql, params)\u001b[0m\n\u001b[0;32m   2211\u001b[0m     \u001b[38;5;28;01mraise\u001b[39;00m ex \u001b[38;5;28;01mfrom\u001b[39;00m \u001b[38;5;21;01minner_exc\u001b[39;00m\n\u001b[0;32m   2213\u001b[0m ex \u001b[38;5;241m=\u001b[39m DatabaseError(\u001b[38;5;124mf\u001b[39m\u001b[38;5;124m\"\u001b[39m\u001b[38;5;124mExecution failed on sql \u001b[39m\u001b[38;5;124m'\u001b[39m\u001b[38;5;132;01m{\u001b[39;00msql\u001b[38;5;132;01m}\u001b[39;00m\u001b[38;5;124m'\u001b[39m\u001b[38;5;124m: \u001b[39m\u001b[38;5;132;01m{\u001b[39;00mexc\u001b[38;5;132;01m}\u001b[39;00m\u001b[38;5;124m\"\u001b[39m)\n\u001b[1;32m-> 2214\u001b[0m \u001b[38;5;28;01mraise\u001b[39;00m ex \u001b[38;5;28;01mfrom\u001b[39;00m \u001b[38;5;21;01mexc\u001b[39;00m\n",
      "\u001b[1;31mDatabaseError\u001b[0m: Execution failed on sql '\n        SELECT r.year, ds.driverId, d.nationality AS driver_nationality, ds.points AS driver_points\n        FROM driver_standings ds\n        INNER JOIN (\n            SELECT r1.year, MAX(r1.date) AS last_race_date\n            FROM races r1\n            GROUP BY r1.year\n        ) last_race ON ds.raceId = (\n            SELECT r2.raceId\n            FROM races r2\n            WHERE r2.year = last_race.year AND r2.date = last_race.last_race_date\n            LIMIT 1\n        )\n        INNER JOIN races r ON ds.raceId = r.raceId AND r.date = last_race.last_race_date\n        INNER JOIN drivers d ON ds.driverId = d.driverId;\n    ': no such table: driver_standings"
     ]
    }
   ],
   "source": [
    "drivers_final_positions = calculate_final_driver_places(conn)"
   ]
  },
  {
   "cell_type": "code",
   "execution_count": null,
   "id": "8cf28f42",
   "metadata": {},
   "outputs": [],
   "source": [
    "driver_starting_year = get_age_at_first_race(conn)\n",
    "drivers_final_positions = pd.merge(drivers_final_positions, driver_starting_year, on=['driverId'], how='left')"
   ]
  },
  {
   "cell_type": "code",
   "execution_count": null,
   "id": "f7011a38",
   "metadata": {},
   "outputs": [],
   "source": [
    "driver_years = get_age_at_each_race(conn)\n",
    "drivers_final_positions = pd.merge(drivers_final_positions, driver_years, on=['driverId','year'], how='left')"
   ]
  },
  {
   "cell_type": "code",
   "execution_count": null,
   "id": "d991d81a",
   "metadata": {},
   "outputs": [],
   "source": [
    "drivers_final_positions"
   ]
  },
  {
   "cell_type": "code",
   "execution_count": null,
   "id": "bf08155c",
   "metadata": {},
   "outputs": [],
   "source": [
    "lap_times_stats = get_lap_times_stats(conn)"
   ]
  },
  {
   "cell_type": "code",
   "execution_count": null,
   "id": "ab65da15",
   "metadata": {},
   "outputs": [],
   "source": [
    "lap_positions = get_median_lap_position(conn)\n",
    "lap_times_stats = pd.merge(lap_times_stats, lap_positions, on=['driverId', 'year'], how='left')"
   ]
  },
  {
   "cell_type": "code",
   "execution_count": null,
   "id": "f80469e6",
   "metadata": {},
   "outputs": [],
   "source": [
    "lap_count = get_total_laps_count(conn)\n",
    "lap_times_stats = pd.merge(lap_times_stats, lap_count, on=['driverId', 'year'], how='left')"
   ]
  },
  {
   "cell_type": "code",
   "execution_count": null,
   "id": "7401965d",
   "metadata": {},
   "outputs": [],
   "source": [
    "lap_times_stats"
   ]
  },
  {
   "cell_type": "code",
   "execution_count": null,
   "id": "2e405b51",
   "metadata": {},
   "outputs": [],
   "source": [
    "pit_stop_stats = get_pit_stop_stats_in_miliseconds(conn)"
   ]
  },
  {
   "cell_type": "code",
   "execution_count": null,
   "id": "f0f577e5",
   "metadata": {},
   "outputs": [],
   "source": [
    "most_common_pit_stop_lap = get_most_common_pit_stop_lap(conn)\n",
    "pit_stop_stats = pd.merge(pit_stop_stats, most_common_pit_stop_lap, on=['driverId', 'year'], how='left')"
   ]
  },
  {
   "cell_type": "code",
   "execution_count": null,
   "id": "97ca9306",
   "metadata": {},
   "outputs": [],
   "source": [
    "pit_stop_stats"
   ]
  },
  {
   "cell_type": "code",
   "execution_count": null,
   "id": "ff9f9bc9",
   "metadata": {},
   "outputs": [],
   "source": [
    "constructor_driver_connection = get_drivers_with_constructor_relationship(conn)"
   ]
  },
  {
   "cell_type": "code",
   "execution_count": null,
   "id": "bf8ccc72",
   "metadata": {},
   "outputs": [],
   "source": [
    "drivers_with_constructors = pd.merge(drivers_final_positions, constructor_driver_connection, on=['driverId', 'year'], how='left')"
   ]
  },
  {
   "cell_type": "code",
   "execution_count": null,
   "id": "944669c1",
   "metadata": {},
   "outputs": [],
   "source": [
    "connstructor_points = get_constructor_points(conn)"
   ]
  },
  {
   "cell_type": "code",
   "execution_count": null,
   "id": "5a3ca085",
   "metadata": {},
   "outputs": [],
   "source": [
    "drivers_with_constructors = pd.merge(drivers_with_constructors, connstructor_points, on=['constructorId', 'year'], how='left')"
   ]
  },
  {
   "cell_type": "code",
   "execution_count": null,
   "id": "ae48f100",
   "metadata": {},
   "outputs": [],
   "source": [
    "best_performing_circuits = get_best_performing_circuits(conn)\n",
    "drivers_with_constructors = pd.merge(drivers_with_constructors, best_performing_circuits, on=['year','driverId' ], how='left')"
   ]
  },
  {
   "cell_type": "code",
   "execution_count": null,
   "id": "87eb9fc0",
   "metadata": {},
   "outputs": [],
   "source": [
    "drivers_with_constructors"
   ]
  },
  {
   "cell_type": "code",
   "execution_count": null,
   "id": "8a219d0a",
   "metadata": {},
   "outputs": [],
   "source": [
    "lap_pit_df = pd.merge(lap_times_stats, pit_stop_stats, on=['driverId', 'year'], how='left', suffixes=('_lap', '_pit'))"
   ]
  },
  {
   "cell_type": "code",
   "execution_count": null,
   "id": "7fb7e4e4",
   "metadata": {},
   "outputs": [],
   "source": [
    "lap_pit_df"
   ]
  },
  {
   "cell_type": "code",
   "execution_count": null,
   "id": "37426bc7",
   "metadata": {},
   "outputs": [],
   "source": [
    "final_df = pd.merge(drivers_with_constructors, lap_pit_df, on=['driverId', 'year'], how='left')"
   ]
  },
  {
   "cell_type": "code",
   "execution_count": null,
   "id": "c5b99a09",
   "metadata": {},
   "outputs": [],
   "source": [
    "positions = get_most_common_positions(conn)"
   ]
  },
  {
   "cell_type": "code",
   "execution_count": null,
   "id": "62dd56d3",
   "metadata": {},
   "outputs": [],
   "source": [
    "final_df = pd.merge(final_df, positions, on=['driverId', 'year'], how='left')"
   ]
  },
  {
   "cell_type": "code",
   "execution_count": null,
   "id": "9b78c014",
   "metadata": {},
   "outputs": [],
   "source": [
    "final_df = final_df.drop_duplicates(['driverId', 'year'])"
   ]
  },
  {
   "cell_type": "code",
   "execution_count": null,
   "id": "e8d17060",
   "metadata": {},
   "outputs": [],
   "source": [
    "final_df"
   ]
  },
  {
   "cell_type": "markdown",
   "id": "85aaad23",
   "metadata": {},
   "source": [
    "# Feature Creation\n",
    "Calculating various counts based on historical data"
   ]
  },
  {
   "cell_type": "code",
   "execution_count": null,
   "id": "1d884ec5",
   "metadata": {},
   "outputs": [],
   "source": [
    "final_df = final_df.sort_values(by=['year', 'driverId'])\n",
    "\n",
    "for index, row in final_df.iterrows():\n",
    "    temp_df = final_df[(final_df['driverId'] == row['driverId']) & (final_df['year'] <= row['year'])]\n",
    "    \n",
    "    first_place_count = temp_df[temp_df['driver_end_position'] == 1].shape[0]\n",
    "    second_place_count = temp_df[temp_df['driver_end_position'] == 2].shape[0]\n",
    "    third_place_count = temp_df[temp_df['driver_end_position'] == 3].shape[0]\n",
    "    top_5_count = temp_df[temp_df['driver_end_position'] <= 5].shape[0]\n",
    "\n",
    "    final_df.at[index, 'driver_first_place_count'] = first_place_count\n",
    "    final_df.at[index, 'driver_second_place_count'] = second_place_count\n",
    "    final_df.at[index, 'driver_third_place_count'] = third_place_count\n",
    "    final_df.at[index, 'driver_top_5_place_count'] = top_5_count\n"
   ]
  },
  {
   "cell_type": "code",
   "execution_count": null,
   "id": "7d9135c8",
   "metadata": {},
   "outputs": [],
   "source": [
    "final_df = final_df.sort_values(by=['year', 'constructorId'])\n",
    "\n",
    "for index, row in final_df.iterrows():\n",
    "    temp_df = final_df[(final_df['constructorId'] == row['constructorId']) & (final_df['year'] <= row['year'])]\n",
    "    \n",
    "    temp_first_place_count = temp_df[temp_df['constructor_place'] == 1].shape[0]\n",
    "    temp_second_place_count = temp_df[temp_df['constructor_place'] == 2].shape[0]\n",
    "    temp_third_place_count = temp_df[temp_df['constructor_place'] == 3].shape[0]\n",
    "    temp_top_5_count = temp_df[temp_df['constructor_place'] <= 5].shape[0]\n",
    "    \n",
    "    final_df.at[index, 'constructor_first_place_count'] = temp_first_place_count\n",
    "    final_df.at[index, 'constructor_second_place_count'] = temp_second_place_count\n",
    "    final_df.at[index, 'constructor_third_place_count'] = temp_third_place_count\n",
    "    final_df.at[index, 'constructor_top_5_place_count'] = temp_top_5_count"
   ]
  },
  {
   "cell_type": "code",
   "execution_count": null,
   "id": "ee566cb7",
   "metadata": {},
   "outputs": [],
   "source": [
    "final_df"
   ]
  },
  {
   "cell_type": "markdown",
   "id": "ddc24972",
   "metadata": {},
   "source": [
    "# Diskretization"
   ]
  },
  {
   "cell_type": "code",
   "execution_count": null,
   "id": "36f2ee3c",
   "metadata": {},
   "outputs": [],
   "source": [
    "columns_to_discretize = ['min_lap_time_diff', 'avg_lap_time_diff', 'max_lap_time_diff']\n",
    "labels = ['0-25%', '25-50%', '50% and more']\n",
    "\n",
    "for col in columns_to_discretize:\n",
    "    if col == 'min_lap_time_diff':\n",
    "        custom_bin_edges = [final_df[col].min(), 0.1, final_df[col].quantile(0.5), final_df[col].max()]\n",
    "        final_df[col] = pd.cut(final_df[col], bins=custom_bin_edges, include_lowest=True, duplicates='drop', labels=labels)\n",
    "    else:\n",
    "        bin_edges = [final_df[col].min(), final_df[col].quantile(0.25), final_df[col].quantile(0.5), final_df[col].max()]\n",
    "        final_df[col] = pd.cut(final_df[col], bins=bin_edges, include_lowest=True, duplicates='drop', labels=labels)"
   ]
  },
  {
   "cell_type": "code",
   "execution_count": null,
   "id": "fad2197a",
   "metadata": {},
   "outputs": [],
   "source": [
    "categorical_columns = ['min_lap_time_diff', 'avg_lap_time_diff', 'max_lap_time_diff']\n",
    "\n",
    "for col in categorical_columns:\n",
    "    final_df[col] = final_df[col].astype('category').cat.add_categories('Unknown')\n",
    "    final_df[col].fillna('Unknown', inplace=True)"
   ]
  },
  {
   "cell_type": "code",
   "execution_count": null,
   "id": "05d5b360",
   "metadata": {},
   "outputs": [],
   "source": [
    "columns_to_discretize = ['min_pit_stop_time', 'avg_pit_time', 'max_pit_stop_time']\n",
    "labels = ['0-25%', '25-50%', '50% and more']\n",
    "\n",
    "for col in columns_to_discretize:\n",
    "    if col in pit_stop_stats.columns:\n",
    "        bin_edges = [final_df[col].min(), final_df[col].quantile(0.25), final_df[col].quantile(0.5), final_df[col].max()]\n",
    "        final_df[col] = pd.cut(final_df[col], bins=bin_edges, include_lowest=True, duplicates='drop', labels=labels)"
   ]
  },
  {
   "cell_type": "code",
   "execution_count": null,
   "id": "f421c951",
   "metadata": {},
   "outputs": [],
   "source": [
    "categorical_columns = ['min_pit_stop_time', 'avg_pit_time', 'max_pit_stop_time']\n",
    "\n",
    "for col in categorical_columns:\n",
    "    final_df[col] = final_df[col].astype('category').cat.add_categories('Unknown')\n",
    "    final_df[col].fillna('Unknown', inplace=True)"
   ]
  },
  {
   "cell_type": "code",
   "execution_count": null,
   "id": "1fe1367b",
   "metadata": {},
   "outputs": [],
   "source": [
    "final_df['total_laps'] = final_df['total_laps'].apply(categorize_total_laps)"
   ]
  },
  {
   "cell_type": "code",
   "execution_count": null,
   "id": "fc0bd722",
   "metadata": {},
   "outputs": [],
   "source": [
    "final_df"
   ]
  },
  {
   "cell_type": "code",
   "execution_count": null,
   "id": "5b811af6",
   "metadata": {},
   "outputs": [],
   "source": [
    "final_df['most_common_ending_position'] = final_df['most_common_ending_position'].replace({'\\\\N': 'Did Not Finish'})"
   ]
  },
  {
   "cell_type": "code",
   "execution_count": null,
   "id": "734e3130",
   "metadata": {},
   "outputs": [],
   "source": [
    "final_df['most_common_starting_position'] = final_df['most_common_starting_position'].replace(0, 'Unknown')"
   ]
  },
  {
   "cell_type": "code",
   "execution_count": null,
   "id": "649d9be8",
   "metadata": {},
   "outputs": [],
   "source": [
    "final_df['most_common_pitstop_lap'] = final_df['most_common_pitstop_lap'].apply(categorize_pitstop_lap)\n",
    "\n",
    "final_df['most_common_starting_position'] = pd.to_numeric(positions['most_common_starting_position'], errors='coerce')\n",
    "final_df['most_common_ending_position'] = pd.to_numeric(positions['most_common_ending_position'], errors='coerce')\n",
    "\n",
    "final_df['most_common_starting_position'] = final_df['most_common_starting_position'].apply(categorize_position)\n",
    "final_df['most_common_ending_position'] = final_df['most_common_ending_position'].apply(categorize_position)"
   ]
  },
  {
   "cell_type": "code",
   "execution_count": null,
   "id": "52ca8b8f",
   "metadata": {},
   "outputs": [],
   "source": [
    "final_df"
   ]
  },
  {
   "cell_type": "markdown",
   "id": "cdc3cda5",
   "metadata": {},
   "source": [
    "# Dealing with NaN Values\n",
    "Converting NaN values in categorical columns to 'Unknown'"
   ]
  },
  {
   "cell_type": "code",
   "execution_count": null,
   "id": "a19e5b53",
   "metadata": {
    "scrolled": true
   },
   "outputs": [],
   "source": [
    "final_df.info()"
   ]
  },
  {
   "cell_type": "code",
   "execution_count": null,
   "id": "3640326a",
   "metadata": {},
   "outputs": [],
   "source": [
    "columns_to_fill_with_zero = ['constructor_points', 'constructor_place', 'median_lap_position']\n",
    "final_df[columns_to_fill_with_zero] = final_df[columns_to_fill_with_zero].fillna(0)"
   ]
  },
  {
   "cell_type": "code",
   "execution_count": null,
   "id": "3a6e6b16",
   "metadata": {},
   "outputs": [],
   "source": [
    "final_df['driver_first_place_count'] = final_df['driver_second_place_count'].astype(int)\n",
    "final_df['driver_second_place_count'] = final_df['driver_second_place_count'].astype(int)\n",
    "final_df['driver_third_place_count'] = final_df['driver_top_5_place_count'].astype(int)\n",
    "final_df['driver_top_5_place_count'] = final_df['driver_top_5_place_count'].astype(int)\n",
    "final_df['driver_points'] = final_df['driver_points'].astype(int)\n",
    "final_df['driver_end_position'] = final_df['driver_end_position'].astype(int)\n",
    "final_df['age_at_first_race'] = final_df['age_at_first_race'].astype(int)\n",
    "final_df['age_at_race'] = final_df['age_at_race'].astype(int)\n",
    "final_df['median_lap_position'] = final_df['median_lap_position'].astype(int)\n",
    "final_df['constructor_points'] = final_df['constructor_points'].astype(int)\n",
    "final_df['constructor_place'] = final_df['constructor_place'].astype(int)\n",
    "final_df['constructor_first_place_count'] = final_df['constructor_first_place_count'].astype(int)\n",
    "final_df['constructor_second_place_count'] = final_df['constructor_second_place_count'].astype(int)\n",
    "final_df['constructor_third_place_count'] = final_df['constructor_third_place_count'].astype(int)\n",
    "final_df['constructor_top_5_place_count'] = final_df['constructor_top_5_place_count'].astype(int)\n",
    "final_df['constructor_first_place_count'] = final_df['constructor_first_place_count'].astype(int)\n",
    "final_df['constructor_second_place_count'] = final_df['constructor_second_place_count'].astype(int)\n",
    "final_df['constructor_third_place_count'] = final_df['constructor_third_place_count'].astype(int)\n",
    "final_df['constructor_top_5_place_count'] = final_df['constructor_top_5_place_count'].astype(int)\n",
    "final_df['constructor_points'] = final_df['constructor_points'].astype(int)\n",
    "final_df['constructor_place'] = final_df['constructor_place'].astype(int)"
   ]
  },
  {
   "cell_type": "code",
   "execution_count": null,
   "id": "d1fe0d83",
   "metadata": {},
   "outputs": [],
   "source": [
    "lap_times_stats['median_lap_position'] = lap_times_stats['median_lap_position'].replace(0, 'Unknown')"
   ]
  },
  {
   "cell_type": "markdown",
   "id": "64f630e1",
   "metadata": {},
   "source": [
    "# Aggregation: driver per year -> driver"
   ]
  },
  {
   "cell_type": "code",
   "execution_count": null,
   "id": "71ae4d17",
   "metadata": {},
   "outputs": [],
   "source": [
    "df = final_df.sort_values(by='year', ascending=False)\n",
    "\n",
    "numeric_columns = ['year','driver_points', 'driver_end_position', 'constructor_points', 'constructor_place','median_lap_position', 'total_laps']\n",
    "df[numeric_columns] = df[numeric_columns].apply(pd.to_numeric, errors='coerce')\n",
    "\n",
    "aggregation_functions = {\n",
    "    'year': 'max',\n",
    "    'driver_nationality': 'first',\n",
    "    'age_at_first_race': 'first',\n",
    "    'driver_first_place_count': 'first',\n",
    "    'driver_second_place_count': 'first',\n",
    "    'driver_third_place_count': 'first',\n",
    "    'driver_top_5_place_count': 'first',\n",
    "    'constructorName': 'first',\n",
    "    'constructor_nationality': 'first',\n",
    "    'constructor_first_place_count': 'first',\n",
    "    'constructor_second_place_count': 'first',\n",
    "    'constructor_third_place_count': 'first',\n",
    "    'constructor_top_5_place_count': 'first',\n",
    "    'best_performing_circuit_name': lambda x: x.mode().iloc[0], \n",
    "    'min_lap_time_diff': lambda x: x.mode().iloc[0],\n",
    "    'avg_lap_time_diff': lambda x: x.mode().iloc[0],\n",
    "    'max_lap_time_diff': lambda x: x.mode().iloc[0],\n",
    "    'median_lap_position':lambda x: round(x.mean()) if x.notna().any() else 'Unknown',\n",
    "    'min_pit_stop_time': lambda x: x.mode().iloc[0],\n",
    "    'avg_pit_time': lambda x: x.mode().iloc[0],\n",
    "    'max_pit_stop_time': lambda x: x.mode().iloc[0],\n",
    "    'most_common_pitstop_lap': lambda x: x.mode().iloc[0],\n",
    "    'most_common_starting_position': lambda x: x.mode().iloc[0] if x.notna().any() else 'Unknown',\n",
    "    'most_common_ending_position': lambda x: x.mode().iloc[0] \n",
    "}\n",
    "\n",
    "aggregated_df = df.groupby('driverId').agg(aggregation_functions)\n",
    "\n",
    "aggregated_df = aggregated_df.reset_index()"
   ]
  },
  {
   "cell_type": "code",
   "execution_count": null,
   "id": "358264d8",
   "metadata": {},
   "outputs": [],
   "source": [
    "aggregated_df = aggregated_df.drop(['year', 'driverId'], axis=1)"
   ]
  },
  {
   "cell_type": "code",
   "execution_count": null,
   "id": "f91b6a7c",
   "metadata": {},
   "outputs": [],
   "source": [
    "drivers_lost = aggregated_df[aggregated_df['driver_top_5_place_count'] == 0]\n",
    "drivers_won = aggregated_df[aggregated_df['driver_top_5_place_count'] != 0]"
   ]
  },
  {
   "cell_type": "code",
   "execution_count": null,
   "id": "12fcaf33",
   "metadata": {},
   "outputs": [],
   "source": [
    "drivers_lost"
   ]
  },
  {
   "cell_type": "code",
   "execution_count": null,
   "id": "a7f097d8",
   "metadata": {},
   "outputs": [],
   "source": [
    "drivers_won"
   ]
  },
  {
   "cell_type": "code",
   "execution_count": null,
   "id": "28669264",
   "metadata": {},
   "outputs": [],
   "source": [
    "columns_to_convert = ['driver_first_place_count','driver_second_place_count','driver_third_place_count','driver_top_5_place_count','age_at_first_race','constructor_first_place_count','constructor_second_place_count','constructor_third_place_count','constructor_top_5_place_count', 'median_lap_position']\n",
    "drivers_won[columns_to_convert] = drivers_won[columns_to_convert].fillna(0).astype(int)\n",
    "\n",
    "drivers_won[columns_to_convert] = drivers_won[columns_to_convert].apply(pd.to_numeric, errors='coerce')\n",
    "\n",
    "drivers_won[columns_to_convert] = drivers_won[columns_to_convert].applymap(number_to_words)\n",
    "\n",
    "print(drivers_won)\n"
   ]
  },
  {
   "cell_type": "code",
   "execution_count": null,
   "id": "68e1972c",
   "metadata": {},
   "outputs": [],
   "source": [
    "columns_to_convert = ['driver_first_place_count','driver_second_place_count','driver_third_place_count','driver_top_5_place_count','age_at_first_race','constructor_first_place_count','constructor_second_place_count','constructor_third_place_count','constructor_top_5_place_count', 'median_lap_position']\n",
    "drivers_lost[columns_to_convert] = drivers_lost[columns_to_convert].fillna(0).astype(int)\n",
    "\n",
    "drivers_lost[columns_to_convert] = drivers_lost[columns_to_convert].apply(pd.to_numeric, errors='coerce')\n",
    "\n",
    "drivers_lost[columns_to_convert] = drivers_lost[columns_to_convert].applymap(number_to_words)\n",
    "\n",
    "print(drivers_lost)\n",
    "\n"
   ]
  },
  {
   "cell_type": "code",
   "execution_count": null,
   "id": "063156ad",
   "metadata": {},
   "outputs": [],
   "source": [
    "columns_to_convert = ['driver_first_place_count','driver_second_place_count','driver_third_place_count','driver_top_5_place_count','age_at_first_race','constructor_first_place_count','constructor_second_place_count','constructor_third_place_count','constructor_top_5_place_count', 'median_lap_position']\n",
    "aggregated_df[columns_to_convert] = aggregated_df[columns_to_convert].fillna(0).astype(int)\n",
    "\n",
    "aggregated_df[columns_to_convert] = aggregated_df[columns_to_convert].apply(pd.to_numeric, errors='coerce')\n",
    "\n",
    "aggregated_df[columns_to_convert] = aggregated_df[columns_to_convert].applymap(number_to_words)\n",
    "\n",
    "print(aggregated_df)\n"
   ]
  },
  {
   "cell_type": "code",
   "execution_count": null,
   "id": "22cdff9d",
   "metadata": {},
   "outputs": [],
   "source": [
    "aggregated_df.to_csv(\"../outputs/all_drivers.csv\", index=False, encoding='utf-8')"
   ]
  },
  {
   "cell_type": "code",
   "execution_count": null,
   "id": "a96e6076",
   "metadata": {},
   "outputs": [],
   "source": [
    "aggregated_df = aggregated_df[aggregated_df.ne('Unknown').all(axis=1)]"
   ]
  },
  {
   "cell_type": "code",
   "execution_count": null,
   "id": "f754dd48",
   "metadata": {},
   "outputs": [],
   "source": [
    "aggregated_df.to_csv(\"../outputs/all_drivers_withiut_unknown.csv\", index=False, encoding='utf-8')"
   ]
  },
  {
   "cell_type": "code",
   "execution_count": null,
   "id": "92a544a3",
   "metadata": {},
   "outputs": [],
   "source": [
    "drivers_won.to_csv(\"../outputs/winning_drivers.csv\", index=False, encoding='utf-8')"
   ]
  },
  {
   "cell_type": "code",
   "execution_count": null,
   "id": "6a35d04f",
   "metadata": {},
   "outputs": [],
   "source": [
    "drivers_won = drivers_won[drivers_won.ne('Unknown').all(axis=1)]"
   ]
  },
  {
   "cell_type": "code",
   "execution_count": null,
   "id": "7b5cb264",
   "metadata": {},
   "outputs": [],
   "source": [
    "drivers_won.to_csv(\"../outputs/winning_drivers_without_unknown.csv\", index=False, encoding='utf-8')"
   ]
  },
  {
   "cell_type": "code",
   "execution_count": null,
   "id": "941acee6",
   "metadata": {},
   "outputs": [],
   "source": [
    "drivers_lost.to_csv(\"../outputs/losing_drivers.csv\", index=False, encoding='utf-8')"
   ]
  },
  {
   "cell_type": "code",
   "execution_count": null,
   "id": "10af6838",
   "metadata": {},
   "outputs": [],
   "source": [
    "drivers_lost = drivers_lost[drivers_lost.ne('Unknown').all(axis=1)]"
   ]
  },
  {
   "cell_type": "code",
   "execution_count": null,
   "id": "f5c373b2",
   "metadata": {},
   "outputs": [],
   "source": [
    "drivers_lost.to_csv(\"../outputs/losing_drivers_without_unknown.csv\", index=False, encoding='utf-8')"
   ]
  },
  {
   "cell_type": "code",
   "execution_count": null,
   "id": "4ad177e7",
   "metadata": {},
   "outputs": [],
   "source": []
  }
 ],
 "metadata": {
  "kernelspec": {
   "display_name": "Python 3 (ipykernel)",
   "language": "python",
   "name": "python3"
  },
  "language_info": {
   "codemirror_mode": {
    "name": "ipython",
    "version": 3
   },
   "file_extension": ".py",
   "mimetype": "text/x-python",
   "name": "python",
   "nbconvert_exporter": "python",
   "pygments_lexer": "ipython3",
   "version": "3.11.5"
  }
 },
 "nbformat": 4,
 "nbformat_minor": 5
}
