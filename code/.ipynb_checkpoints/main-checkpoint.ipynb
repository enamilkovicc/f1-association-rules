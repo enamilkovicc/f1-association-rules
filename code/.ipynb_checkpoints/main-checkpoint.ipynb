{
 "cells": [
  {
   "cell_type": "code",
   "execution_count": 1,
   "id": "d9ea8c32",
   "metadata": {},
   "outputs": [],
   "source": [
    "import sqlite3\n",
    "import pandas as pd\n",
    "import nbimporter"
   ]
  },
  {
   "cell_type": "markdown",
   "id": "7734eb93",
   "metadata": {},
   "source": [
    "Importing custom functions from other files"
   ]
  },
  {
   "cell_type": "code",
   "execution_count": 2,
   "id": "0b656e97",
   "metadata": {},
   "outputs": [
    {
     "ename": "ModuleNotFoundError",
     "evalue": "No module named 'final_scores'",
     "output_type": "error",
     "traceback": [
      "\u001b[1;31m---------------------------------------------------------------------------\u001b[0m",
      "\u001b[1;31mModuleNotFoundError\u001b[0m                       Traceback (most recent call last)",
      "Cell \u001b[1;32mIn[2], line 1\u001b[0m\n\u001b[1;32m----> 1\u001b[0m \u001b[38;5;28;01mfrom\u001b[39;00m \u001b[38;5;21;01mfinal_scores\u001b[39;00m \u001b[38;5;28;01mimport\u001b[39;00m calculate_final_driver_places \n\u001b[0;32m      2\u001b[0m \u001b[38;5;28;01mfrom\u001b[39;00m \u001b[38;5;21;01mlap_times_functions\u001b[39;00m \u001b[38;5;28;01mimport\u001b[39;00m get_lap_times_stats\n\u001b[0;32m      3\u001b[0m \u001b[38;5;28;01mfrom\u001b[39;00m \u001b[38;5;21;01mlap_times_functions\u001b[39;00m \u001b[38;5;28;01mimport\u001b[39;00m get_median_lap_position\n",
      "\u001b[1;31mModuleNotFoundError\u001b[0m: No module named 'final_scores'"
     ]
    }
   ],
   "source": [
    "from final_scores import calculate_final_driver_places \n",
    "from lap_times_functions import get_lap_times_stats\n",
    "from lap_times_functions import get_median_lap_position\n",
    "from lap_times_functions import get_total_laps_count\n",
    "from lap_times_functions import categorize_total_laps\n",
    "from pit_stop_functions import get_pit_stop_stats_in_miliseconds\n",
    "from pit_stop_functions import get_most_common_pit_stop_lap\n",
    "from pit_stop_functions import categorize_pitstop_lap\n",
    "from constructor_table import get_drivers_with_constructor_relationship\n",
    "from constructor_table import get_constructor_points\n",
    "from drivers_functions import get_age_at_first_race\n",
    "from drivers_functions import get_age_at_each_race\n",
    "from circuits_functions import get_best_performing_circuits\n",
    "from results_functions import get_most_common_positions\n",
    "from utils import number_to_words\n",
    "from utils import categorize_position"
   ]
  },
  {
   "cell_type": "markdown",
   "id": "4d167bc9",
   "metadata": {},
   "source": [
    "Connecting to the database"
   ]
  },
  {
   "cell_type": "code",
   "execution_count": null,
   "id": "9791551f",
   "metadata": {},
   "outputs": [],
   "source": [
    "conn = sqlite3.connect('formula1.db')"
   ]
  },
  {
   "cell_type": "markdown",
   "id": "900da8b5",
   "metadata": {},
   "source": [
    "# Data Agreggation : races -> driver per year\n",
    "Calculating final driver positions per year"
   ]
  },
  {
   "cell_type": "code",
   "execution_count": null,
   "id": "18afc1b8",
   "metadata": {
    "scrolled": false
   },
   "outputs": [],
   "source": [
    "drivers_final_positions = calculate_final_driver_places(conn)"
   ]
  },
  {
   "cell_type": "code",
   "execution_count": null,
   "id": "8cf28f42",
   "metadata": {},
   "outputs": [],
   "source": [
    "driver_starting_year = get_age_at_first_race(conn)\n",
    "drivers_final_positions = pd.merge(drivers_final_positions, driver_starting_year, on=['driverId'], how='left')"
   ]
  },
  {
   "cell_type": "code",
   "execution_count": null,
   "id": "f7011a38",
   "metadata": {},
   "outputs": [],
   "source": [
    "driver_years = get_age_at_each_race(conn)\n",
    "drivers_final_positions = pd.merge(drivers_final_positions, driver_years, on=['driverId','year'], how='left')"
   ]
  },
  {
   "cell_type": "code",
   "execution_count": null,
   "id": "d991d81a",
   "metadata": {},
   "outputs": [],
   "source": [
    "drivers_final_positions"
   ]
  },
  {
   "cell_type": "code",
   "execution_count": null,
   "id": "bf08155c",
   "metadata": {},
   "outputs": [],
   "source": [
    "lap_times_stats = get_lap_times_stats(conn)"
   ]
  },
  {
   "cell_type": "code",
   "execution_count": null,
   "id": "ab65da15",
   "metadata": {},
   "outputs": [],
   "source": [
    "lap_positions = get_median_lap_position(conn)\n",
    "lap_times_stats = pd.merge(lap_times_stats, lap_positions, on=['driverId', 'year'], how='left')"
   ]
  },
  {
   "cell_type": "code",
   "execution_count": null,
   "id": "f80469e6",
   "metadata": {},
   "outputs": [],
   "source": [
    "lap_count = get_total_laps_count(conn)\n",
    "lap_times_stats = pd.merge(lap_times_stats, lap_count, on=['driverId', 'year'], how='left')"
   ]
  },
  {
   "cell_type": "code",
   "execution_count": null,
   "id": "7401965d",
   "metadata": {},
   "outputs": [],
   "source": [
    "lap_times_stats"
   ]
  },
  {
   "cell_type": "code",
   "execution_count": null,
   "id": "2e405b51",
   "metadata": {},
   "outputs": [],
   "source": [
    "pit_stop_stats = get_pit_stop_stats_in_miliseconds(conn)"
   ]
  },
  {
   "cell_type": "code",
   "execution_count": null,
   "id": "f0f577e5",
   "metadata": {},
   "outputs": [],
   "source": [
    "most_common_pit_stop_lap = get_most_common_pit_stop_lap(conn)\n",
    "pit_stop_stats = pd.merge(pit_stop_stats, most_common_pit_stop_lap, on=['driverId', 'year'], how='left')"
   ]
  },
  {
   "cell_type": "code",
   "execution_count": null,
   "id": "97ca9306",
   "metadata": {},
   "outputs": [],
   "source": [
    "pit_stop_stats"
   ]
  },
  {
   "cell_type": "code",
   "execution_count": null,
   "id": "ff9f9bc9",
   "metadata": {},
   "outputs": [],
   "source": [
    "constructor_driver_connection = get_drivers_with_constructor_relationship(conn)"
   ]
  },
  {
   "cell_type": "code",
   "execution_count": null,
   "id": "bf8ccc72",
   "metadata": {},
   "outputs": [],
   "source": [
    "drivers_with_constructors = pd.merge(drivers_final_positions, constructor_driver_connection, on=['driverId', 'year'], how='left')"
   ]
  },
  {
   "cell_type": "code",
   "execution_count": null,
   "id": "944669c1",
   "metadata": {},
   "outputs": [],
   "source": [
    "connstructor_points = get_constructor_points(conn)"
   ]
  },
  {
   "cell_type": "code",
   "execution_count": null,
   "id": "5a3ca085",
   "metadata": {},
   "outputs": [],
   "source": [
    "drivers_with_constructors = pd.merge(drivers_with_constructors, connstructor_points, on=['constructorId', 'year'], how='left')"
   ]
  },
  {
   "cell_type": "code",
   "execution_count": null,
   "id": "ae48f100",
   "metadata": {},
   "outputs": [],
   "source": [
    "best_performing_circuits = get_best_performing_circuits(conn)\n",
    "drivers_with_constructors = pd.merge(drivers_with_constructors, best_performing_circuits, on=['year','driverId' ], how='left')"
   ]
  },
  {
   "cell_type": "code",
   "execution_count": null,
   "id": "87eb9fc0",
   "metadata": {},
   "outputs": [],
   "source": [
    "drivers_with_constructors"
   ]
  },
  {
   "cell_type": "code",
   "execution_count": null,
   "id": "8a219d0a",
   "metadata": {},
   "outputs": [],
   "source": [
    "lap_pit_df = pd.merge(lap_times_stats, pit_stop_stats, on=['driverId', 'year'], how='left', suffixes=('_lap', '_pit'))"
   ]
  },
  {
   "cell_type": "code",
   "execution_count": null,
   "id": "7fb7e4e4",
   "metadata": {},
   "outputs": [],
   "source": [
    "lap_pit_df"
   ]
  },
  {
   "cell_type": "code",
   "execution_count": null,
   "id": "37426bc7",
   "metadata": {},
   "outputs": [],
   "source": [
    "final_df = pd.merge(drivers_with_constructors, lap_pit_df, on=['driverId', 'year'], how='left')"
   ]
  },
  {
   "cell_type": "code",
   "execution_count": null,
   "id": "c5b99a09",
   "metadata": {},
   "outputs": [],
   "source": [
    "positions = get_most_common_positions(conn)"
   ]
  },
  {
   "cell_type": "code",
   "execution_count": null,
   "id": "62dd56d3",
   "metadata": {},
   "outputs": [],
   "source": [
    "final_df = pd.merge(final_df, positions, on=['driverId', 'year'], how='left')"
   ]
  },
  {
   "cell_type": "code",
   "execution_count": null,
   "id": "9b78c014",
   "metadata": {},
   "outputs": [],
   "source": [
    "final_df = final_df.drop_duplicates(['driverId', 'year'])"
   ]
  },
  {
   "cell_type": "code",
   "execution_count": null,
   "id": "e8d17060",
   "metadata": {},
   "outputs": [],
   "source": [
    "final_df"
   ]
  },
  {
   "cell_type": "markdown",
   "id": "85aaad23",
   "metadata": {},
   "source": [
    "# Feature Creation\n",
    "Calculating various counts based on historical data"
   ]
  },
  {
   "cell_type": "code",
   "execution_count": null,
   "id": "1d884ec5",
   "metadata": {},
   "outputs": [],
   "source": [
    "final_df = final_df.sort_values(by=['year', 'driverId'])\n",
    "\n",
    "for index, row in final_df.iterrows():\n",
    "    temp_df = final_df[(final_df['driverId'] == row['driverId']) & (final_df['year'] <= row['year'])]\n",
    "    \n",
    "    first_place_count = temp_df[temp_df['driver_end_position'] == 1].shape[0]\n",
    "    second_place_count = temp_df[temp_df['driver_end_position'] == 2].shape[0]\n",
    "    third_place_count = temp_df[temp_df['driver_end_position'] == 3].shape[0]\n",
    "    top_5_count = temp_df[temp_df['driver_end_position'] <= 5].shape[0]\n",
    "\n",
    "    final_df.at[index, 'driver_first_place_count'] = first_place_count\n",
    "    final_df.at[index, 'driver_second_place_count'] = second_place_count\n",
    "    final_df.at[index, 'driver_third_place_count'] = third_place_count\n",
    "    final_df.at[index, 'driver_top_5_place_count'] = top_5_count\n"
   ]
  },
  {
   "cell_type": "code",
   "execution_count": null,
   "id": "7d9135c8",
   "metadata": {},
   "outputs": [],
   "source": [
    "final_df = final_df.sort_values(by=['year', 'constructorId'])\n",
    "\n",
    "for index, row in final_df.iterrows():\n",
    "    temp_df = final_df[(final_df['constructorId'] == row['constructorId']) & (final_df['year'] <= row['year'])]\n",
    "    \n",
    "    temp_first_place_count = temp_df[temp_df['constructor_place'] == 1].shape[0]\n",
    "    temp_second_place_count = temp_df[temp_df['constructor_place'] == 2].shape[0]\n",
    "    temp_third_place_count = temp_df[temp_df['constructor_place'] == 3].shape[0]\n",
    "    temp_top_5_count = temp_df[temp_df['constructor_place'] <= 5].shape[0]\n",
    "    \n",
    "    final_df.at[index, 'constructor_first_place_count'] = temp_first_place_count\n",
    "    final_df.at[index, 'constructor_second_place_count'] = temp_second_place_count\n",
    "    final_df.at[index, 'constructor_third_place_count'] = temp_third_place_count\n",
    "    final_df.at[index, 'constructor_top_5_place_count'] = temp_top_5_count"
   ]
  },
  {
   "cell_type": "code",
   "execution_count": null,
   "id": "ee566cb7",
   "metadata": {},
   "outputs": [],
   "source": [
    "final_df"
   ]
  },
  {
   "cell_type": "markdown",
   "id": "ddc24972",
   "metadata": {},
   "source": [
    "# Diskretization"
   ]
  },
  {
   "cell_type": "code",
   "execution_count": null,
   "id": "36f2ee3c",
   "metadata": {},
   "outputs": [],
   "source": [
    "columns_to_discretize = ['min_lap_time_diff', 'avg_lap_time_diff', 'max_lap_time_diff']\n",
    "labels = ['0-25%', '25-50%', '50% and more']\n",
    "\n",
    "for col in columns_to_discretize:\n",
    "    if col == 'min_lap_time_diff':\n",
    "        custom_bin_edges = [final_df[col].min(), 0.1, final_df[col].quantile(0.5), final_df[col].max()]\n",
    "        final_df[col] = pd.cut(final_df[col], bins=custom_bin_edges, include_lowest=True, duplicates='drop', labels=labels)\n",
    "    else:\n",
    "        bin_edges = [final_df[col].min(), final_df[col].quantile(0.25), final_df[col].quantile(0.5), final_df[col].max()]\n",
    "        final_df[col] = pd.cut(final_df[col], bins=bin_edges, include_lowest=True, duplicates='drop', labels=labels)"
   ]
  },
  {
   "cell_type": "code",
   "execution_count": null,
   "id": "fad2197a",
   "metadata": {},
   "outputs": [],
   "source": [
    "categorical_columns = ['min_lap_time_diff', 'avg_lap_time_diff', 'max_lap_time_diff']\n",
    "\n",
    "for col in categorical_columns:\n",
    "    final_df[col] = final_df[col].astype('category').cat.add_categories('Unknown')\n",
    "    final_df[col].fillna('Unknown', inplace=True)"
   ]
  },
  {
   "cell_type": "code",
   "execution_count": null,
   "id": "05d5b360",
   "metadata": {},
   "outputs": [],
   "source": [
    "columns_to_discretize = ['min_pit_stop_time', 'avg_pit_time', 'max_pit_stop_time']\n",
    "labels = ['0-25%', '25-50%', '50% and more']\n",
    "\n",
    "for col in columns_to_discretize:\n",
    "    if col in pit_stop_stats.columns:\n",
    "        bin_edges = [final_df[col].min(), final_df[col].quantile(0.25), final_df[col].quantile(0.5), final_df[col].max()]\n",
    "        final_df[col] = pd.cut(final_df[col], bins=bin_edges, include_lowest=True, duplicates='drop', labels=labels)"
   ]
  },
  {
   "cell_type": "code",
   "execution_count": null,
   "id": "f421c951",
   "metadata": {},
   "outputs": [],
   "source": [
    "categorical_columns = ['min_pit_stop_time', 'avg_pit_time', 'max_pit_stop_time']\n",
    "\n",
    "for col in categorical_columns:\n",
    "    final_df[col] = final_df[col].astype('category').cat.add_categories('Unknown')\n",
    "    final_df[col].fillna('Unknown', inplace=True)"
   ]
  },
  {
   "cell_type": "code",
   "execution_count": null,
   "id": "1fe1367b",
   "metadata": {},
   "outputs": [],
   "source": [
    "final_df['total_laps'] = final_df['total_laps'].apply(categorize_total_laps)"
   ]
  },
  {
   "cell_type": "code",
   "execution_count": null,
   "id": "fc0bd722",
   "metadata": {},
   "outputs": [],
   "source": [
    "final_df"
   ]
  },
  {
   "cell_type": "code",
   "execution_count": null,
   "id": "5b811af6",
   "metadata": {},
   "outputs": [],
   "source": [
    "final_df['most_common_ending_position'] = final_df['most_common_ending_position'].replace({'\\\\N': 'Did Not Finish'})"
   ]
  },
  {
   "cell_type": "code",
   "execution_count": null,
   "id": "734e3130",
   "metadata": {},
   "outputs": [],
   "source": [
    "final_df['most_common_starting_position'] = final_df['most_common_starting_position'].replace(0, 'Unknown')"
   ]
  },
  {
   "cell_type": "code",
   "execution_count": null,
   "id": "649d9be8",
   "metadata": {},
   "outputs": [],
   "source": [
    "final_df['most_common_pitstop_lap'] = final_df['most_common_pitstop_lap'].apply(categorize_pitstop_lap)\n",
    "\n",
    "final_df['most_common_starting_position'] = pd.to_numeric(positions['most_common_starting_position'], errors='coerce')\n",
    "final_df['most_common_ending_position'] = pd.to_numeric(positions['most_common_ending_position'], errors='coerce')\n",
    "\n",
    "final_df['most_common_starting_position'] = final_df['most_common_starting_position'].apply(categorize_position)\n",
    "final_df['most_common_ending_position'] = final_df['most_common_ending_position'].apply(categorize_position)"
   ]
  },
  {
   "cell_type": "code",
   "execution_count": null,
   "id": "52ca8b8f",
   "metadata": {},
   "outputs": [],
   "source": [
    "final_df"
   ]
  },
  {
   "cell_type": "markdown",
   "id": "cdc3cda5",
   "metadata": {},
   "source": [
    "# Dealing with NaN Values\n",
    "Converting NaN values in categorical columns to 'Unknown'"
   ]
  },
  {
   "cell_type": "code",
   "execution_count": null,
   "id": "a19e5b53",
   "metadata": {
    "scrolled": true
   },
   "outputs": [],
   "source": [
    "final_df.info()"
   ]
  },
  {
   "cell_type": "code",
   "execution_count": null,
   "id": "3640326a",
   "metadata": {},
   "outputs": [],
   "source": [
    "columns_to_fill_with_zero = ['constructor_points', 'constructor_place', 'median_lap_position']\n",
    "final_df[columns_to_fill_with_zero] = final_df[columns_to_fill_with_zero].fillna(0)"
   ]
  },
  {
   "cell_type": "code",
   "execution_count": null,
   "id": "3a6e6b16",
   "metadata": {},
   "outputs": [],
   "source": [
    "final_df['driver_first_place_count'] = final_df['driver_second_place_count'].astype(int)\n",
    "final_df['driver_second_place_count'] = final_df['driver_second_place_count'].astype(int)\n",
    "final_df['driver_third_place_count'] = final_df['driver_top_5_place_count'].astype(int)\n",
    "final_df['driver_top_5_place_count'] = final_df['driver_top_5_place_count'].astype(int)\n",
    "final_df['driver_points'] = final_df['driver_points'].astype(int)\n",
    "final_df['driver_end_position'] = final_df['driver_end_position'].astype(int)\n",
    "final_df['age_at_first_race'] = final_df['age_at_first_race'].astype(int)\n",
    "final_df['age_at_race'] = final_df['age_at_race'].astype(int)\n",
    "final_df['median_lap_position'] = final_df['median_lap_position'].astype(int)\n",
    "final_df['constructor_points'] = final_df['constructor_points'].astype(int)\n",
    "final_df['constructor_place'] = final_df['constructor_place'].astype(int)\n",
    "final_df['constructor_first_place_count'] = final_df['constructor_first_place_count'].astype(int)\n",
    "final_df['constructor_second_place_count'] = final_df['constructor_second_place_count'].astype(int)\n",
    "final_df['constructor_third_place_count'] = final_df['constructor_third_place_count'].astype(int)\n",
    "final_df['constructor_top_5_place_count'] = final_df['constructor_top_5_place_count'].astype(int)\n",
    "final_df['constructor_first_place_count'] = final_df['constructor_first_place_count'].astype(int)\n",
    "final_df['constructor_second_place_count'] = final_df['constructor_second_place_count'].astype(int)\n",
    "final_df['constructor_third_place_count'] = final_df['constructor_third_place_count'].astype(int)\n",
    "final_df['constructor_top_5_place_count'] = final_df['constructor_top_5_place_count'].astype(int)\n",
    "final_df['constructor_points'] = final_df['constructor_points'].astype(int)\n",
    "final_df['constructor_place'] = final_df['constructor_place'].astype(int)"
   ]
  },
  {
   "cell_type": "code",
   "execution_count": null,
   "id": "d1fe0d83",
   "metadata": {},
   "outputs": [],
   "source": [
    "lap_times_stats['median_lap_position'] = lap_times_stats['median_lap_position'].replace(0, 'Unknown')"
   ]
  },
  {
   "cell_type": "markdown",
   "id": "64f630e1",
   "metadata": {},
   "source": [
    "# Aggregation: driver per year -> driver"
   ]
  },
  {
   "cell_type": "code",
   "execution_count": null,
   "id": "71ae4d17",
   "metadata": {},
   "outputs": [],
   "source": [
    "df = final_df.sort_values(by='year', ascending=False)\n",
    "\n",
    "numeric_columns = ['year','driver_points', 'driver_end_position', 'constructor_points', 'constructor_place','median_lap_position', 'total_laps']\n",
    "df[numeric_columns] = df[numeric_columns].apply(pd.to_numeric, errors='coerce')\n",
    "\n",
    "aggregation_functions = {\n",
    "    'year': 'max',\n",
    "    'driver_nationality': 'first',\n",
    "    'age_at_first_race': 'first',\n",
    "    'driver_first_place_count': 'first',\n",
    "    'driver_second_place_count': 'first',\n",
    "    'driver_third_place_count': 'first',\n",
    "    'driver_top_5_place_count': 'first',\n",
    "    'constructorName': 'first',\n",
    "    'constructor_nationality': 'first',\n",
    "    'constructor_first_place_count': 'first',\n",
    "    'constructor_second_place_count': 'first',\n",
    "    'constructor_third_place_count': 'first',\n",
    "    'constructor_top_5_place_count': 'first',\n",
    "    'best_performing_circuit_name': lambda x: x.mode().iloc[0], \n",
    "    'min_lap_time_diff': lambda x: x.mode().iloc[0],\n",
    "    'avg_lap_time_diff': lambda x: x.mode().iloc[0],\n",
    "    'max_lap_time_diff': lambda x: x.mode().iloc[0],\n",
    "    'median_lap_position':lambda x: round(x.mean()) if x.notna().any() else 'Unknown',\n",
    "    'min_pit_stop_time': lambda x: x.mode().iloc[0],\n",
    "    'avg_pit_time': lambda x: x.mode().iloc[0],\n",
    "    'max_pit_stop_time': lambda x: x.mode().iloc[0],\n",
    "    'most_common_pitstop_lap': lambda x: x.mode().iloc[0],\n",
    "    'most_common_starting_position': lambda x: x.mode().iloc[0] if x.notna().any() else 'Unknown',\n",
    "    'most_common_ending_position': lambda x: x.mode().iloc[0] \n",
    "}\n",
    "\n",
    "aggregated_df = df.groupby('driverId').agg(aggregation_functions)\n",
    "\n",
    "aggregated_df = aggregated_df.reset_index()"
   ]
  },
  {
   "cell_type": "code",
   "execution_count": null,
   "id": "358264d8",
   "metadata": {},
   "outputs": [],
   "source": [
    "aggregated_df = aggregated_df.drop(['year', 'driverId'], axis=1)"
   ]
  },
  {
   "cell_type": "code",
   "execution_count": null,
   "id": "f91b6a7c",
   "metadata": {},
   "outputs": [],
   "source": [
    "drivers_lost = aggregated_df[aggregated_df['driver_top_5_place_count'] == 0]\n",
    "drivers_won = aggregated_df[aggregated_df['driver_top_5_place_count'] != 0]"
   ]
  },
  {
   "cell_type": "code",
   "execution_count": null,
   "id": "12fcaf33",
   "metadata": {},
   "outputs": [],
   "source": [
    "drivers_lost"
   ]
  },
  {
   "cell_type": "code",
   "execution_count": null,
   "id": "a7f097d8",
   "metadata": {},
   "outputs": [],
   "source": [
    "drivers_won"
   ]
  },
  {
   "cell_type": "code",
   "execution_count": null,
   "id": "28669264",
   "metadata": {},
   "outputs": [],
   "source": [
    "columns_to_convert = ['driver_first_place_count','driver_second_place_count','driver_third_place_count','driver_top_5_place_count','age_at_first_race','constructor_first_place_count','constructor_second_place_count','constructor_third_place_count','constructor_top_5_place_count', 'median_lap_position']\n",
    "drivers_won[columns_to_convert] = drivers_won[columns_to_convert].fillna(0).astype(int)\n",
    "\n",
    "drivers_won[columns_to_convert] = drivers_won[columns_to_convert].apply(pd.to_numeric, errors='coerce')\n",
    "\n",
    "drivers_won[columns_to_convert] = drivers_won[columns_to_convert].applymap(number_to_words)\n",
    "\n",
    "print(drivers_won)\n"
   ]
  },
  {
   "cell_type": "code",
   "execution_count": null,
   "id": "68e1972c",
   "metadata": {},
   "outputs": [],
   "source": [
    "columns_to_convert = ['driver_first_place_count','driver_second_place_count','driver_third_place_count','driver_top_5_place_count','age_at_first_race','constructor_first_place_count','constructor_second_place_count','constructor_third_place_count','constructor_top_5_place_count', 'median_lap_position']\n",
    "drivers_lost[columns_to_convert] = drivers_lost[columns_to_convert].fillna(0).astype(int)\n",
    "\n",
    "drivers_lost[columns_to_convert] = drivers_lost[columns_to_convert].apply(pd.to_numeric, errors='coerce')\n",
    "\n",
    "drivers_lost[columns_to_convert] = drivers_lost[columns_to_convert].applymap(number_to_words)\n",
    "\n",
    "print(drivers_lost)\n",
    "\n"
   ]
  },
  {
   "cell_type": "code",
   "execution_count": null,
   "id": "063156ad",
   "metadata": {},
   "outputs": [],
   "source": [
    "columns_to_convert = ['driver_first_place_count','driver_second_place_count','driver_third_place_count','driver_top_5_place_count','age_at_first_race','constructor_first_place_count','constructor_second_place_count','constructor_third_place_count','constructor_top_5_place_count', 'median_lap_position']\n",
    "aggregated_df[columns_to_convert] = aggregated_df[columns_to_convert].fillna(0).astype(int)\n",
    "\n",
    "aggregated_df[columns_to_convert] = aggregated_df[columns_to_convert].apply(pd.to_numeric, errors='coerce')\n",
    "\n",
    "aggregated_df[columns_to_convert] = aggregated_df[columns_to_convert].applymap(number_to_words)\n",
    "\n",
    "print(aggregated_df)\n"
   ]
  },
  {
   "cell_type": "code",
   "execution_count": null,
   "id": "22cdff9d",
   "metadata": {},
   "outputs": [],
   "source": [
    "aggregated_df.to_csv(\"../outputs/all_drivers.csv\", index=False, encoding='utf-8')"
   ]
  },
  {
   "cell_type": "code",
   "execution_count": null,
   "id": "a96e6076",
   "metadata": {},
   "outputs": [],
   "source": [
    "aggregated_df = aggregated_df[aggregated_df.ne('Unknown').all(axis=1)]"
   ]
  },
  {
   "cell_type": "code",
   "execution_count": null,
   "id": "f754dd48",
   "metadata": {},
   "outputs": [],
   "source": [
    "aggregated_df.to_csv(\"../outputs/all_drivers_withiut_unknown.csv\", index=False, encoding='utf-8')"
   ]
  },
  {
   "cell_type": "code",
   "execution_count": null,
   "id": "92a544a3",
   "metadata": {},
   "outputs": [],
   "source": [
    "drivers_won.to_csv(\"../outputs/winning_drivers.csv\", index=False, encoding='utf-8')"
   ]
  },
  {
   "cell_type": "code",
   "execution_count": null,
   "id": "6a35d04f",
   "metadata": {},
   "outputs": [],
   "source": [
    "drivers_won = drivers_won[drivers_won.ne('Unknown').all(axis=1)]"
   ]
  },
  {
   "cell_type": "code",
   "execution_count": null,
   "id": "7b5cb264",
   "metadata": {},
   "outputs": [],
   "source": [
    "drivers_won.to_csv(\"../outputs/winning_drivers_without_unknown.csv\", index=False, encoding='utf-8')"
   ]
  },
  {
   "cell_type": "code",
   "execution_count": null,
   "id": "941acee6",
   "metadata": {},
   "outputs": [],
   "source": [
    "drivers_lost.to_csv(\"../outputs/losing_drivers.csv\", index=False, encoding='utf-8')"
   ]
  },
  {
   "cell_type": "code",
   "execution_count": null,
   "id": "10af6838",
   "metadata": {},
   "outputs": [],
   "source": [
    "drivers_lost = drivers_lost[drivers_lost.ne('Unknown').all(axis=1)]"
   ]
  },
  {
   "cell_type": "code",
   "execution_count": null,
   "id": "f5c373b2",
   "metadata": {},
   "outputs": [],
   "source": [
    "drivers_lost.to_csv(\"../outputs/losing_drivers_without_unknown.csv\", index=False, encoding='utf-8')"
   ]
  },
  {
   "cell_type": "code",
   "execution_count": null,
   "id": "c34fc480",
   "metadata": {},
   "outputs": [],
   "source": []
  }
 ],
 "metadata": {
  "kernelspec": {
   "display_name": "Python 3 (ipykernel)",
   "language": "python",
   "name": "python3"
  },
  "language_info": {
   "codemirror_mode": {
    "name": "ipython",
    "version": 3
   },
   "file_extension": ".py",
   "mimetype": "text/x-python",
   "name": "python",
   "nbconvert_exporter": "python",
   "pygments_lexer": "ipython3",
   "version": "3.11.5"
  }
 },
 "nbformat": 4,
 "nbformat_minor": 5
}
