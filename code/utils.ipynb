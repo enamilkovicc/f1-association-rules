{
 "cells": [
  {
   "cell_type": "code",
   "execution_count": 1,
   "id": "95d2f74b",
   "metadata": {},
   "outputs": [],
   "source": [
    "import inflect"
   ]
  },
  {
   "cell_type": "code",
   "execution_count": 2,
   "id": "e5deeead",
   "metadata": {},
   "outputs": [],
   "source": [
    "def number_to_words(number):\n",
    "    p = inflect.engine()\n",
    "    return p.number_to_words(number)"
   ]
  },
  {
   "cell_type": "code",
   "execution_count": 3,
   "id": "c6c19a14",
   "metadata": {},
   "outputs": [],
   "source": [
    "def categorize_position(position):\n",
    "    if isinstance(position, str):\n",
    "        return 'Unknown'\n",
    "    if position <= 5:\n",
    "        return 'Top 5'\n",
    "    elif position <= 10:\n",
    "        return 'Top 10'\n",
    "    else:\n",
    "        return 'Beyond Top 10'"
   ]
  }
 ],
 "metadata": {
  "kernelspec": {
   "display_name": "Python 3 (ipykernel)",
   "language": "python",
   "name": "python3"
  },
  "language_info": {
   "codemirror_mode": {
    "name": "ipython",
    "version": 3
   },
   "file_extension": ".py",
   "mimetype": "text/x-python",
   "name": "python",
   "nbconvert_exporter": "python",
   "pygments_lexer": "ipython3",
   "version": "3.11.5"
  }
 },
 "nbformat": 4,
 "nbformat_minor": 5
}
