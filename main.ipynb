{
 "cells": [
  {
   "cell_type": "code",
   "execution_count": 1,
   "id": "43ca8a0d",
   "metadata": {},
   "outputs": [
    {
     "name": "stdout",
     "output_type": "stream",
     "text": [
      "Requirement already satisfied: nbimporter in c:\\users\\ena\\anaconda3\\lib\\site-packages (0.3.4)\n"
     ]
    }
   ],
   "source": [
    "!pip install nbimporter"
   ]
  },
  {
   "cell_type": "code",
   "execution_count": 2,
   "id": "18afc1b8",
   "metadata": {
    "scrolled": true
   },
   "outputs": [
    {
     "name": "stdout",
     "output_type": "stream",
     "text": [
      "      year  driverId      driver_name  points  place\n",
      "73    1950       642      Nino Farina    30.0      1\n",
      "66    1950       579      Juan Fangio    27.0      2\n",
      "72    1950       786    Luigi Fagioli    24.0      3\n",
      "70    1950       627     Louis Rosier    13.0      4\n",
      "56    1950       647   Alberto Ascari    11.0      5\n",
      "...    ...       ...              ...     ...    ...\n",
      "3133  2022       855      Guanyu Zhou     6.0     18\n",
      "3136  2022       848  Alexander Albon     4.0     19\n",
      "3139  2022       849  Nicholas Latifi     2.0     20\n",
      "3145  2022       856    Nyck de Vries     2.0     20\n",
      "3140  2022       807  Nico Hülkenberg     0.0     22\n",
      "\n",
      "[3146 rows x 5 columns]\n"
     ]
    }
   ],
   "source": [
    "import sqlite3\n",
    "import pandas as pd\n",
    "import nbimporter\n",
    "from final_scores import calculate_final_driver_places \n",
    "\n",
    "conn = sqlite3.connect('formula1.db')\n",
    "\n",
    "drivers_final_positions = calculate_final_driver_places(conn)\n",
    "\n",
    "print(drivers_final_positions)"
   ]
  },
  {
   "cell_type": "code",
   "execution_count": 10,
   "id": "508cb87d",
   "metadata": {},
   "outputs": [
    {
     "name": "stdout",
     "output_type": "stream",
     "text": [
      "     driverId                               seasons_participated  \\\n",
      "0           1  [2007, 2008, 2009, 2010, 2011, 2012, 2013, 201...   \n",
      "1           2  [2000, 2001, 2002, 2003, 2004, 2005, 2006, 200...   \n",
      "2           3  [2006, 2007, 2008, 2009, 2010, 2011, 2012, 201...   \n",
      "3           4  [2001, 2003, 2004, 2005, 2006, 2007, 2008, 200...   \n",
      "4           5         [2007, 2008, 2009, 2010, 2011, 2012, 2013]   \n",
      "..        ...                                                ...   \n",
      "843       852                                       [2021, 2022]   \n",
      "844       853                                             [2021]   \n",
      "845       854                                       [2021, 2022]   \n",
      "846       855                                             [2022]   \n",
      "847       856                                             [2022]   \n",
      "\n",
      "     number_of_seasons  \n",
      "0                   16  \n",
      "1                   12  \n",
      "2                   11  \n",
      "3                   19  \n",
      "4                    7  \n",
      "..                 ...  \n",
      "843                  2  \n",
      "844                  1  \n",
      "845                  2  \n",
      "846                  1  \n",
      "847                  1  \n",
      "\n",
      "[848 rows x 3 columns]\n"
     ]
    }
   ],
   "source": [
    "driver_participation = drivers_final_positions.groupby(['driverId', 'year']).size().reset_index(name='participated')\n",
    "\n",
    "driver_seasons = driver_participation[driver_participation['participated'] > 0][['driverId', 'year']]\n",
    "\n",
    "driver_years_list = driver_seasons.groupby('driverId')['year'].apply(list).reset_index(name='seasons_participated')\n",
    "\n",
    "driver_years_list['number_of_seasons'] = driver_years_list['seasons_participated'].apply(len)\n",
    "\n",
    "print(driver_years_list)\n",
    "\n",
    "csv_file_path_reshaped = 'number_of_seasons.csv'\n",
    "driver_years_list.to_csv(csv_file_path_reshaped, index=False)"
   ]
  },
  {
   "cell_type": "code",
   "execution_count": 11,
   "id": "ed1eed05",
   "metadata": {},
   "outputs": [
    {
     "name": "stdout",
     "output_type": "stream",
     "text": [
      "Best Seasons:\n"
     ]
    },
    {
     "ename": "KeyError",
     "evalue": "\"['best_position'] not in index\"",
     "output_type": "error",
     "traceback": [
      "\u001b[1;31m---------------------------------------------------------------------------\u001b[0m",
      "\u001b[1;31mKeyError\u001b[0m                                  Traceback (most recent call last)",
      "Cell \u001b[1;32mIn[11], line 73\u001b[0m\n\u001b[0;32m     71\u001b[0m \u001b[38;5;66;03m# Display the results\u001b[39;00m\n\u001b[0;32m     72\u001b[0m \u001b[38;5;28mprint\u001b[39m(\u001b[38;5;124m\"\u001b[39m\u001b[38;5;124mBest Seasons:\u001b[39m\u001b[38;5;124m\"\u001b[39m)\n\u001b[1;32m---> 73\u001b[0m \u001b[38;5;28mprint\u001b[39m(best_seasons[[\u001b[38;5;124m'\u001b[39m\u001b[38;5;124mdriverId\u001b[39m\u001b[38;5;124m'\u001b[39m, \u001b[38;5;124m'\u001b[39m\u001b[38;5;124myear\u001b[39m\u001b[38;5;124m'\u001b[39m, \u001b[38;5;124m'\u001b[39m\u001b[38;5;124mpoints\u001b[39m\u001b[38;5;124m'\u001b[39m, \u001b[38;5;124m'\u001b[39m\u001b[38;5;124mbest_position\u001b[39m\u001b[38;5;124m'\u001b[39m, \u001b[38;5;124m'\u001b[39m\u001b[38;5;124mlap_positions\u001b[39m\u001b[38;5;124m'\u001b[39m, \u001b[38;5;124m'\u001b[39m\u001b[38;5;124mnumber_of_seasons\u001b[39m\u001b[38;5;124m'\u001b[39m]])\n\u001b[0;32m     75\u001b[0m \u001b[38;5;28mprint\u001b[39m(\u001b[38;5;124m\"\u001b[39m\u001b[38;5;130;01m\\n\u001b[39;00m\u001b[38;5;124mWorst Seasons:\u001b[39m\u001b[38;5;124m\"\u001b[39m)\n\u001b[0;32m     76\u001b[0m \u001b[38;5;28mprint\u001b[39m(worst_seasons[[\u001b[38;5;124m'\u001b[39m\u001b[38;5;124mdriverId\u001b[39m\u001b[38;5;124m'\u001b[39m, \u001b[38;5;124m'\u001b[39m\u001b[38;5;124myear\u001b[39m\u001b[38;5;124m'\u001b[39m, \u001b[38;5;124m'\u001b[39m\u001b[38;5;124mpoints\u001b[39m\u001b[38;5;124m'\u001b[39m, \u001b[38;5;124m'\u001b[39m\u001b[38;5;124mworst_position\u001b[39m\u001b[38;5;124m'\u001b[39m, \u001b[38;5;124m'\u001b[39m\u001b[38;5;124mlap_positions\u001b[39m\u001b[38;5;124m'\u001b[39m, \u001b[38;5;124m'\u001b[39m\u001b[38;5;124mnumber_of_seasons\u001b[39m\u001b[38;5;124m'\u001b[39m]])\n",
      "File \u001b[1;32m~\\anaconda3\\Lib\\site-packages\\pandas\\core\\frame.py:3767\u001b[0m, in \u001b[0;36mDataFrame.__getitem__\u001b[1;34m(self, key)\u001b[0m\n\u001b[0;32m   3765\u001b[0m     \u001b[38;5;28;01mif\u001b[39;00m is_iterator(key):\n\u001b[0;32m   3766\u001b[0m         key \u001b[38;5;241m=\u001b[39m \u001b[38;5;28mlist\u001b[39m(key)\n\u001b[1;32m-> 3767\u001b[0m     indexer \u001b[38;5;241m=\u001b[39m \u001b[38;5;28mself\u001b[39m\u001b[38;5;241m.\u001b[39mcolumns\u001b[38;5;241m.\u001b[39m_get_indexer_strict(key, \u001b[38;5;124m\"\u001b[39m\u001b[38;5;124mcolumns\u001b[39m\u001b[38;5;124m\"\u001b[39m)[\u001b[38;5;241m1\u001b[39m]\n\u001b[0;32m   3769\u001b[0m \u001b[38;5;66;03m# take() does not accept boolean indexers\u001b[39;00m\n\u001b[0;32m   3770\u001b[0m \u001b[38;5;28;01mif\u001b[39;00m \u001b[38;5;28mgetattr\u001b[39m(indexer, \u001b[38;5;124m\"\u001b[39m\u001b[38;5;124mdtype\u001b[39m\u001b[38;5;124m\"\u001b[39m, \u001b[38;5;28;01mNone\u001b[39;00m) \u001b[38;5;241m==\u001b[39m \u001b[38;5;28mbool\u001b[39m:\n",
      "File \u001b[1;32m~\\anaconda3\\Lib\\site-packages\\pandas\\core\\indexes\\base.py:5877\u001b[0m, in \u001b[0;36mIndex._get_indexer_strict\u001b[1;34m(self, key, axis_name)\u001b[0m\n\u001b[0;32m   5874\u001b[0m \u001b[38;5;28;01melse\u001b[39;00m:\n\u001b[0;32m   5875\u001b[0m     keyarr, indexer, new_indexer \u001b[38;5;241m=\u001b[39m \u001b[38;5;28mself\u001b[39m\u001b[38;5;241m.\u001b[39m_reindex_non_unique(keyarr)\n\u001b[1;32m-> 5877\u001b[0m \u001b[38;5;28mself\u001b[39m\u001b[38;5;241m.\u001b[39m_raise_if_missing(keyarr, indexer, axis_name)\n\u001b[0;32m   5879\u001b[0m keyarr \u001b[38;5;241m=\u001b[39m \u001b[38;5;28mself\u001b[39m\u001b[38;5;241m.\u001b[39mtake(indexer)\n\u001b[0;32m   5880\u001b[0m \u001b[38;5;28;01mif\u001b[39;00m \u001b[38;5;28misinstance\u001b[39m(key, Index):\n\u001b[0;32m   5881\u001b[0m     \u001b[38;5;66;03m# GH 42790 - Preserve name from an Index\u001b[39;00m\n",
      "File \u001b[1;32m~\\anaconda3\\Lib\\site-packages\\pandas\\core\\indexes\\base.py:5941\u001b[0m, in \u001b[0;36mIndex._raise_if_missing\u001b[1;34m(self, key, indexer, axis_name)\u001b[0m\n\u001b[0;32m   5938\u001b[0m     \u001b[38;5;28;01mraise\u001b[39;00m \u001b[38;5;167;01mKeyError\u001b[39;00m(\u001b[38;5;124mf\u001b[39m\u001b[38;5;124m\"\u001b[39m\u001b[38;5;124mNone of [\u001b[39m\u001b[38;5;132;01m{\u001b[39;00mkey\u001b[38;5;132;01m}\u001b[39;00m\u001b[38;5;124m] are in the [\u001b[39m\u001b[38;5;132;01m{\u001b[39;00maxis_name\u001b[38;5;132;01m}\u001b[39;00m\u001b[38;5;124m]\u001b[39m\u001b[38;5;124m\"\u001b[39m)\n\u001b[0;32m   5940\u001b[0m not_found \u001b[38;5;241m=\u001b[39m \u001b[38;5;28mlist\u001b[39m(ensure_index(key)[missing_mask\u001b[38;5;241m.\u001b[39mnonzero()[\u001b[38;5;241m0\u001b[39m]]\u001b[38;5;241m.\u001b[39munique())\n\u001b[1;32m-> 5941\u001b[0m \u001b[38;5;28;01mraise\u001b[39;00m \u001b[38;5;167;01mKeyError\u001b[39;00m(\u001b[38;5;124mf\u001b[39m\u001b[38;5;124m\"\u001b[39m\u001b[38;5;132;01m{\u001b[39;00mnot_found\u001b[38;5;132;01m}\u001b[39;00m\u001b[38;5;124m not in index\u001b[39m\u001b[38;5;124m\"\u001b[39m)\n",
      "\u001b[1;31mKeyError\u001b[0m: \"['best_position'] not in index\""
     ]
    }
   ],
   "source": [
    "import json\n",
    "import sqlite3\n",
    "import pandas as pd\n",
    "\n",
    "# Function to calculate lap positions\n",
    "def calculate_lap_positions(conn):\n",
    "    # Your SQL query\n",
    "    query = '''\n",
    "    WITH RankedPositions AS (\n",
    "        SELECT\n",
    "            d.driverId,\n",
    "            r.year,\n",
    "            lt.position AS position,\n",
    "            COUNT(lt.position) AS position_count,\n",
    "            ROW_NUMBER() OVER (PARTITION BY d.driverId, r.year ORDER BY COUNT(lt.position) DESC) AS position_rank,\n",
    "            COUNT(lt.position) OVER (PARTITION BY d.driverId, r.year) AS total_races\n",
    "        FROM\n",
    "            drivers d\n",
    "        JOIN\n",
    "            lap_times lt ON d.driverId = lt.driverId\n",
    "        JOIN\n",
    "            races r ON lt.raceId = r.raceId\n",
    "        GROUP BY\n",
    "            d.driverId, r.year, lt.position\n",
    "    )\n",
    "    SELECT\n",
    "        driverId,\n",
    "        year,\n",
    "        position,\n",
    "        position_count\n",
    "    FROM\n",
    "        RankedPositions\n",
    "    WHERE\n",
    "        position_rank <= 3\n",
    "    '''\n",
    "\n",
    "    # Execute the SQL query and read the result into a DataFrame\n",
    "    df = pd.read_sql_query(query, conn)\n",
    "\n",
    "    # Group by driverId and aggregate the lap positions into a list for each driver\n",
    "    lap_positions_json_df = df.groupby('driverId').apply(\n",
    "        lambda group: json.dumps({year: group[['position', 'position_count']].to_dict(orient='records') for year, group in group.groupby('year')})\n",
    "    ).reset_index(name='lap_positions')\n",
    "\n",
    "    return lap_positions_json_df\n",
    "\n",
    "# Function to calculate best and worst seasons\n",
    "def calculate_best_worst_seasons(drivers_final_positions, driver_years_list, lap_positions_json_df):\n",
    "    # Merge the lap positions DataFrame with the 'drivers_final_positions' DataFrame\n",
    "    drivers_final_positions = pd.merge(drivers_final_positions, lap_positions_json_df, on='driverId', how='left')\n",
    "\n",
    "    # Fill NaN values with an empty list\n",
    "    drivers_final_positions['lap_positions'].fillna(value='[]', inplace=True)\n",
    "\n",
    "    # Merge with the 'driver_years_list' DataFrame to get the number of seasons\n",
    "    drivers_final_positions = pd.merge(drivers_final_positions, driver_years_list[['driverId', 'number_of_seasons']], on='driverId', how='left')\n",
    "\n",
    "    # Identify best and worst seasons based on total points\n",
    "    best_seasons = drivers_final_positions.loc[drivers_final_positions.groupby('driverId')['points'].idxmax()]\n",
    "    worst_seasons = drivers_final_positions.loc[drivers_final_positions.groupby('driverId')['points'].idxmin()]\n",
    "\n",
    "    return best_seasons, worst_seasons\n",
    "\n",
    "# Connect to the database\n",
    "conn = sqlite3.connect('formula1-originalDB.db')\n",
    "\n",
    "# Call the functions to calculate lap positions and best/worst seasons\n",
    "lap_positions_json_df = calculate_lap_positions(conn)\n",
    "best_seasons, worst_seasons = calculate_best_worst_seasons(drivers_final_positions, driver_years_list, lap_positions_json_df)\n",
    "\n",
    "# Display the results\n",
    "print(\"Best Seasons:\")\n",
    "print(best_seasons[['driverId', 'year', 'points', 'best_position', 'lap_positions', 'number_of_seasons']])\n",
    "\n",
    "print(\"\\nWorst Seasons:\")\n",
    "print(worst_seasons[['driverId', 'year', 'points', 'worst_position', 'lap_positions', 'number_of_seasons']])\n"
   ]
  },
  {
   "cell_type": "code",
   "execution_count": null,
   "id": "61dc4cef",
   "metadata": {},
   "outputs": [],
   "source": []
  }
 ],
 "metadata": {
  "kernelspec": {
   "display_name": "Python 3 (ipykernel)",
   "language": "python",
   "name": "python3"
  },
  "language_info": {
   "codemirror_mode": {
    "name": "ipython",
    "version": 3
   },
   "file_extension": ".py",
   "mimetype": "text/x-python",
   "name": "python",
   "nbconvert_exporter": "python",
   "pygments_lexer": "ipython3",
   "version": "3.11.5"
  }
 },
 "nbformat": 4,
 "nbformat_minor": 5
}
