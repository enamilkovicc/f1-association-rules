{
 "cells": [
  {
   "cell_type": "code",
   "execution_count": 1,
   "id": "334d8a3d",
   "metadata": {},
   "outputs": [],
   "source": [
    "import pandas as pd\n",
    "import sqlite3"
   ]
  },
  {
   "cell_type": "code",
   "execution_count": 2,
   "id": "a990dac3",
   "metadata": {},
   "outputs": [],
   "source": [
    "def get_age_at_first_race(conn: str)-> pd.DataFrame:\n",
    "    \"\"\"\n",
    "    Calculate how old were the drivers when they first compeated.\n",
    "\n",
    "    :param conn: The database connection.\n",
    "    :return: A DataFrame containing driverId, and age_at_first_race columns.\n",
    "    \"\"\"\n",
    "    sql_query = '''\n",
    "    WITH DriverFirstRace AS (\n",
    "        SELECT\n",
    "            r.driverId,\n",
    "            MIN(ra.year) AS first_race_year\n",
    "        FROM\n",
    "            results r\n",
    "        JOIN\n",
    "            races ra ON r.raceId = ra.raceId\n",
    "        WHERE\n",
    "            ra.year <> 2023\n",
    "        GROUP BY\n",
    "            r.driverId\n",
    "    )\n",
    "    SELECT\n",
    "        d.driverId,\n",
    "        ra.year - CAST(strftime('%Y', d.dob) AS INTEGER) AS age_at_first_race\n",
    "    FROM\n",
    "        drivers d\n",
    "    JOIN\n",
    "        DriverFirstRace df ON d.driverId = df.driverId\n",
    "    JOIN\n",
    "        races ra ON df.first_race_year = ra.year\n",
    "    GROUP BY\n",
    "        d.driverId;\n",
    "    '''\n",
    "    df = pd.read_sql_query(sql_query, conn)\n",
    "\n",
    "    return df"
   ]
  },
  {
   "cell_type": "code",
   "execution_count": null,
   "id": "38efa2d8",
   "metadata": {},
   "outputs": [],
   "source": [
    "def get_age_at_each_race(conn: str) -> pd.DataFrame:\n",
    "    \"\"\"\n",
    "    Calculate the age of drivers for each race year.\n",
    "\n",
    "    :param conn: The database connection.\n",
    "    :return: A DataFrame containing driverId, race_year, and age_at_race columns.\n",
    "    \"\"\"\n",
    "    sql_query = '''\n",
    "    SELECT\n",
    "        r.driverId,\n",
    "        ra.year AS year,\n",
    "        ra.year - CAST(strftime('%Y', d.dob) AS INTEGER) AS age_at_race\n",
    "    FROM\n",
    "        results r\n",
    "    JOIN\n",
    "        races ra ON r.raceId = ra.raceId\n",
    "    JOIN\n",
    "        drivers d ON r.driverId = d.driverId\n",
    "    WHERE\n",
    "        ra.year <> 2023;\n",
    "    '''\n",
    "    df = pd.read_sql_query(sql_query, conn)\n",
    "\n",
    "    return df"
   ]
  }
 ],
 "metadata": {
  "kernelspec": {
   "display_name": "Python 3 (ipykernel)",
   "language": "python",
   "name": "python3"
  },
  "language_info": {
   "codemirror_mode": {
    "name": "ipython",
    "version": 3
   },
   "file_extension": ".py",
   "mimetype": "text/x-python",
   "name": "python",
   "nbconvert_exporter": "python",
   "pygments_lexer": "ipython3",
   "version": "3.11.5"
  }
 },
 "nbformat": 4,
 "nbformat_minor": 5
}
