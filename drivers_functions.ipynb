{
 "cells": [
  {
   "cell_type": "code",
   "execution_count": 4,
   "id": "3f70c7b9",
   "metadata": {},
   "outputs": [],
   "source": [
    "import pandas as pd\n",
    "def create_drivers_df(conn):\n",
    "    driver_query = '''\n",
    "        SELECT\n",
    "            driverId,\n",
    "            forename,\n",
    "            surname,\n",
    "            nationality,\n",
    "            dob\n",
    "        FROM\n",
    "            drivers\n",
    "    '''\n",
    "    drivers = pd.read_sql_query(driver_query, conn)\n",
    "\n",
    "    return drivers\n"
   ]
  },
  {
   "cell_type": "code",
   "execution_count": null,
   "id": "00cba026",
   "metadata": {},
   "outputs": [],
   "source": []
  }
 ],
 "metadata": {
  "kernelspec": {
   "display_name": "Python 3 (ipykernel)",
   "language": "python",
   "name": "python3"
  },
  "language_info": {
   "codemirror_mode": {
    "name": "ipython",
    "version": 3
   },
   "file_extension": ".py",
   "mimetype": "text/x-python",
   "name": "python",
   "nbconvert_exporter": "python",
   "pygments_lexer": "ipython3",
   "version": "3.11.5"
  }
 },
 "nbformat": 4,
 "nbformat_minor": 5
}
