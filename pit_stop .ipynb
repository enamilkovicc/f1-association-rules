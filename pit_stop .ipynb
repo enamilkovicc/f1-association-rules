{
 "cells": [
  {
   "cell_type": "code",
   "execution_count": 1,
   "id": "485cae6c",
   "metadata": {},
   "outputs": [
    {
     "name": "stdout",
     "output_type": "stream",
     "text": [
      "     driverId  forename     surname         dob nationality\n",
      "0           1     Lewis    Hamilton  1985-01-07     British\n",
      "1           2      Nick    Heidfeld  1977-05-10      German\n",
      "2           3      Nico     Rosberg  1985-06-27      German\n",
      "3           4  Fernando      Alonso  1981-07-29     Spanish\n",
      "4           5    Heikki  Kovalainen  1981-10-19     Finnish\n",
      "..        ...       ...         ...         ...         ...\n",
      "852       854      Mick  Schumacher  1999-03-22      German\n",
      "853       855    Guanyu        Zhou  1999-05-30     Chinese\n",
      "854       856      Nyck    de Vries  1995-02-06       Dutch\n",
      "855       857     Oscar     Piastri  2001-04-06  Australian\n",
      "856       858     Logan    Sargeant  2000-12-31    American\n",
      "\n",
      "[857 rows x 5 columns]\n"
     ]
    }
   ],
   "source": [
    "import json\n",
    "import sqlite3\n",
    "import pandas as pd\n",
    "conn = sqlite3.connect('formula1-originalDB.db')\n",
    "query = '''\n",
    "    SELECT\n",
    "        driverId,\n",
    "        forename,\n",
    "        surname,\n",
    "        dob,\n",
    "        nationality\n",
    "    FROM\n",
    "        drivers\n",
    "'''\n",
    "\n",
    "drivers = pd.read_sql_query(query, conn)\n",
    "\n",
    "print(drivers)"
   ]
  },
  {
   "cell_type": "code",
   "execution_count": 8,
   "id": "073f212d",
   "metadata": {},
   "outputs": [
    {
     "name": "stdout",
     "output_type": "stream",
     "text": [
      "     driverId  year  avg_pit_stops\n",
      "0           1  2011       2.267857\n",
      "1           1  2012       1.638889\n",
      "2           1  2013       1.844444\n",
      "3           1  2014       1.692308\n",
      "4           1  2015       1.846154\n",
      "..        ...   ...            ...\n",
      "291       855  2023       1.892857\n",
      "292       856  2022       1.000000\n",
      "293       856  2023       1.722222\n",
      "294       857  2023       1.789474\n",
      "295       858  2023       2.115385\n",
      "\n",
      "[296 rows x 3 columns]\n"
     ]
    }
   ],
   "source": [
    "query = '''\n",
    "SELECT\n",
    "    drivers.driverId,\n",
    "    races.year,\n",
    "    AVG(pit_stops.stop) AS avg_pit_stops\n",
    "FROM\n",
    "    drivers\n",
    "JOIN\n",
    "    pit_stops ON drivers.driverId = pit_stops.driverId\n",
    "JOIN\n",
    "    races ON pit_stops.raceId = races.raceId\n",
    "GROUP BY\n",
    "    drivers.driverId, races.year;\n",
    "'''\n",
    "\n",
    "\n",
    "df = pd.read_sql_query(query, conn)\n",
    "\n",
    "print(df)"
   ]
  },
  {
   "cell_type": "code",
   "execution_count": 14,
   "id": "fc64df89",
   "metadata": {},
   "outputs": [
    {
     "name": "stdout",
     "output_type": "stream",
     "text": [
      "     driverId  year   avg_pit_time\n",
      "0           1  2011   22666.446429\n",
      "1           1  2012   22671.861111\n",
      "2           1  2013   22399.111111\n",
      "3           1  2014   53061.974359\n",
      "4           1  2015   23666.000000\n",
      "..        ...   ...            ...\n",
      "291       855  2023  152159.535714\n",
      "292       856  2022   24628.000000\n",
      "293       856  2023  115816.888889\n",
      "294       857  2023  212774.842105\n",
      "295       858  2023   88475.884615\n",
      "\n",
      "[296 rows x 3 columns]\n"
     ]
    }
   ],
   "source": [
    "query = '''\n",
    "SELECT\n",
    "    drivers.driverId,\n",
    "    races.year,\n",
    "    AVG(pit_stops.milliseconds) AS avg_pit_time\n",
    "FROM\n",
    "    drivers \n",
    "JOIN\n",
    "     pit_stops ON drivers.driverId = pit_stops.driverId\n",
    "JOIN\n",
    "    races ON pit_stops.raceId = races.raceId\n",
    "GROUP BY\n",
    "    drivers.driverId, races.year;\n",
    "'''\n",
    "\n",
    "df = pd.read_sql_query(query, conn)\n",
    "\n",
    "print(df)"
   ]
  },
  {
   "cell_type": "code",
   "execution_count": 13,
   "id": "021afb04",
   "metadata": {},
   "outputs": [
    {
     "name": "stdout",
     "output_type": "stream",
     "text": [
      "     driverId  year  most_common_pitstop_lap\n",
      "0           1  2011                       16\n",
      "1           1  2012                       36\n",
      "2           1  2013                       31\n",
      "3           1  2014                       26\n",
      "4           1  2015                       13\n",
      "..        ...   ...                      ...\n",
      "291       855  2023                       54\n",
      "292       856  2022                       19\n",
      "293       856  2023                       27\n",
      "294       857  2023                       54\n",
      "295       858  2023                        8\n",
      "\n",
      "[296 rows x 3 columns]\n"
     ]
    }
   ],
   "source": [
    "query = '''\n",
    "WITH MostCommonPitStopLap AS (\n",
    "    SELECT\n",
    "        drivers.driverId,\n",
    "        races.year,\n",
    "        pit_stops.lap AS most_common_pitstop_lap,\n",
    "        ROW_NUMBER() OVER (PARTITION BY drivers.driverId, races.year ORDER BY COUNT(pit_stops.lap) DESC) AS lap_rank\n",
    "    FROM\n",
    "        drivers\n",
    "    JOIN\n",
    "        pit_stops ON drivers.driverId = pit_stops.driverId\n",
    "    JOIN\n",
    "        races ON pit_stops.raceId = races.raceId\n",
    "    GROUP BY\n",
    "        drivers.driverId, races.year, pit_stops.lap\n",
    ")\n",
    "SELECT\n",
    "    driverId,\n",
    "    year,\n",
    "    most_common_pitstop_lap\n",
    "FROM\n",
    "    MostCommonPitStopLap\n",
    "WHERE\n",
    "    lap_rank = 1;\n",
    "'''\n",
    "\n",
    "df = pd.read_sql_query(query, conn)\n",
    "\n",
    "print(df)"
   ]
  },
  {
   "cell_type": "code",
   "execution_count": null,
   "id": "86e93eea",
   "metadata": {},
   "outputs": [],
   "source": []
  }
 ],
 "metadata": {
  "kernelspec": {
   "display_name": "Python 3 (ipykernel)",
   "language": "python",
   "name": "python3"
  },
  "language_info": {
   "codemirror_mode": {
    "name": "ipython",
    "version": 3
   },
   "file_extension": ".py",
   "mimetype": "text/x-python",
   "name": "python",
   "nbconvert_exporter": "python",
   "pygments_lexer": "ipython3",
   "version": "3.11.5"
  }
 },
 "nbformat": 4,
 "nbformat_minor": 5
}
